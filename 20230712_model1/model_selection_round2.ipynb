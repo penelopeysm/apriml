{
 "cells": [
  {
   "cell_type": "markdown",
   "metadata": {},
   "source": [
    "# Model tuning, round 2\n",
    "\n",
    "- added new data\n",
    "- fixed a handful of mislabelled posts (mostly 0's which should have been 1's) from the last round\n",
    "\n",
    "We've learnt:\n",
    "\n",
    "- multinomial bag-of-words with bigrams included seems to be the best way of vectorisation\n",
    "- limiting features is a good thing\n",
    "- XGBoost seems to have the best performance out of everything we tried, followed by gradient boosting. But logistic regression was not too bad. (Other stuff we did was: naive Bayes, logistic regression, SVM, AdaBoost, random forest)\n",
    "\n",
    "The strategy this time round will be "
   ]
  },
  {
   "cell_type": "markdown",
   "metadata": {},
   "source": [
    "# Data import and cleaning (again)"
   ]
  },
  {
   "cell_type": "code",
   "execution_count": 1,
   "metadata": {},
   "outputs": [
    {
     "name": "stdout",
     "output_type": "stream",
     "text": [
      "Loaded 7709 posts\n"
     ]
    },
    {
     "data": {
      "text/html": [
       "<div>\n",
       "<style scoped>\n",
       "    .dataframe tbody tr th:only-of-type {\n",
       "        vertical-align: middle;\n",
       "    }\n",
       "\n",
       "    .dataframe tbody tr th {\n",
       "        vertical-align: top;\n",
       "    }\n",
       "\n",
       "    .dataframe thead th {\n",
       "        text-align: right;\n",
       "    }\n",
       "</style>\n",
       "<table border=\"1\" class=\"dataframe\">\n",
       "  <thead>\n",
       "    <tr style=\"text-align: right;\">\n",
       "      <th></th>\n",
       "      <th>id</th>\n",
       "      <th>title</th>\n",
       "      <th>body</th>\n",
       "      <th>submitter</th>\n",
       "      <th>time</th>\n",
       "      <th>flair</th>\n",
       "      <th>hit</th>\n",
       "      <th>vote</th>\n",
       "    </tr>\n",
       "  </thead>\n",
       "  <tbody>\n",
       "    <tr>\n",
       "      <th>0</th>\n",
       "      <td>13gxmuw</td>\n",
       "      <td>LF: Drilbur and Solosis FT: Ask</td>\n",
       "      <td>Hello! Im currently in the process of breeding...</td>\n",
       "      <td>Dracon715</td>\n",
       "      <td>2023-05-14 00:35:25</td>\n",
       "      <td>SMUSUM</td>\n",
       "      <td>True</td>\n",
       "      <td>False</td>\n",
       "    </tr>\n",
       "    <tr>\n",
       "      <th>1</th>\n",
       "      <td>13gx0eg</td>\n",
       "      <td>LF: 6IV Non-English Ditto FT: Apriballs, Abili...</td>\n",
       "      <td>I’ve got pretty much everything aside from ✨ m...</td>\n",
       "      <td>MistaKleen</td>\n",
       "      <td>2023-05-14 00:07:42</td>\n",
       "      <td>SV</td>\n",
       "      <td>True</td>\n",
       "      <td>False</td>\n",
       "    </tr>\n",
       "    <tr>\n",
       "      <th>2</th>\n",
       "      <td>13gwnha</td>\n",
       "      <td>LF H-Zoroark and Flabebe Codes, Jiseok Lee Gar...</td>\n",
       "      <td>Also open to other event offers!\\n\\n\\_\\_\\_\\_\\_...</td>\n",
       "      <td>ShaikhAndBake</td>\n",
       "      <td>2023-05-13 23:51:47</td>\n",
       "      <td>Event</td>\n",
       "      <td>False</td>\n",
       "      <td>False</td>\n",
       "    </tr>\n",
       "    <tr>\n",
       "      <th>3</th>\n",
       "      <td>13gw0vt</td>\n",
       "      <td>LF: Apriball Stonjourner, Yamask, Honedge, HA ...</td>\n",
       "      <td>Hi! I'm looking for a Stonjourner, Yamask, Hon...</td>\n",
       "      <td>Rainy_Days1115</td>\n",
       "      <td>2023-05-13 23:24:22</td>\n",
       "      <td>SWSH</td>\n",
       "      <td>True</td>\n",
       "      <td>True</td>\n",
       "    </tr>\n",
       "    <tr>\n",
       "      <th>4</th>\n",
       "      <td>13gw04b</td>\n",
       "      <td>LF: Sobble. FT: scarlet exclusives/raid exclusive</td>\n",
       "      <td>It's the only raid exclusive that I'm missing,...</td>\n",
       "      <td>gertygaming</td>\n",
       "      <td>2023-05-13 23:23:23</td>\n",
       "      <td>SV (Closed)</td>\n",
       "      <td>False</td>\n",
       "      <td>False</td>\n",
       "    </tr>\n",
       "  </tbody>\n",
       "</table>\n",
       "</div>"
      ],
      "text/plain": [
       "        id                                              title  \\\n",
       "0  13gxmuw                    LF: Drilbur and Solosis FT: Ask   \n",
       "1  13gx0eg  LF: 6IV Non-English Ditto FT: Apriballs, Abili...   \n",
       "2  13gwnha  LF H-Zoroark and Flabebe Codes, Jiseok Lee Gar...   \n",
       "3  13gw0vt  LF: Apriball Stonjourner, Yamask, Honedge, HA ...   \n",
       "4  13gw04b  LF: Sobble. FT: scarlet exclusives/raid exclusive   \n",
       "\n",
       "                                                body       submitter  \\\n",
       "0  Hello! Im currently in the process of breeding...       Dracon715   \n",
       "1  I’ve got pretty much everything aside from ✨ m...      MistaKleen   \n",
       "2  Also open to other event offers!\\n\\n\\_\\_\\_\\_\\_...   ShaikhAndBake   \n",
       "3  Hi! I'm looking for a Stonjourner, Yamask, Hon...  Rainy_Days1115   \n",
       "4  It's the only raid exclusive that I'm missing,...     gertygaming   \n",
       "\n",
       "                  time        flair    hit   vote  \n",
       "0  2023-05-14 00:35:25       SMUSUM   True  False  \n",
       "1  2023-05-14 00:07:42           SV   True  False  \n",
       "2  2023-05-13 23:51:47        Event  False  False  \n",
       "3  2023-05-13 23:24:22         SWSH   True   True  \n",
       "4  2023-05-13 23:23:23  SV (Closed)  False  False  "
      ]
     },
     "execution_count": 1,
     "metadata": {},
     "output_type": "execute_result"
    }
   ],
   "source": [
    "import numpy as np\n",
    "import pandas as pd\n",
    "\n",
    "df = pd.read_parquet('posts.parquet')\n",
    "print(f'Loaded {len(df)} posts')\n",
    "df.head()\n",
    "\n",
    "# Columns in this dataframe:\n",
    "# \n",
    "#     id:        Reddit post ID on reddit. The post itself can be viewed at\n",
    "#                https://reddit.com/r/pokemontrades/comments/{id}\n",
    "#     title:     Post title.\n",
    "#     body:      Post body (in Markdown format).\n",
    "#     submitter: The username of the submitter\n",
    "#     time:      Post submission time, in UTC\n",
    "#     flair:     Post flair (at the time the post was scraped)\n",
    "#     hit:       Whether ApriBot's crude detection mechanism (keyword-search) thought the post was Aprimon-related.\n",
    "#     vote:      /r/BankBallExchange's judgment as to whether the post was Aprimon-related. This is the ground truth."
   ]
  },
  {
   "cell_type": "code",
   "execution_count": 2,
   "metadata": {},
   "outputs": [
    {
     "data": {
      "text/html": [
       "<div>\n",
       "<style scoped>\n",
       "    .dataframe tbody tr th:only-of-type {\n",
       "        vertical-align: middle;\n",
       "    }\n",
       "\n",
       "    .dataframe tbody tr th {\n",
       "        vertical-align: top;\n",
       "    }\n",
       "\n",
       "    .dataframe thead th {\n",
       "        text-align: right;\n",
       "    }\n",
       "</style>\n",
       "<table border=\"1\" class=\"dataframe\">\n",
       "  <thead>\n",
       "    <tr style=\"text-align: right;\">\n",
       "      <th></th>\n",
       "      <th>id</th>\n",
       "      <th>title</th>\n",
       "      <th>body</th>\n",
       "      <th>post</th>\n",
       "      <th>vote</th>\n",
       "    </tr>\n",
       "  </thead>\n",
       "  <tbody>\n",
       "    <tr>\n",
       "      <th>0</th>\n",
       "      <td>13gxmuw</td>\n",
       "      <td>lf drilbur and solosis ft ask</td>\n",
       "      <td>hello im currently in the process of breeding ...</td>\n",
       "      <td>lf drilbur and solosis ft ask hello im current...</td>\n",
       "      <td>False</td>\n",
       "    </tr>\n",
       "    <tr>\n",
       "      <th>1</th>\n",
       "      <td>13gx0eg</td>\n",
       "      <td>lf 6iv nonenglish ditto ft apriballs ability p...</td>\n",
       "      <td>ive got pretty much everything aside from mons...</td>\n",
       "      <td>lf 6iv nonenglish ditto ft apriballs ability p...</td>\n",
       "      <td>False</td>\n",
       "    </tr>\n",
       "    <tr>\n",
       "      <th>2</th>\n",
       "      <td>13gwnha</td>\n",
       "      <td>lf hzoroark and flabebe codes jiseok lee garga...</td>\n",
       "      <td>also open to other event offers gen shinies ge...</td>\n",
       "      <td>lf hzoroark and flabebe codes jiseok lee garga...</td>\n",
       "      <td>False</td>\n",
       "    </tr>\n",
       "    <tr>\n",
       "      <th>3</th>\n",
       "      <td>13gw0vt</td>\n",
       "      <td>lf apriball stonjourner yamask honedge ha dura...</td>\n",
       "      <td>hi im looking for a stonjourner yamask honedge...</td>\n",
       "      <td>lf apriball stonjourner yamask honedge ha dura...</td>\n",
       "      <td>True</td>\n",
       "    </tr>\n",
       "    <tr>\n",
       "      <th>4</th>\n",
       "      <td>13gw04b</td>\n",
       "      <td>lf sobble ft scarlet exclusives raid exclusive</td>\n",
       "      <td>its the only raid exclusive that im missing so...</td>\n",
       "      <td>lf sobble ft scarlet exclusives raid exclusive...</td>\n",
       "      <td>False</td>\n",
       "    </tr>\n",
       "  </tbody>\n",
       "</table>\n",
       "</div>"
      ],
      "text/plain": [
       "        id                                              title  \\\n",
       "0  13gxmuw                      lf drilbur and solosis ft ask   \n",
       "1  13gx0eg  lf 6iv nonenglish ditto ft apriballs ability p...   \n",
       "2  13gwnha  lf hzoroark and flabebe codes jiseok lee garga...   \n",
       "3  13gw0vt  lf apriball stonjourner yamask honedge ha dura...   \n",
       "4  13gw04b     lf sobble ft scarlet exclusives raid exclusive   \n",
       "\n",
       "                                                body  \\\n",
       "0  hello im currently in the process of breeding ...   \n",
       "1  ive got pretty much everything aside from mons...   \n",
       "2  also open to other event offers gen shinies ge...   \n",
       "3  hi im looking for a stonjourner yamask honedge...   \n",
       "4  its the only raid exclusive that im missing so...   \n",
       "\n",
       "                                                post   vote  \n",
       "0  lf drilbur and solosis ft ask hello im current...  False  \n",
       "1  lf 6iv nonenglish ditto ft apriballs ability p...  False  \n",
       "2  lf hzoroark and flabebe codes jiseok lee garga...  False  \n",
       "3  lf apriball stonjourner yamask honedge ha dura...   True  \n",
       "4  lf sobble ft scarlet exclusives raid exclusive...  False  "
      ]
     },
     "execution_count": 2,
     "metadata": {},
     "output_type": "execute_result"
    }
   ],
   "source": [
    "import re\n",
    "import unidecode\n",
    "\n",
    "def cleanup(text):\n",
    "    # convert to ASCII\n",
    "    text = unidecode.unidecode(text, errors='ignore')\n",
    "    # remove Markdown links\n",
    "    text = re.sub(r'\\[([^\\]]+)\\]\\([^)]+\\)', r'\\1', text)\n",
    "    # split on spaces\n",
    "    words = text.split()\n",
    "    # remove links (heuristically)\n",
    "    words = [w for w in words if not w.startswith('http') and not w.startswith('www')]\n",
    "    # convert curly double/single quotes to plain single quotes\n",
    "    words = [w.replace('“', \"'\").replace('”', \"'\").replace('‘', \"'\").replace('’', \"'\") for w in words]\n",
    "    # split on other punctuation (except apostrophes and hyphens) and convert to lowercase\n",
    "    words = [w for word in words for w in re.split(r\"[^A-Za-z0-9'-]+\", word.lower())]\n",
    "    # remove any remaining punctuation\n",
    "    words = [re.sub(r\"[^A-Za-z0-9]\", '', w) for w in words]\n",
    "    # get rid of anything that doesn't have at least one letter\n",
    "    words = [s for s in words if any(c.isalpha() for c in s)]\n",
    "    # string back together\n",
    "    return ' '.join(words)\n",
    "\n",
    "df_processed = (df.assign(title=df.title.apply(cleanup))\n",
    "                  .assign(body=df.body.apply(cleanup))\n",
    "                  .assign(post=lambda df: df.title + ' ' + df.body)\n",
    "                  .loc[:, ['id', 'title', 'body', 'post', 'vote']])\n",
    "df_processed.head()"
   ]
  },
  {
   "cell_type": "code",
   "execution_count": 3,
   "metadata": {},
   "outputs": [
    {
     "data": {
      "text/plain": [
       "array([0, 0, 0, ..., 1, 0, 0])"
      ]
     },
     "execution_count": 3,
     "metadata": {},
     "output_type": "execute_result"
    }
   ],
   "source": [
    "y_true = df_processed.vote.to_numpy().astype(int)\n",
    "y_true"
   ]
  },
  {
   "cell_type": "markdown",
   "metadata": {},
   "source": [
    "# Train/test split"
   ]
  },
  {
   "cell_type": "code",
   "execution_count": 4,
   "metadata": {},
   "outputs": [
    {
     "name": "stdout",
     "output_type": "stream",
     "text": [
      "1's in test set     : 376 out of 1542 (24.38%)\n",
      "1's in training set : 1460 out of 6167 (23.67%)\n"
     ]
    }
   ],
   "source": [
    "from sklearn.model_selection import train_test_split\n",
    "\n",
    "X_train, X_test, y_train, y_test = train_test_split(df_processed, y_true, test_size=0.2, random_state=468)\n",
    "\n",
    "# Check that the train/test split is balanced.\n",
    "print(f\"1's in test set     : {np.count_nonzero(y_test)} out of {len(y_test)} ({np.count_nonzero(y_test) / len(y_test):.2%})\")\n",
    "print(f\"1's in training set : {np.count_nonzero(y_train)} out of {len(y_train)} ({np.count_nonzero(y_train) / len(y_train):.2%})\")"
   ]
  },
  {
   "cell_type": "markdown",
   "metadata": {},
   "source": [
    "# Model"
   ]
  },
  {
   "cell_type": "code",
   "execution_count": 5,
   "metadata": {},
   "outputs": [],
   "source": [
    "# General setup\n",
    "\n",
    "from sklearn.model_selection import cross_validate\n",
    "from sklearn.compose import ColumnTransformer\n",
    "from sklearn.feature_extraction.text import CountVectorizer\n",
    "from sklearn.pipeline import Pipeline\n",
    "from sklearn.metrics import f1_score, ConfusionMatrixDisplay, confusion_matrix\n",
    "import matplotlib.pyplot as plt\n",
    "\n",
    "def cv(pipeline, k=5, plot=False):\n",
    "    cv = cross_validate(pipeline, X_train, y_train, cv=k, scoring='f1',\n",
    "                        return_estimator=plot, return_indices=plot)\n",
    "    if plot: \n",
    "        # Get predictions from the estimator that was returned. This is slightly\n",
    "        # inefficient, but still better than calling cross_val_score and then\n",
    "        # cross_val_predict, which does the CV twice for no reason.\n",
    "        y_pred = np.array([])\n",
    "        y_true = np.array([])\n",
    "        indices = np.array([])\n",
    "        for i in range(k):\n",
    "            estimator = cv['estimator'][i]\n",
    "            test_indices = cv['indices']['test'][i]\n",
    "            this_y_pred = estimator.predict(X_train.iloc[test_indices])\n",
    "            this_y_train = y_train[test_indices]\n",
    "            indices = np.concatenate((indices, test_indices))\n",
    "            y_pred = np.concatenate((y_pred, this_y_pred))\n",
    "            y_true = np.concatenate((y_true, this_y_train))\n",
    "        # Plot confusion matrix\n",
    "        _, ax = plt.subplots(figsize=(5, 5))\n",
    "        ConfusionMatrixDisplay(confusion_matrix(y_true, y_pred)).plot(ax=ax)\n",
    "        ax.set_title(f'CV F1 : {np.mean(cv[\"test_score\"]):.4%}')\n",
    "    # Return CV results\n",
    "    return cv"
   ]
  },
  {
   "cell_type": "markdown",
   "metadata": {},
   "source": [
    "# Individual models (using the parameters we had earlier)"
   ]
  },
  {
   "cell_type": "markdown",
   "metadata": {},
   "source": [
    "## XGBoost"
   ]
  },
  {
   "cell_type": "code",
   "execution_count": 6,
   "metadata": {},
   "outputs": [
    {
     "data": {
      "image/png": "[encoded data removed]",
      "text/plain": [
       "<Figure size 500x500 with 2 Axes>"
      ]
     },
     "metadata": {},
     "output_type": "display_data"
    }
   ],
   "source": [
    "import xgboost as xgb\n",
    "xg = Pipeline([\n",
    "    ('vec', ColumnTransformer([(\"post\", CountVectorizer(ngram_range=(1, 2), max_features=5000), \"post\")])),\n",
    "    ('clf', xgb.XGBClassifier(max_depth=7, n_estimators=200, objective='binary:logistic', )),\n",
    "])\n",
    "\n",
    "cv_xg = cv(xg, plot=True)"
   ]
  },
  {
   "cell_type": "code",
   "execution_count": 81,
   "metadata": {},
   "outputs": [
    {
     "data": {
      "text/html": [
       "<style>#sk-container-id-2 {color: black;}#sk-container-id-2 pre{padding: 0;}#sk-container-id-2 div.sk-toggleable {background-color: white;}#sk-container-id-2 label.sk-toggleable__label {cursor: pointer;display: block;width: 100%;margin-bottom: 0;padding: 0.3em;box-sizing: border-box;text-align: center;}#sk-container-id-2 label.sk-toggleable__label-arrow:before {content: \"▸\";float: left;margin-right: 0.25em;color: #696969;}#sk-container-id-2 label.sk-toggleable__label-arrow:hover:before {color: black;}#sk-container-id-2 div.sk-estimator:hover label.sk-toggleable__label-arrow:before {color: black;}#sk-container-id-2 div.sk-toggleable__content {max-height: 0;max-width: 0;overflow: hidden;text-align: left;background-color: #f0f8ff;}#sk-container-id-2 div.sk-toggleable__content pre {margin: 0.2em;color: black;border-radius: 0.25em;background-color: #f0f8ff;}#sk-container-id-2 input.sk-toggleable__control:checked~div.sk-toggleable__content {max-height: 200px;max-width: 100%;overflow: auto;}#sk-container-id-2 input.sk-toggleable__control:checked~label.sk-toggleable__label-arrow:before {content: \"▾\";}#sk-container-id-2 div.sk-estimator input.sk-toggleable__control:checked~label.sk-toggleable__label {background-color: #d4ebff;}#sk-container-id-2 div.sk-label input.sk-toggleable__control:checked~label.sk-toggleable__label {background-color: #d4ebff;}#sk-container-id-2 input.sk-hidden--visually {border: 0;clip: rect(1px 1px 1px 1px);clip: rect(1px, 1px, 1px, 1px);height: 1px;margin: -1px;overflow: hidden;padding: 0;position: absolute;width: 1px;}#sk-container-id-2 div.sk-estimator {font-family: monospace;background-color: #f0f8ff;border: 1px dotted black;border-radius: 0.25em;box-sizing: border-box;margin-bottom: 0.5em;}#sk-container-id-2 div.sk-estimator:hover {background-color: #d4ebff;}#sk-container-id-2 div.sk-parallel-item::after {content: \"\";width: 100%;border-bottom: 1px solid gray;flex-grow: 1;}#sk-container-id-2 div.sk-label:hover label.sk-toggleable__label {background-color: #d4ebff;}#sk-container-id-2 div.sk-serial::before {content: \"\";position: absolute;border-left: 1px solid gray;box-sizing: border-box;top: 0;bottom: 0;left: 50%;z-index: 0;}#sk-container-id-2 div.sk-serial {display: flex;flex-direction: column;align-items: center;background-color: white;padding-right: 0.2em;padding-left: 0.2em;position: relative;}#sk-container-id-2 div.sk-item {position: relative;z-index: 1;}#sk-container-id-2 div.sk-parallel {display: flex;align-items: stretch;justify-content: center;background-color: white;position: relative;}#sk-container-id-2 div.sk-item::before, #sk-container-id-2 div.sk-parallel-item::before {content: \"\";position: absolute;border-left: 1px solid gray;box-sizing: border-box;top: 0;bottom: 0;left: 50%;z-index: -1;}#sk-container-id-2 div.sk-parallel-item {display: flex;flex-direction: column;z-index: 1;position: relative;background-color: white;}#sk-container-id-2 div.sk-parallel-item:first-child::after {align-self: flex-end;width: 50%;}#sk-container-id-2 div.sk-parallel-item:last-child::after {align-self: flex-start;width: 50%;}#sk-container-id-2 div.sk-parallel-item:only-child::after {width: 0;}#sk-container-id-2 div.sk-dashed-wrapped {border: 1px dashed gray;margin: 0 0.4em 0.5em 0.4em;box-sizing: border-box;padding-bottom: 0.4em;background-color: white;}#sk-container-id-2 div.sk-label label {font-family: monospace;font-weight: bold;display: inline-block;line-height: 1.2em;}#sk-container-id-2 div.sk-label-container {text-align: center;}#sk-container-id-2 div.sk-container {/* jupyter's `normalize.less` sets `[hidden] { display: none; }` but bootstrap.min.css set `[hidden] { display: none !important; }` so we also need the `!important` here to be able to override the default hidden behavior on the sphinx rendered scikit-learn.org. See: https://github.com/scikit-learn/scikit-learn/issues/21755 */display: inline-block !important;position: relative;}#sk-container-id-2 div.sk-text-repr-fallback {display: none;}</style><div id=\"sk-container-id-2\" class=\"sk-top-container\"><div class=\"sk-text-repr-fallback\"><pre>GridSearchCV(estimator=Pipeline(steps=[(&#x27;vec&#x27;,\n",
       "                                        ColumnTransformer(transformers=[(&#x27;post&#x27;,\n",
       "                                                                         CountVectorizer(max_features=5000,\n",
       "                                                                                         ngram_range=(1,\n",
       "                                                                                                      2)),\n",
       "                                                                         &#x27;post&#x27;)])),\n",
       "                                       (&#x27;clf&#x27;,\n",
       "                                        XGBClassifier(base_score=None,\n",
       "                                                      booster=None,\n",
       "                                                      callbacks=None,\n",
       "                                                      colsample_bylevel=None,\n",
       "                                                      colsample_bynode=None,\n",
       "                                                      colsample_bytree=None,\n",
       "                                                      early_stopping_rounds=None,\n",
       "                                                      enable_categorical=False,\n",
       "                                                      eval_metric=None...\n",
       "                                                      learning_rate=None,\n",
       "                                                      max_bin=None,\n",
       "                                                      max_cat_threshold=None,\n",
       "                                                      max_cat_to_onehot=None,\n",
       "                                                      max_delta_step=None,\n",
       "                                                      max_depth=7,\n",
       "                                                      max_leaves=None,\n",
       "                                                      min_child_weight=None,\n",
       "                                                      missing=nan,\n",
       "                                                      monotone_constraints=None,\n",
       "                                                      n_estimators=200,\n",
       "                                                      n_jobs=None,\n",
       "                                                      num_parallel_tree=None,\n",
       "                                                      predictor=None,\n",
       "                                                      random_state=None, ...))]),\n",
       "             param_grid={&#x27;clf__max_depth&#x27;: [3, 5, 7, 9],\n",
       "                         &#x27;clf__n_estimators&#x27;: [100, 200, 400]},\n",
       "             scoring=&#x27;f1&#x27;)</pre><b>In a Jupyter environment, please rerun this cell to show the HTML representation or trust the notebook. <br />On GitHub, the HTML representation is unable to render, please try loading this page with nbviewer.org.</b></div><div class=\"sk-container\" hidden><div class=\"sk-item sk-dashed-wrapped\"><div class=\"sk-label-container\"><div class=\"sk-label sk-toggleable\"><input class=\"sk-toggleable__control sk-hidden--visually\" id=\"sk-estimator-id-7\" type=\"checkbox\" ><label for=\"sk-estimator-id-7\" class=\"sk-toggleable__label sk-toggleable__label-arrow\">GridSearchCV</label><div class=\"sk-toggleable__content\"><pre>GridSearchCV(estimator=Pipeline(steps=[(&#x27;vec&#x27;,\n",
       "                                        ColumnTransformer(transformers=[(&#x27;post&#x27;,\n",
       "                                                                         CountVectorizer(max_features=5000,\n",
       "                                                                                         ngram_range=(1,\n",
       "                                                                                                      2)),\n",
       "                                                                         &#x27;post&#x27;)])),\n",
       "                                       (&#x27;clf&#x27;,\n",
       "                                        XGBClassifier(base_score=None,\n",
       "                                                      booster=None,\n",
       "                                                      callbacks=None,\n",
       "                                                      colsample_bylevel=None,\n",
       "                                                      colsample_bynode=None,\n",
       "                                                      colsample_bytree=None,\n",
       "                                                      early_stopping_rounds=None,\n",
       "                                                      enable_categorical=False,\n",
       "                                                      eval_metric=None...\n",
       "                                                      learning_rate=None,\n",
       "                                                      max_bin=None,\n",
       "                                                      max_cat_threshold=None,\n",
       "                                                      max_cat_to_onehot=None,\n",
       "                                                      max_delta_step=None,\n",
       "                                                      max_depth=7,\n",
       "                                                      max_leaves=None,\n",
       "                                                      min_child_weight=None,\n",
       "                                                      missing=nan,\n",
       "                                                      monotone_constraints=None,\n",
       "                                                      n_estimators=200,\n",
       "                                                      n_jobs=None,\n",
       "                                                      num_parallel_tree=None,\n",
       "                                                      predictor=None,\n",
       "                                                      random_state=None, ...))]),\n",
       "             param_grid={&#x27;clf__max_depth&#x27;: [3, 5, 7, 9],\n",
       "                         &#x27;clf__n_estimators&#x27;: [100, 200, 400]},\n",
       "             scoring=&#x27;f1&#x27;)</pre></div></div></div><div class=\"sk-parallel\"><div class=\"sk-parallel-item\"><div class=\"sk-item\"><div class=\"sk-label-container\"><div class=\"sk-label sk-toggleable\"><input class=\"sk-toggleable__control sk-hidden--visually\" id=\"sk-estimator-id-8\" type=\"checkbox\" ><label for=\"sk-estimator-id-8\" class=\"sk-toggleable__label sk-toggleable__label-arrow\">estimator: Pipeline</label><div class=\"sk-toggleable__content\"><pre>Pipeline(steps=[(&#x27;vec&#x27;,\n",
       "                 ColumnTransformer(transformers=[(&#x27;post&#x27;,\n",
       "                                                  CountVectorizer(max_features=5000,\n",
       "                                                                  ngram_range=(1,\n",
       "                                                                               2)),\n",
       "                                                  &#x27;post&#x27;)])),\n",
       "                (&#x27;clf&#x27;,\n",
       "                 XGBClassifier(base_score=None, booster=None, callbacks=None,\n",
       "                               colsample_bylevel=None, colsample_bynode=None,\n",
       "                               colsample_bytree=None,\n",
       "                               early_stopping_rounds=None,\n",
       "                               enable_categorical=False, eval_metric=None,\n",
       "                               feature_types=None, gam...None,\n",
       "                               grow_policy=None, importance_type=None,\n",
       "                               interaction_constraints=None, learning_rate=None,\n",
       "                               max_bin=None, max_cat_threshold=None,\n",
       "                               max_cat_to_onehot=None, max_delta_step=None,\n",
       "                               max_depth=7, max_leaves=None,\n",
       "                               min_child_weight=None, missing=nan,\n",
       "                               monotone_constraints=None, n_estimators=200,\n",
       "                               n_jobs=None, num_parallel_tree=None,\n",
       "                               predictor=None, random_state=None, ...))])</pre></div></div></div><div class=\"sk-serial\"><div class=\"sk-item\"><div class=\"sk-serial\"><div class=\"sk-item sk-dashed-wrapped\"><div class=\"sk-label-container\"><div class=\"sk-label sk-toggleable\"><input class=\"sk-toggleable__control sk-hidden--visually\" id=\"sk-estimator-id-9\" type=\"checkbox\" ><label for=\"sk-estimator-id-9\" class=\"sk-toggleable__label sk-toggleable__label-arrow\">vec: ColumnTransformer</label><div class=\"sk-toggleable__content\"><pre>ColumnTransformer(transformers=[(&#x27;post&#x27;,\n",
       "                                 CountVectorizer(max_features=5000,\n",
       "                                                 ngram_range=(1, 2)),\n",
       "                                 &#x27;post&#x27;)])</pre></div></div></div><div class=\"sk-parallel\"><div class=\"sk-parallel-item\"><div class=\"sk-item\"><div class=\"sk-label-container\"><div class=\"sk-label sk-toggleable\"><input class=\"sk-toggleable__control sk-hidden--visually\" id=\"sk-estimator-id-10\" type=\"checkbox\" ><label for=\"sk-estimator-id-10\" class=\"sk-toggleable__label sk-toggleable__label-arrow\">post</label><div class=\"sk-toggleable__content\"><pre>post</pre></div></div></div><div class=\"sk-serial\"><div class=\"sk-item\"><div class=\"sk-estimator sk-toggleable\"><input class=\"sk-toggleable__control sk-hidden--visually\" id=\"sk-estimator-id-11\" type=\"checkbox\" ><label for=\"sk-estimator-id-11\" class=\"sk-toggleable__label sk-toggleable__label-arrow\">CountVectorizer</label><div class=\"sk-toggleable__content\"><pre>CountVectorizer(max_features=5000, ngram_range=(1, 2))</pre></div></div></div></div></div></div></div></div><div class=\"sk-item\"><div class=\"sk-estimator sk-toggleable\"><input class=\"sk-toggleable__control sk-hidden--visually\" id=\"sk-estimator-id-12\" type=\"checkbox\" ><label for=\"sk-estimator-id-12\" class=\"sk-toggleable__label sk-toggleable__label-arrow\">XGBClassifier</label><div class=\"sk-toggleable__content\"><pre>XGBClassifier(base_score=None, booster=None, callbacks=None,\n",
       "              colsample_bylevel=None, colsample_bynode=None,\n",
       "              colsample_bytree=None, early_stopping_rounds=None,\n",
       "              enable_categorical=False, eval_metric=None, feature_types=None,\n",
       "              gamma=None, gpu_id=None, grow_policy=None, importance_type=None,\n",
       "              interaction_constraints=None, learning_rate=None, max_bin=None,\n",
       "              max_cat_threshold=None, max_cat_to_onehot=None,\n",
       "              max_delta_step=None, max_depth=7, max_leaves=None,\n",
       "              min_child_weight=None, missing=nan, monotone_constraints=None,\n",
       "              n_estimators=200, n_jobs=None, num_parallel_tree=None,\n",
       "              predictor=None, random_state=None, ...)</pre></div></div></div></div></div></div></div></div></div></div></div></div>"
      ],
      "text/plain": [
       "GridSearchCV(estimator=Pipeline(steps=[('vec',\n",
       "                                        ColumnTransformer(transformers=[('post',\n",
       "                                                                         CountVectorizer(max_features=5000,\n",
       "                                                                                         ngram_range=(1,\n",
       "                                                                                                      2)),\n",
       "                                                                         'post')])),\n",
       "                                       ('clf',\n",
       "                                        XGBClassifier(base_score=None,\n",
       "                                                      booster=None,\n",
       "                                                      callbacks=None,\n",
       "                                                      colsample_bylevel=None,\n",
       "                                                      colsample_bynode=None,\n",
       "                                                      colsample_bytree=None,\n",
       "                                                      early_stopping_rounds=None,\n",
       "                                                      enable_categorical=False,\n",
       "                                                      eval_metric=None...\n",
       "                                                      learning_rate=None,\n",
       "                                                      max_bin=None,\n",
       "                                                      max_cat_threshold=None,\n",
       "                                                      max_cat_to_onehot=None,\n",
       "                                                      max_delta_step=None,\n",
       "                                                      max_depth=7,\n",
       "                                                      max_leaves=None,\n",
       "                                                      min_child_weight=None,\n",
       "                                                      missing=nan,\n",
       "                                                      monotone_constraints=None,\n",
       "                                                      n_estimators=200,\n",
       "                                                      n_jobs=None,\n",
       "                                                      num_parallel_tree=None,\n",
       "                                                      predictor=None,\n",
       "                                                      random_state=None, ...))]),\n",
       "             param_grid={'clf__max_depth': [3, 5, 7, 9],\n",
       "                         'clf__n_estimators': [100, 200, 400]},\n",
       "             scoring='f1')"
      ]
     },
     "execution_count": 81,
     "metadata": {},
     "output_type": "execute_result"
    }
   ],
   "source": [
    "# Grid search CV for the best XGBoost parameters\n",
    "\n",
    "from sklearn.model_selection import GridSearchCV\n",
    "\n",
    "xg_grid = GridSearchCV(estimator=xg,\n",
    "                       param_grid={\n",
    "                            'clf__max_depth': [3, 5, 7, 9],\n",
    "                            'clf__n_estimators': [100, 200, 400],\n",
    "                       },\n",
    "                       scoring='f1')\n",
    "xg_grid.fit(X_train, y_train)"
   ]
  },
  {
   "cell_type": "code",
   "execution_count": 83,
   "metadata": {},
   "outputs": [
    {
     "data": {
      "text/plain": [
       "{'clf__max_depth': 7, 'clf__n_estimators': 200}"
      ]
     },
     "execution_count": 83,
     "metadata": {},
     "output_type": "execute_result"
    }
   ],
   "source": [
    "xg_grid.best_params_"
   ]
  },
  {
   "cell_type": "markdown",
   "metadata": {},
   "source": [
    "That's the original, how nice! :)"
   ]
  },
  {
   "cell_type": "markdown",
   "metadata": {},
   "source": [
    "# XGBoost with SVD for feature selection"
   ]
  },
  {
   "cell_type": "code",
   "execution_count": 8,
   "metadata": {},
   "outputs": [],
   "source": [
    "from sklearn.decomposition import TruncatedSVD\n",
    "xg_pca = Pipeline([\n",
    "    ('vec', ColumnTransformer([(\"post\", CountVectorizer(ngram_range=(1, 2), max_features=20000), \"post\")])),\n",
    "    ('lsa', TruncatedSVD(n_components=5000, random_state=468)),\n",
    "    ('clf', xgb.XGBClassifier(max_depth=7, n_estimators=200, objective='binary:logistic', )),\n",
    "])\n",
    "\n",
    "cv_xg_pca = cv(xg_pca, plot=True)"
   ]
  },
  {
   "cell_type": "markdown",
   "metadata": {},
   "source": [
    "## (ordinary) Gradient boosting"
   ]
  },
  {
   "cell_type": "code",
   "execution_count": 106,
   "metadata": {},
   "outputs": [
    {
     "data": {
      "image/png": "[encoded data removed]",
      "text/plain": [
       "<Figure size 500x500 with 2 Axes>"
      ]
     },
     "metadata": {},
     "output_type": "display_data"
    }
   ],
   "source": [
    "gb = Pipeline([\n",
    "    ('vec', ColumnTransformer([(\"post\", CountVectorizer(ngram_range=(1, 2), max_features=5000), \"post\")])),\n",
    "    ('clf', GradientBoostingClassifier(max_depth=7, n_estimators=200)),\n",
    "])\n",
    "\n",
    "cv_gb = cv(gb, plot=True)"
   ]
  },
  {
   "cell_type": "code",
   "execution_count": 88,
   "metadata": {},
   "outputs": [
    {
     "data": {
      "text/html": [
       "<style>#sk-container-id-3 {color: black;}#sk-container-id-3 pre{padding: 0;}#sk-container-id-3 div.sk-toggleable {background-color: white;}#sk-container-id-3 label.sk-toggleable__label {cursor: pointer;display: block;width: 100%;margin-bottom: 0;padding: 0.3em;box-sizing: border-box;text-align: center;}#sk-container-id-3 label.sk-toggleable__label-arrow:before {content: \"▸\";float: left;margin-right: 0.25em;color: #696969;}#sk-container-id-3 label.sk-toggleable__label-arrow:hover:before {color: black;}#sk-container-id-3 div.sk-estimator:hover label.sk-toggleable__label-arrow:before {color: black;}#sk-container-id-3 div.sk-toggleable__content {max-height: 0;max-width: 0;overflow: hidden;text-align: left;background-color: #f0f8ff;}#sk-container-id-3 div.sk-toggleable__content pre {margin: 0.2em;color: black;border-radius: 0.25em;background-color: #f0f8ff;}#sk-container-id-3 input.sk-toggleable__control:checked~div.sk-toggleable__content {max-height: 200px;max-width: 100%;overflow: auto;}#sk-container-id-3 input.sk-toggleable__control:checked~label.sk-toggleable__label-arrow:before {content: \"▾\";}#sk-container-id-3 div.sk-estimator input.sk-toggleable__control:checked~label.sk-toggleable__label {background-color: #d4ebff;}#sk-container-id-3 div.sk-label input.sk-toggleable__control:checked~label.sk-toggleable__label {background-color: #d4ebff;}#sk-container-id-3 input.sk-hidden--visually {border: 0;clip: rect(1px 1px 1px 1px);clip: rect(1px, 1px, 1px, 1px);height: 1px;margin: -1px;overflow: hidden;padding: 0;position: absolute;width: 1px;}#sk-container-id-3 div.sk-estimator {font-family: monospace;background-color: #f0f8ff;border: 1px dotted black;border-radius: 0.25em;box-sizing: border-box;margin-bottom: 0.5em;}#sk-container-id-3 div.sk-estimator:hover {background-color: #d4ebff;}#sk-container-id-3 div.sk-parallel-item::after {content: \"\";width: 100%;border-bottom: 1px solid gray;flex-grow: 1;}#sk-container-id-3 div.sk-label:hover label.sk-toggleable__label {background-color: #d4ebff;}#sk-container-id-3 div.sk-serial::before {content: \"\";position: absolute;border-left: 1px solid gray;box-sizing: border-box;top: 0;bottom: 0;left: 50%;z-index: 0;}#sk-container-id-3 div.sk-serial {display: flex;flex-direction: column;align-items: center;background-color: white;padding-right: 0.2em;padding-left: 0.2em;position: relative;}#sk-container-id-3 div.sk-item {position: relative;z-index: 1;}#sk-container-id-3 div.sk-parallel {display: flex;align-items: stretch;justify-content: center;background-color: white;position: relative;}#sk-container-id-3 div.sk-item::before, #sk-container-id-3 div.sk-parallel-item::before {content: \"\";position: absolute;border-left: 1px solid gray;box-sizing: border-box;top: 0;bottom: 0;left: 50%;z-index: -1;}#sk-container-id-3 div.sk-parallel-item {display: flex;flex-direction: column;z-index: 1;position: relative;background-color: white;}#sk-container-id-3 div.sk-parallel-item:first-child::after {align-self: flex-end;width: 50%;}#sk-container-id-3 div.sk-parallel-item:last-child::after {align-self: flex-start;width: 50%;}#sk-container-id-3 div.sk-parallel-item:only-child::after {width: 0;}#sk-container-id-3 div.sk-dashed-wrapped {border: 1px dashed gray;margin: 0 0.4em 0.5em 0.4em;box-sizing: border-box;padding-bottom: 0.4em;background-color: white;}#sk-container-id-3 div.sk-label label {font-family: monospace;font-weight: bold;display: inline-block;line-height: 1.2em;}#sk-container-id-3 div.sk-label-container {text-align: center;}#sk-container-id-3 div.sk-container {/* jupyter's `normalize.less` sets `[hidden] { display: none; }` but bootstrap.min.css set `[hidden] { display: none !important; }` so we also need the `!important` here to be able to override the default hidden behavior on the sphinx rendered scikit-learn.org. See: https://github.com/scikit-learn/scikit-learn/issues/21755 */display: inline-block !important;position: relative;}#sk-container-id-3 div.sk-text-repr-fallback {display: none;}</style><div id=\"sk-container-id-3\" class=\"sk-top-container\"><div class=\"sk-text-repr-fallback\"><pre>GridSearchCV(estimator=Pipeline(steps=[(&#x27;vec&#x27;,\n",
       "                                        ColumnTransformer(transformers=[(&#x27;post&#x27;,\n",
       "                                                                         CountVectorizer(max_features=5000,\n",
       "                                                                                         ngram_range=(1,\n",
       "                                                                                                      2)),\n",
       "                                                                         &#x27;post&#x27;)])),\n",
       "                                       (&#x27;clf&#x27;,\n",
       "                                        GradientBoostingClassifier(max_depth=7,\n",
       "                                                                   n_estimators=200))]),\n",
       "             param_grid={&#x27;clf__max_depth&#x27;: [3, 5, 7, 9],\n",
       "                         &#x27;clf__n_estimators&#x27;: [100, 200, 400]},\n",
       "             scoring=&#x27;f1&#x27;)</pre><b>In a Jupyter environment, please rerun this cell to show the HTML representation or trust the notebook. <br />On GitHub, the HTML representation is unable to render, please try loading this page with nbviewer.org.</b></div><div class=\"sk-container\" hidden><div class=\"sk-item sk-dashed-wrapped\"><div class=\"sk-label-container\"><div class=\"sk-label sk-toggleable\"><input class=\"sk-toggleable__control sk-hidden--visually\" id=\"sk-estimator-id-13\" type=\"checkbox\" ><label for=\"sk-estimator-id-13\" class=\"sk-toggleable__label sk-toggleable__label-arrow\">GridSearchCV</label><div class=\"sk-toggleable__content\"><pre>GridSearchCV(estimator=Pipeline(steps=[(&#x27;vec&#x27;,\n",
       "                                        ColumnTransformer(transformers=[(&#x27;post&#x27;,\n",
       "                                                                         CountVectorizer(max_features=5000,\n",
       "                                                                                         ngram_range=(1,\n",
       "                                                                                                      2)),\n",
       "                                                                         &#x27;post&#x27;)])),\n",
       "                                       (&#x27;clf&#x27;,\n",
       "                                        GradientBoostingClassifier(max_depth=7,\n",
       "                                                                   n_estimators=200))]),\n",
       "             param_grid={&#x27;clf__max_depth&#x27;: [3, 5, 7, 9],\n",
       "                         &#x27;clf__n_estimators&#x27;: [100, 200, 400]},\n",
       "             scoring=&#x27;f1&#x27;)</pre></div></div></div><div class=\"sk-parallel\"><div class=\"sk-parallel-item\"><div class=\"sk-item\"><div class=\"sk-label-container\"><div class=\"sk-label sk-toggleable\"><input class=\"sk-toggleable__control sk-hidden--visually\" id=\"sk-estimator-id-14\" type=\"checkbox\" ><label for=\"sk-estimator-id-14\" class=\"sk-toggleable__label sk-toggleable__label-arrow\">estimator: Pipeline</label><div class=\"sk-toggleable__content\"><pre>Pipeline(steps=[(&#x27;vec&#x27;,\n",
       "                 ColumnTransformer(transformers=[(&#x27;post&#x27;,\n",
       "                                                  CountVectorizer(max_features=5000,\n",
       "                                                                  ngram_range=(1,\n",
       "                                                                               2)),\n",
       "                                                  &#x27;post&#x27;)])),\n",
       "                (&#x27;clf&#x27;,\n",
       "                 GradientBoostingClassifier(max_depth=7, n_estimators=200))])</pre></div></div></div><div class=\"sk-serial\"><div class=\"sk-item\"><div class=\"sk-serial\"><div class=\"sk-item sk-dashed-wrapped\"><div class=\"sk-label-container\"><div class=\"sk-label sk-toggleable\"><input class=\"sk-toggleable__control sk-hidden--visually\" id=\"sk-estimator-id-15\" type=\"checkbox\" ><label for=\"sk-estimator-id-15\" class=\"sk-toggleable__label sk-toggleable__label-arrow\">vec: ColumnTransformer</label><div class=\"sk-toggleable__content\"><pre>ColumnTransformer(transformers=[(&#x27;post&#x27;,\n",
       "                                 CountVectorizer(max_features=5000,\n",
       "                                                 ngram_range=(1, 2)),\n",
       "                                 &#x27;post&#x27;)])</pre></div></div></div><div class=\"sk-parallel\"><div class=\"sk-parallel-item\"><div class=\"sk-item\"><div class=\"sk-label-container\"><div class=\"sk-label sk-toggleable\"><input class=\"sk-toggleable__control sk-hidden--visually\" id=\"sk-estimator-id-16\" type=\"checkbox\" ><label for=\"sk-estimator-id-16\" class=\"sk-toggleable__label sk-toggleable__label-arrow\">post</label><div class=\"sk-toggleable__content\"><pre>post</pre></div></div></div><div class=\"sk-serial\"><div class=\"sk-item\"><div class=\"sk-estimator sk-toggleable\"><input class=\"sk-toggleable__control sk-hidden--visually\" id=\"sk-estimator-id-17\" type=\"checkbox\" ><label for=\"sk-estimator-id-17\" class=\"sk-toggleable__label sk-toggleable__label-arrow\">CountVectorizer</label><div class=\"sk-toggleable__content\"><pre>CountVectorizer(max_features=5000, ngram_range=(1, 2))</pre></div></div></div></div></div></div></div></div><div class=\"sk-item\"><div class=\"sk-estimator sk-toggleable\"><input class=\"sk-toggleable__control sk-hidden--visually\" id=\"sk-estimator-id-18\" type=\"checkbox\" ><label for=\"sk-estimator-id-18\" class=\"sk-toggleable__label sk-toggleable__label-arrow\">GradientBoostingClassifier</label><div class=\"sk-toggleable__content\"><pre>GradientBoostingClassifier(max_depth=7, n_estimators=200)</pre></div></div></div></div></div></div></div></div></div></div></div></div>"
      ],
      "text/plain": [
       "GridSearchCV(estimator=Pipeline(steps=[('vec',\n",
       "                                        ColumnTransformer(transformers=[('post',\n",
       "                                                                         CountVectorizer(max_features=5000,\n",
       "                                                                                         ngram_range=(1,\n",
       "                                                                                                      2)),\n",
       "                                                                         'post')])),\n",
       "                                       ('clf',\n",
       "                                        GradientBoostingClassifier(max_depth=7,\n",
       "                                                                   n_estimators=200))]),\n",
       "             param_grid={'clf__max_depth': [3, 5, 7, 9],\n",
       "                         'clf__n_estimators': [100, 200, 400]},\n",
       "             scoring='f1')"
      ]
     },
     "execution_count": 88,
     "metadata": {},
     "output_type": "execute_result"
    }
   ],
   "source": [
    "# Grid search CV\n",
    "\n",
    "gb_grid = GridSearchCV(estimator=gb,\n",
    "                       param_grid={\n",
    "                            'clf__max_depth': [3, 5, 7, 9],\n",
    "                            'clf__n_estimators': [100, 200, 400],\n",
    "                       },\n",
    "                       scoring='f1')\n",
    "gb_grid.fit(X_train, y_train)"
   ]
  },
  {
   "cell_type": "code",
   "execution_count": 89,
   "metadata": {},
   "outputs": [
    {
     "data": {
      "text/plain": [
       "{'clf__max_depth': 5, 'clf__n_estimators': 400}"
      ]
     },
     "execution_count": 89,
     "metadata": {},
     "output_type": "execute_result"
    }
   ],
   "source": [
    "gb_grid.best_params_"
   ]
  },
  {
   "cell_type": "code",
   "execution_count": 107,
   "metadata": {},
   "outputs": [
    {
     "data": {
      "image/png": "[encoded data removed]",
      "text/plain": [
       "<Figure size 500x500 with 2 Axes>"
      ]
     },
     "metadata": {},
     "output_type": "display_data"
    }
   ],
   "source": [
    "_ = cv(gb_grid.best_estimator_, plot=True)"
   ]
  },
  {
   "cell_type": "markdown",
   "metadata": {},
   "source": [
    "Almost as good as XGBoost, but not quite"
   ]
  },
  {
   "cell_type": "markdown",
   "metadata": {},
   "source": [
    "## Logistic regression\n",
    "\n",
    "Not really much to optimise here except the vectoriser, but we already did that last time round."
   ]
  },
  {
   "cell_type": "code",
   "execution_count": 6,
   "metadata": {},
   "outputs": [
    {
     "ename": "NameError",
     "evalue": "name 'Pipeline' is not defined",
     "output_type": "error",
     "traceback": [
      "\u001b[0;31m---------------------------------------------------------------------------\u001b[0m",
      "\u001b[0;31mNameError\u001b[0m                                 Traceback (most recent call last)",
      "Cell \u001b[0;32mIn[6], line 3\u001b[0m\n\u001b[1;32m      1\u001b[0m \u001b[39mfrom\u001b[39;00m \u001b[39msklearn\u001b[39;00m\u001b[39m.\u001b[39;00m\u001b[39mlinear_model\u001b[39;00m \u001b[39mimport\u001b[39;00m LogisticRegression\n\u001b[0;32m----> 3\u001b[0m lr \u001b[39m=\u001b[39m Pipeline([\n\u001b[1;32m      4\u001b[0m     (\u001b[39m'\u001b[39m\u001b[39mvec\u001b[39m\u001b[39m'\u001b[39m, ColumnTransformer([(\u001b[39m\"\u001b[39m\u001b[39mpost\u001b[39m\u001b[39m\"\u001b[39m, CountVectorizer(ngram_range\u001b[39m=\u001b[39m(\u001b[39m1\u001b[39m, \u001b[39m2\u001b[39m), max_features\u001b[39m=\u001b[39m\u001b[39m5000\u001b[39m), \u001b[39m\"\u001b[39m\u001b[39mpost\u001b[39m\u001b[39m\"\u001b[39m)])),\n\u001b[1;32m      5\u001b[0m     (\u001b[39m'\u001b[39m\u001b[39mclf\u001b[39m\u001b[39m'\u001b[39m, LogisticRegression(max_iter\u001b[39m=\u001b[39m\u001b[39m5000\u001b[39m)),\n\u001b[1;32m      6\u001b[0m ])\n\u001b[1;32m      8\u001b[0m cv_lr \u001b[39m=\u001b[39m cv(lr, plot\u001b[39m=\u001b[39m\u001b[39mTrue\u001b[39;00m)\n",
      "\u001b[0;31mNameError\u001b[0m: name 'Pipeline' is not defined"
     ]
    }
   ],
   "source": [
    "from sklearn.linear_model import LogisticRegression\n",
    "\n",
    "lr = Pipeline([\n",
    "    ('vec', ColumnTransformer([(\"post\", CountVectorizer(ngram_range=(1, 2), max_features=5000), \"post\")])),\n",
    "    ('clf', LogisticRegression(max_iter=5000)),\n",
    "])\n",
    "\n",
    "cv_lr = cv(lr, plot=True)"
   ]
  },
  {
   "cell_type": "markdown",
   "metadata": {},
   "source": [
    "# Support vector machine"
   ]
  },
  {
   "cell_type": "code",
   "execution_count": 109,
   "metadata": {},
   "outputs": [
    {
     "data": {
      "image/png": "[encoded data removed]",
      "text/plain": [
       "<Figure size 500x500 with 2 Axes>"
      ]
     },
     "metadata": {},
     "output_type": "display_data"
    }
   ],
   "source": [
    "from sklearn.svm import SVC\n",
    "\n",
    "svm = Pipeline([\n",
    "    ('vec', ColumnTransformer([(\"post\", TfidfVectorizer(), \"post\")])),\n",
    "    ('clf', SVC()),\n",
    "])\n",
    "\n",
    "cv_svm = cv(svm, plot=True)"
   ]
  },
  {
   "cell_type": "markdown",
   "metadata": {},
   "source": [
    "## Let's try to stack XGBoost and LR"
   ]
  },
  {
   "cell_type": "code",
   "execution_count": 110,
   "metadata": {},
   "outputs": [
    {
     "data": {
      "image/png": "[encoded data removed]",
      "text/plain": [
       "<Figure size 500x500 with 2 Axes>"
      ]
     },
     "metadata": {},
     "output_type": "display_data"
    }
   ],
   "source": [
    "from sklearn.ensemble import StackingClassifier\n",
    "\n",
    "stacked_xg_lr = StackingClassifier(\n",
    "    estimators=[\n",
    "        ('xg', xg),\n",
    "        ('lr', lr),\n",
    "    ],\n",
    "    final_estimator=LogisticRegression(max_iter=5000)\n",
    ")\n",
    "\n",
    "cv_stacked = cv(stacked_xg_lr, plot=True)"
   ]
  },
  {
   "cell_type": "markdown",
   "metadata": {},
   "source": [
    "And... let's run CV on the stacked model for good measure, overnight."
   ]
  },
  {
   "cell_type": "code",
   "execution_count": 99,
   "metadata": {},
   "outputs": [
    {
     "data": {
      "text/html": [
       "<style>#sk-container-id-4 {color: black;}#sk-container-id-4 pre{padding: 0;}#sk-container-id-4 div.sk-toggleable {background-color: white;}#sk-container-id-4 label.sk-toggleable__label {cursor: pointer;display: block;width: 100%;margin-bottom: 0;padding: 0.3em;box-sizing: border-box;text-align: center;}#sk-container-id-4 label.sk-toggleable__label-arrow:before {content: \"▸\";float: left;margin-right: 0.25em;color: #696969;}#sk-container-id-4 label.sk-toggleable__label-arrow:hover:before {color: black;}#sk-container-id-4 div.sk-estimator:hover label.sk-toggleable__label-arrow:before {color: black;}#sk-container-id-4 div.sk-toggleable__content {max-height: 0;max-width: 0;overflow: hidden;text-align: left;background-color: #f0f8ff;}#sk-container-id-4 div.sk-toggleable__content pre {margin: 0.2em;color: black;border-radius: 0.25em;background-color: #f0f8ff;}#sk-container-id-4 input.sk-toggleable__control:checked~div.sk-toggleable__content {max-height: 200px;max-width: 100%;overflow: auto;}#sk-container-id-4 input.sk-toggleable__control:checked~label.sk-toggleable__label-arrow:before {content: \"▾\";}#sk-container-id-4 div.sk-estimator input.sk-toggleable__control:checked~label.sk-toggleable__label {background-color: #d4ebff;}#sk-container-id-4 div.sk-label input.sk-toggleable__control:checked~label.sk-toggleable__label {background-color: #d4ebff;}#sk-container-id-4 input.sk-hidden--visually {border: 0;clip: rect(1px 1px 1px 1px);clip: rect(1px, 1px, 1px, 1px);height: 1px;margin: -1px;overflow: hidden;padding: 0;position: absolute;width: 1px;}#sk-container-id-4 div.sk-estimator {font-family: monospace;background-color: #f0f8ff;border: 1px dotted black;border-radius: 0.25em;box-sizing: border-box;margin-bottom: 0.5em;}#sk-container-id-4 div.sk-estimator:hover {background-color: #d4ebff;}#sk-container-id-4 div.sk-parallel-item::after {content: \"\";width: 100%;border-bottom: 1px solid gray;flex-grow: 1;}#sk-container-id-4 div.sk-label:hover label.sk-toggleable__label {background-color: #d4ebff;}#sk-container-id-4 div.sk-serial::before {content: \"\";position: absolute;border-left: 1px solid gray;box-sizing: border-box;top: 0;bottom: 0;left: 50%;z-index: 0;}#sk-container-id-4 div.sk-serial {display: flex;flex-direction: column;align-items: center;background-color: white;padding-right: 0.2em;padding-left: 0.2em;position: relative;}#sk-container-id-4 div.sk-item {position: relative;z-index: 1;}#sk-container-id-4 div.sk-parallel {display: flex;align-items: stretch;justify-content: center;background-color: white;position: relative;}#sk-container-id-4 div.sk-item::before, #sk-container-id-4 div.sk-parallel-item::before {content: \"\";position: absolute;border-left: 1px solid gray;box-sizing: border-box;top: 0;bottom: 0;left: 50%;z-index: -1;}#sk-container-id-4 div.sk-parallel-item {display: flex;flex-direction: column;z-index: 1;position: relative;background-color: white;}#sk-container-id-4 div.sk-parallel-item:first-child::after {align-self: flex-end;width: 50%;}#sk-container-id-4 div.sk-parallel-item:last-child::after {align-self: flex-start;width: 50%;}#sk-container-id-4 div.sk-parallel-item:only-child::after {width: 0;}#sk-container-id-4 div.sk-dashed-wrapped {border: 1px dashed gray;margin: 0 0.4em 0.5em 0.4em;box-sizing: border-box;padding-bottom: 0.4em;background-color: white;}#sk-container-id-4 div.sk-label label {font-family: monospace;font-weight: bold;display: inline-block;line-height: 1.2em;}#sk-container-id-4 div.sk-label-container {text-align: center;}#sk-container-id-4 div.sk-container {/* jupyter's `normalize.less` sets `[hidden] { display: none; }` but bootstrap.min.css set `[hidden] { display: none !important; }` so we also need the `!important` here to be able to override the default hidden behavior on the sphinx rendered scikit-learn.org. See: https://github.com/scikit-learn/scikit-learn/issues/21755 */display: inline-block !important;position: relative;}#sk-container-id-4 div.sk-text-repr-fallback {display: none;}</style><div id=\"sk-container-id-4\" class=\"sk-top-container\"><div class=\"sk-text-repr-fallback\"><pre>GridSearchCV(estimator=StackingClassifier(estimators=[(&#x27;xg&#x27;,\n",
       "                                                       Pipeline(steps=[(&#x27;vec&#x27;,\n",
       "                                                                        ColumnTransformer(transformers=[(&#x27;post&#x27;,\n",
       "                                                                                                         CountVectorizer(max_features=5000,\n",
       "                                                                                                                         ngram_range=(1,\n",
       "                                                                                                                                      2)),\n",
       "                                                                                                         &#x27;post&#x27;)])),\n",
       "                                                                       (&#x27;clf&#x27;,\n",
       "                                                                        XGBClassifier(base_score=None,\n",
       "                                                                                      booster=None,\n",
       "                                                                                      callbacks=None,\n",
       "                                                                                      colsample_bylevel=None,\n",
       "                                                                                      colsample_bynode=None,\n",
       "                                                                                      colsample_bytree=None,\n",
       "                                                                                      early_stopping_rounds=None,\n",
       "                                                                                      enab...\n",
       "                                                                                                         CountVectorizer(max_features=5000,\n",
       "                                                                                                                         ngram_range=(1,\n",
       "                                                                                                                                      2)),\n",
       "                                                                                                         &#x27;post&#x27;)])),\n",
       "                                                                       (&#x27;clf&#x27;,\n",
       "                                                                        LogisticRegression(max_iter=5000))]))],\n",
       "                                          final_estimator=LogisticRegression(max_iter=5000)),\n",
       "             param_grid={&#x27;lr__vec__post__max_features&#x27;: [2500, 5000, 10000],\n",
       "                         &#x27;xg__clf__max_depth&#x27;: [3, 5, 7, 9],\n",
       "                         &#x27;xg__clf__n_estimators&#x27;: [100, 200, 400],\n",
       "                         &#x27;xg__vec__post__max_features&#x27;: [2500, 5000, 10000]},\n",
       "             scoring=&#x27;f1&#x27;)</pre><b>In a Jupyter environment, please rerun this cell to show the HTML representation or trust the notebook. <br />On GitHub, the HTML representation is unable to render, please try loading this page with nbviewer.org.</b></div><div class=\"sk-container\" hidden><div class=\"sk-item sk-dashed-wrapped\"><div class=\"sk-label-container\"><div class=\"sk-label sk-toggleable\"><input class=\"sk-toggleable__control sk-hidden--visually\" id=\"sk-estimator-id-19\" type=\"checkbox\" ><label for=\"sk-estimator-id-19\" class=\"sk-toggleable__label sk-toggleable__label-arrow\">GridSearchCV</label><div class=\"sk-toggleable__content\"><pre>GridSearchCV(estimator=StackingClassifier(estimators=[(&#x27;xg&#x27;,\n",
       "                                                       Pipeline(steps=[(&#x27;vec&#x27;,\n",
       "                                                                        ColumnTransformer(transformers=[(&#x27;post&#x27;,\n",
       "                                                                                                         CountVectorizer(max_features=5000,\n",
       "                                                                                                                         ngram_range=(1,\n",
       "                                                                                                                                      2)),\n",
       "                                                                                                         &#x27;post&#x27;)])),\n",
       "                                                                       (&#x27;clf&#x27;,\n",
       "                                                                        XGBClassifier(base_score=None,\n",
       "                                                                                      booster=None,\n",
       "                                                                                      callbacks=None,\n",
       "                                                                                      colsample_bylevel=None,\n",
       "                                                                                      colsample_bynode=None,\n",
       "                                                                                      colsample_bytree=None,\n",
       "                                                                                      early_stopping_rounds=None,\n",
       "                                                                                      enab...\n",
       "                                                                                                         CountVectorizer(max_features=5000,\n",
       "                                                                                                                         ngram_range=(1,\n",
       "                                                                                                                                      2)),\n",
       "                                                                                                         &#x27;post&#x27;)])),\n",
       "                                                                       (&#x27;clf&#x27;,\n",
       "                                                                        LogisticRegression(max_iter=5000))]))],\n",
       "                                          final_estimator=LogisticRegression(max_iter=5000)),\n",
       "             param_grid={&#x27;lr__vec__post__max_features&#x27;: [2500, 5000, 10000],\n",
       "                         &#x27;xg__clf__max_depth&#x27;: [3, 5, 7, 9],\n",
       "                         &#x27;xg__clf__n_estimators&#x27;: [100, 200, 400],\n",
       "                         &#x27;xg__vec__post__max_features&#x27;: [2500, 5000, 10000]},\n",
       "             scoring=&#x27;f1&#x27;)</pre></div></div></div><div class=\"sk-parallel\"><div class=\"sk-parallel-item\"><div class=\"sk-item\"><div class=\"sk-label-container\"><div class=\"sk-label sk-toggleable\"><input class=\"sk-toggleable__control sk-hidden--visually\" id=\"sk-estimator-id-20\" type=\"checkbox\" ><label for=\"sk-estimator-id-20\" class=\"sk-toggleable__label sk-toggleable__label-arrow\">estimator: StackingClassifier</label><div class=\"sk-toggleable__content\"><pre>StackingClassifier(estimators=[(&#x27;xg&#x27;,\n",
       "                                Pipeline(steps=[(&#x27;vec&#x27;,\n",
       "                                                 ColumnTransformer(transformers=[(&#x27;post&#x27;,\n",
       "                                                                                  CountVectorizer(max_features=5000,\n",
       "                                                                                                  ngram_range=(1,\n",
       "                                                                                                               2)),\n",
       "                                                                                  &#x27;post&#x27;)])),\n",
       "                                                (&#x27;clf&#x27;,\n",
       "                                                 XGBClassifier(base_score=None,\n",
       "                                                               booster=None,\n",
       "                                                               callbacks=None,\n",
       "                                                               colsample_bylevel=None,\n",
       "                                                               colsample_bynode=None,\n",
       "                                                               colsample_bytree=None,\n",
       "                                                               early_stopping_rounds=None,\n",
       "                                                               enable_categorical=False,\n",
       "                                                               ev...\n",
       "                                                               missing=nan,\n",
       "                                                               monotone_constraints=None,\n",
       "                                                               n_estimators=200,\n",
       "                                                               n_jobs=None,\n",
       "                                                               num_parallel_tree=None,\n",
       "                                                               predictor=None,\n",
       "                                                               random_state=None, ...))])),\n",
       "                               (&#x27;lr&#x27;,\n",
       "                                Pipeline(steps=[(&#x27;vec&#x27;,\n",
       "                                                 ColumnTransformer(transformers=[(&#x27;post&#x27;,\n",
       "                                                                                  CountVectorizer(max_features=5000,\n",
       "                                                                                                  ngram_range=(1,\n",
       "                                                                                                               2)),\n",
       "                                                                                  &#x27;post&#x27;)])),\n",
       "                                                (&#x27;clf&#x27;,\n",
       "                                                 LogisticRegression(max_iter=5000))]))],\n",
       "                   final_estimator=LogisticRegression(max_iter=5000))</pre></div></div></div><div class=\"sk-serial\"><div class=\"sk-item\"><div class=\"sk-serial\"><div class=\"sk-item\"><div class=\"sk-parallel\"><div class=\"sk-parallel-item\"><div class=\"sk-item\"><div class=\"sk-label-container\"><div class=\"sk-label sk-toggleable\"><label>xg</label></div></div><div class=\"sk-serial\"><div class=\"sk-item\"><div class=\"sk-serial\"><div class=\"sk-item sk-dashed-wrapped\"><div class=\"sk-label-container\"><div class=\"sk-label sk-toggleable\"><input class=\"sk-toggleable__control sk-hidden--visually\" id=\"sk-estimator-id-21\" type=\"checkbox\" ><label for=\"sk-estimator-id-21\" class=\"sk-toggleable__label sk-toggleable__label-arrow\">vec: ColumnTransformer</label><div class=\"sk-toggleable__content\"><pre>ColumnTransformer(transformers=[(&#x27;post&#x27;,\n",
       "                                 CountVectorizer(max_features=5000,\n",
       "                                                 ngram_range=(1, 2)),\n",
       "                                 &#x27;post&#x27;)])</pre></div></div></div><div class=\"sk-parallel\"><div class=\"sk-parallel-item\"><div class=\"sk-item\"><div class=\"sk-label-container\"><div class=\"sk-label sk-toggleable\"><input class=\"sk-toggleable__control sk-hidden--visually\" id=\"sk-estimator-id-22\" type=\"checkbox\" ><label for=\"sk-estimator-id-22\" class=\"sk-toggleable__label sk-toggleable__label-arrow\">post</label><div class=\"sk-toggleable__content\"><pre>post</pre></div></div></div><div class=\"sk-serial\"><div class=\"sk-item\"><div class=\"sk-estimator sk-toggleable\"><input class=\"sk-toggleable__control sk-hidden--visually\" id=\"sk-estimator-id-23\" type=\"checkbox\" ><label for=\"sk-estimator-id-23\" class=\"sk-toggleable__label sk-toggleable__label-arrow\">CountVectorizer</label><div class=\"sk-toggleable__content\"><pre>CountVectorizer(max_features=5000, ngram_range=(1, 2))</pre></div></div></div></div></div></div></div></div><div class=\"sk-item\"><div class=\"sk-estimator sk-toggleable\"><input class=\"sk-toggleable__control sk-hidden--visually\" id=\"sk-estimator-id-24\" type=\"checkbox\" ><label for=\"sk-estimator-id-24\" class=\"sk-toggleable__label sk-toggleable__label-arrow\">XGBClassifier</label><div class=\"sk-toggleable__content\"><pre>XGBClassifier(base_score=None, booster=None, callbacks=None,\n",
       "              colsample_bylevel=None, colsample_bynode=None,\n",
       "              colsample_bytree=None, early_stopping_rounds=None,\n",
       "              enable_categorical=False, eval_metric=None, feature_types=None,\n",
       "              gamma=None, gpu_id=None, grow_policy=None, importance_type=None,\n",
       "              interaction_constraints=None, learning_rate=None, max_bin=None,\n",
       "              max_cat_threshold=None, max_cat_to_onehot=None,\n",
       "              max_delta_step=None, max_depth=7, max_leaves=None,\n",
       "              min_child_weight=None, missing=nan, monotone_constraints=None,\n",
       "              n_estimators=200, n_jobs=None, num_parallel_tree=None,\n",
       "              predictor=None, random_state=None, ...)</pre></div></div></div></div></div></div></div></div><div class=\"sk-parallel-item\"><div class=\"sk-item\"><div class=\"sk-label-container\"><div class=\"sk-label sk-toggleable\"><label>lr</label></div></div><div class=\"sk-serial\"><div class=\"sk-item\"><div class=\"sk-serial\"><div class=\"sk-item sk-dashed-wrapped\"><div class=\"sk-label-container\"><div class=\"sk-label sk-toggleable\"><input class=\"sk-toggleable__control sk-hidden--visually\" id=\"sk-estimator-id-25\" type=\"checkbox\" ><label for=\"sk-estimator-id-25\" class=\"sk-toggleable__label sk-toggleable__label-arrow\">vec: ColumnTransformer</label><div class=\"sk-toggleable__content\"><pre>ColumnTransformer(transformers=[(&#x27;post&#x27;,\n",
       "                                 CountVectorizer(max_features=5000,\n",
       "                                                 ngram_range=(1, 2)),\n",
       "                                 &#x27;post&#x27;)])</pre></div></div></div><div class=\"sk-parallel\"><div class=\"sk-parallel-item\"><div class=\"sk-item\"><div class=\"sk-label-container\"><div class=\"sk-label sk-toggleable\"><input class=\"sk-toggleable__control sk-hidden--visually\" id=\"sk-estimator-id-26\" type=\"checkbox\" ><label for=\"sk-estimator-id-26\" class=\"sk-toggleable__label sk-toggleable__label-arrow\">post</label><div class=\"sk-toggleable__content\"><pre>post</pre></div></div></div><div class=\"sk-serial\"><div class=\"sk-item\"><div class=\"sk-estimator sk-toggleable\"><input class=\"sk-toggleable__control sk-hidden--visually\" id=\"sk-estimator-id-27\" type=\"checkbox\" ><label for=\"sk-estimator-id-27\" class=\"sk-toggleable__label sk-toggleable__label-arrow\">CountVectorizer</label><div class=\"sk-toggleable__content\"><pre>CountVectorizer(max_features=5000, ngram_range=(1, 2))</pre></div></div></div></div></div></div></div></div><div class=\"sk-item\"><div class=\"sk-estimator sk-toggleable\"><input class=\"sk-toggleable__control sk-hidden--visually\" id=\"sk-estimator-id-28\" type=\"checkbox\" ><label for=\"sk-estimator-id-28\" class=\"sk-toggleable__label sk-toggleable__label-arrow\">LogisticRegression</label><div class=\"sk-toggleable__content\"><pre>LogisticRegression(max_iter=5000)</pre></div></div></div></div></div></div></div></div></div></div><div class=\"sk-item\"><div class=\"sk-parallel\"><div class=\"sk-parallel-item\"><div class=\"sk-item\"><div class=\"sk-label-container\"><div class=\"sk-label sk-toggleable\"><label>final_estimator</label></div></div><div class=\"sk-serial\"><div class=\"sk-item\"><div class=\"sk-estimator sk-toggleable\"><input class=\"sk-toggleable__control sk-hidden--visually\" id=\"sk-estimator-id-29\" type=\"checkbox\" ><label for=\"sk-estimator-id-29\" class=\"sk-toggleable__label sk-toggleable__label-arrow\">LogisticRegression</label><div class=\"sk-toggleable__content\"><pre>LogisticRegression(max_iter=5000)</pre></div></div></div></div></div></div></div></div></div></div></div></div></div></div></div></div></div>"
      ],
      "text/plain": [
       "GridSearchCV(estimator=StackingClassifier(estimators=[('xg',\n",
       "                                                       Pipeline(steps=[('vec',\n",
       "                                                                        ColumnTransformer(transformers=[('post',\n",
       "                                                                                                         CountVectorizer(max_features=5000,\n",
       "                                                                                                                         ngram_range=(1,\n",
       "                                                                                                                                      2)),\n",
       "                                                                                                         'post')])),\n",
       "                                                                       ('clf',\n",
       "                                                                        XGBClassifier(base_score=None,\n",
       "                                                                                      booster=None,\n",
       "                                                                                      callbacks=None,\n",
       "                                                                                      colsample_bylevel=None,\n",
       "                                                                                      colsample_bynode=None,\n",
       "                                                                                      colsample_bytree=None,\n",
       "                                                                                      early_stopping_rounds=None,\n",
       "                                                                                      enab...\n",
       "                                                                                                         CountVectorizer(max_features=5000,\n",
       "                                                                                                                         ngram_range=(1,\n",
       "                                                                                                                                      2)),\n",
       "                                                                                                         'post')])),\n",
       "                                                                       ('clf',\n",
       "                                                                        LogisticRegression(max_iter=5000))]))],\n",
       "                                          final_estimator=LogisticRegression(max_iter=5000)),\n",
       "             param_grid={'lr__vec__post__max_features': [2500, 5000, 10000],\n",
       "                         'xg__clf__max_depth': [3, 5, 7, 9],\n",
       "                         'xg__clf__n_estimators': [100, 200, 400],\n",
       "                         'xg__vec__post__max_features': [2500, 5000, 10000]},\n",
       "             scoring='f1')"
      ]
     },
     "execution_count": 99,
     "metadata": {},
     "output_type": "execute_result"
    }
   ],
   "source": [
    "stacked_grid = GridSearchCV(estimator=stacked_xg_lr,\n",
    "                            param_grid={\n",
    "                                'xg__clf__max_depth': [3, 5, 7, 9],\n",
    "                                'xg__clf__n_estimators': [100, 200, 400],\n",
    "                                'xg__vec__post__max_features': [2500, 5000, 10000],\n",
    "                                'lr__vec__post__max_features': [2500, 5000, 10000],\n",
    "                            },\n",
    "                            scoring='f1')\n",
    "stacked_grid.fit(X_train, y_train)"
   ]
  },
  {
   "cell_type": "code",
   "execution_count": 101,
   "metadata": {},
   "outputs": [
    {
     "data": {
      "text/plain": [
       "{'lr__vec__post__max_features': 5000,\n",
       " 'xg__clf__max_depth': 7,\n",
       " 'xg__clf__n_estimators': 100,\n",
       " 'xg__vec__post__max_features': 5000}"
      ]
     },
     "execution_count": 101,
     "metadata": {},
     "output_type": "execute_result"
    }
   ],
   "source": [
    "stacked_grid.best_params_"
   ]
  },
  {
   "cell_type": "code",
   "execution_count": 111,
   "metadata": {},
   "outputs": [
    {
     "data": {
      "image/png": "[encoded data removed]",
      "text/plain": [
       "<Figure size 500x500 with 2 Axes>"
      ]
     },
     "metadata": {},
     "output_type": "display_data"
    }
   ],
   "source": [
    "_ = cv(stacked_grid.best_estimator_, plot=True)"
   ]
  },
  {
   "cell_type": "code",
   "execution_count": 117,
   "metadata": {},
   "outputs": [
    {
     "data": {
      "text/plain": [
       "Text(0.5, 1.0, 'Test F1 : 93.3873%')"
      ]
     },
     "execution_count": 117,
     "metadata": {},
     "output_type": "execute_result"
    },
    {
     "data": {
      "image/png": "[encoded data removed]",
      "text/plain": [
       "<Figure size 500x500 with 2 Axes>"
      ]
     },
     "metadata": {},
     "output_type": "display_data"
    }
   ],
   "source": [
    "# On test set\n",
    "optimised_model = stacked_grid.best_estimator_\n",
    "\n",
    "optimised_model.fit(X_train, y_train)\n",
    "y_pred = optimised_model.predict(X_test)\n",
    "\n",
    "_, ax = plt.subplots(figsize=(5, 5))\n",
    "ConfusionMatrixDisplay(confusion_matrix(y_true=y_test, y_pred=y_pred)).plot(ax=ax)\n",
    "ax.set_title(f'Test F1 : {f1_score(y_true=y_test, y_pred=y_pred):.4%}')"
   ]
  },
  {
   "cell_type": "markdown",
   "metadata": {},
   "source": [
    "# Save the model to disk"
   ]
  },
  {
   "cell_type": "code",
   "execution_count": 118,
   "metadata": {},
   "outputs": [
    {
     "data": {
      "text/plain": [
       "['stacked_xg_lr_model.joblib']"
      ]
     },
     "execution_count": 118,
     "metadata": {},
     "output_type": "execute_result"
    }
   ],
   "source": [
    "import joblib\n",
    "\n",
    "joblib.dump(optimised_model, 'stacked_xg_lr_model.joblib')"
   ]
  },
  {
   "cell_type": "markdown",
   "metadata": {},
   "source": [
    "`GradientBoostingClassifier` performs very close to `XGBClassifier` and it might do well in a stacked model too.\n",
    "However, it takes ages to train so I'll leave it for now."
   ]
  },
  {
   "cell_type": "code",
   "execution_count": 95,
   "metadata": {},
   "outputs": [
    {
     "data": {
      "image/png": "[encoded data removed]",
      "text/plain": [
       "<Figure size 500x500 with 2 Axes>"
      ]
     },
     "metadata": {},
     "output_type": "display_data"
    }
   ],
   "source": [
    "stacked_gb_lr = StackingClassifier(\n",
    "    estimators=[\n",
    "        ('gb', Pipeline([\n",
    "                ('vec', ColumnTransformer([(\"post\", CountVectorizer(ngram_range=(1, 2), max_features=5000), \"post\")])),\n",
    "                ('clf', GradientBoostingClassifier(max_depth=5, n_estimators=400)),\n",
    "        ])),\n",
    "        ('lr', lr),\n",
    "    ],\n",
    "    final_estimator=LogisticRegression(max_iter=5000)\n",
    ")\n",
    "\n",
    "cv_stacked = cv(stacked_gb_lr, plot=True)"
   ]
  },
  {
   "cell_type": "code",
   "execution_count": 103,
   "metadata": {},
   "outputs": [
    {
     "name": "stdout",
     "output_type": "stream",
     "text": [
      "Unexpected exception formatting exception. Falling back to standard exception\n"
     ]
    },
    {
     "name": "stderr",
     "output_type": "stream",
     "text": [
      "Traceback (most recent call last):\n",
      "  File \"/usr/local/lib/python3.11/site-packages/IPython/core/interactiveshell.py\", line 3508, in run_code\n",
      "    exec(code_obj, self.user_global_ns, self.user_ns)\n",
      "  File \"/var/folders/17/5jmhtwzx1zs4l2krr8v78rv40000gp/T/ipykernel_67759/712006285.py\", line 9, in <module>\n",
      "    stacked_gb_grid.fit(X_train, y_train)\n",
      "  File \"/usr/local/lib/python3.11/site-packages/sklearn/base.py\", line 1151, in wrapper\n",
      "    return fit_method(estimator, *args, **kwargs)\n",
      "           ^^^^^^^^^^^^^^^^^^^^^^^^^^^^^^^^^^^^^^\n",
      "  File \"/usr/local/lib/python3.11/site-packages/sklearn/model_selection/_search.py\", line 898, in fit\n",
      "    self._run_search(evaluate_candidates)\n",
      "  File \"/usr/local/lib/python3.11/site-packages/sklearn/model_selection/_search.py\", line 1419, in _run_search\n",
      "    evaluate_candidates(ParameterGrid(self.param_grid))\n",
      "  File \"/usr/local/lib/python3.11/site-packages/sklearn/model_selection/_search.py\", line 845, in evaluate_candidates\n",
      "    out = parallel(\n",
      "          ^^^^^^^^^\n",
      "  File \"/usr/local/lib/python3.11/site-packages/sklearn/utils/parallel.py\", line 65, in __call__\n",
      "    return super().__call__(iterable_with_config)\n",
      "           ^^^^^^^^^^^^^^^^^^^^^^^^^^^^^^^^^^^^^^\n",
      "  File \"/usr/local/lib/python3.11/site-packages/joblib/parallel.py\", line 1855, in __call__\n",
      "    return output if self.return_generator else list(output)\n",
      "                                                ^^^^^^^^^^^^\n",
      "  File \"/usr/local/lib/python3.11/site-packages/joblib/parallel.py\", line 1784, in _get_sequential_output\n",
      "    res = func(*args, **kwargs)\n",
      "          ^^^^^^^^^^^^^^^^^^^^^\n",
      "  File \"/usr/local/lib/python3.11/site-packages/sklearn/utils/parallel.py\", line 127, in __call__\n",
      "    return self.function(*args, **kwargs)\n",
      "           ^^^^^^^^^^^^^^^^^^^^^^^^^^^^^^\n",
      "  File \"/usr/local/lib/python3.11/site-packages/sklearn/model_selection/_validation.py\", line 732, in _fit_and_score\n",
      "    estimator.fit(X_train, y_train, **fit_params)\n",
      "  File \"/usr/local/lib/python3.11/site-packages/sklearn/ensemble/_stacking.py\", line 658, in fit\n",
      "    return super().fit(X, y_encoded, sample_weight)\n",
      "           ^^^^^^^^^^^^^^^^^^^^^^^^^^^^^^^^^^^^^^^^\n",
      "  File \"/usr/local/lib/python3.11/site-packages/sklearn/base.py\", line 1151, in wrapper\n",
      "    return fit_method(estimator, *args, **kwargs)\n",
      "           ^^^^^^^^^^^^^^^^^^^^^^^^^^^^^^^^^^^^^^\n",
      "  File \"/usr/local/lib/python3.11/site-packages/sklearn/ensemble/_stacking.py\", line 206, in fit\n",
      "    self.estimators_ = Parallel(n_jobs=self.n_jobs)(\n",
      "                       ^^^^^^^^^^^^^^^^^^^^^^^^^^^^^\n",
      "  File \"/usr/local/lib/python3.11/site-packages/sklearn/utils/parallel.py\", line 65, in __call__\n",
      "    return super().__call__(iterable_with_config)\n",
      "           ^^^^^^^^^^^^^^^^^^^^^^^^^^^^^^^^^^^^^^\n",
      "  File \"/usr/local/lib/python3.11/site-packages/joblib/parallel.py\", line 1855, in __call__\n",
      "    return output if self.return_generator else list(output)\n",
      "                                                ^^^^^^^^^^^^\n",
      "  File \"/usr/local/lib/python3.11/site-packages/joblib/parallel.py\", line 1784, in _get_sequential_output\n",
      "    res = func(*args, **kwargs)\n",
      "          ^^^^^^^^^^^^^^^^^^^^^\n",
      "  File \"/usr/local/lib/python3.11/site-packages/sklearn/utils/parallel.py\", line 127, in __call__\n",
      "    return self.function(*args, **kwargs)\n",
      "           ^^^^^^^^^^^^^^^^^^^^^^^^^^^^^^\n",
      "  File \"/usr/local/lib/python3.11/site-packages/sklearn/ensemble/_base.py\", line 36, in _fit_single_estimator\n",
      "    estimator.fit(X, y)\n",
      "  File \"/usr/local/lib/python3.11/site-packages/sklearn/base.py\", line 1151, in wrapper\n",
      "    return fit_method(estimator, *args, **kwargs)\n",
      "           ^^^^^^^^^^^^^^^^^^^^^^^^^^^^^^^^^^^^^^\n",
      "  File \"/usr/local/lib/python3.11/site-packages/sklearn/pipeline.py\", line 416, in fit\n",
      "    Xt = self._fit(X, y, **fit_params_steps)\n",
      "         ^^^^^^^^^^^^^^^^^^^^^^^^^^^^^^^^^^^\n",
      "  File \"/usr/local/lib/python3.11/site-packages/sklearn/pipeline.py\", line 370, in _fit\n",
      "    X, fitted_transformer = fit_transform_one_cached(\n",
      "                            ^^^^^^^^^^^^^^^^^^^^^^^^^\n",
      "  File \"/usr/local/lib/python3.11/site-packages/joblib/memory.py\", line 353, in __call__\n",
      "    return self.func(*args, **kwargs)\n",
      "           ^^^^^^^^^^^^^^^^^^^^^^^^^^\n",
      "  File \"/usr/local/lib/python3.11/site-packages/sklearn/pipeline.py\", line 950, in _fit_transform_one\n",
      "    res = transformer.fit_transform(X, y, **fit_params)\n",
      "          ^^^^^^^^^^^^^^^^^^^^^^^^^^^^^^^^^^^^^^^^^^^^^\n",
      "  File \"/usr/local/lib/python3.11/site-packages/sklearn/utils/_set_output.py\", line 140, in wrapped\n",
      "    data_to_wrap = f(self, X, *args, **kwargs)\n",
      "                   ^^^^^^^^^^^^^^^^^^^^^^^^^^^\n",
      "  File \"/usr/local/lib/python3.11/site-packages/sklearn/base.py\", line 1151, in wrapper\n",
      "    return fit_method(estimator, *args, **kwargs)\n",
      "           ^^^^^^^^^^^^^^^^^^^^^^^^^^^^^^^^^^^^^^\n",
      "  File \"/usr/local/lib/python3.11/site-packages/sklearn/compose/_column_transformer.py\", line 743, in fit_transform\n",
      "    result = self._fit_transform(X, y, _fit_transform_one)\n",
      "             ^^^^^^^^^^^^^^^^^^^^^^^^^^^^^^^^^^^^^^^^^^^^^\n",
      "  File \"/usr/local/lib/python3.11/site-packages/sklearn/compose/_column_transformer.py\", line 670, in _fit_transform\n",
      "    return Parallel(n_jobs=self.n_jobs)(\n",
      "           ^^^^^^^^^^^^^^^^^^^^^^^^^^^^^\n",
      "  File \"/usr/local/lib/python3.11/site-packages/sklearn/utils/parallel.py\", line 65, in __call__\n",
      "    return super().__call__(iterable_with_config)\n",
      "           ^^^^^^^^^^^^^^^^^^^^^^^^^^^^^^^^^^^^^^\n",
      "  File \"/usr/local/lib/python3.11/site-packages/joblib/parallel.py\", line 1855, in __call__\n",
      "    return output if self.return_generator else list(output)\n",
      "                                                ^^^^^^^^^^^^\n",
      "  File \"/usr/local/lib/python3.11/site-packages/joblib/parallel.py\", line 1784, in _get_sequential_output\n",
      "    res = func(*args, **kwargs)\n",
      "          ^^^^^^^^^^^^^^^^^^^^^\n",
      "  File \"/usr/local/lib/python3.11/site-packages/sklearn/utils/parallel.py\", line 127, in __call__\n",
      "    return self.function(*args, **kwargs)\n",
      "           ^^^^^^^^^^^^^^^^^^^^^^^^^^^^^^\n",
      "  File \"/usr/local/lib/python3.11/site-packages/sklearn/pipeline.py\", line 950, in _fit_transform_one\n",
      "    res = transformer.fit_transform(X, y, **fit_params)\n",
      "          ^^^^^^^^^^^^^^^^^^^^^^^^^^^^^^^^^^^^^^^^^^^^^\n",
      "  File \"/usr/local/lib/python3.11/site-packages/sklearn/base.py\", line 1151, in wrapper\n",
      "    return fit_method(estimator, *args, **kwargs)\n",
      "           ^^^^^^^^^^^^^^^^^^^^^^^^^^^^^^^^^^^^^^\n",
      "  File \"/usr/local/lib/python3.11/site-packages/sklearn/feature_extraction/text.py\", line 1383, in fit_transform\n",
      "    vocabulary, X = self._count_vocab(raw_documents, self.fixed_vocabulary_)\n",
      "                    ^^^^^^^^^^^^^^^^^^^^^^^^^^^^^^^^^^^^^^^^^^^^^^^^^^^^^^^^\n",
      "  File \"/usr/local/lib/python3.11/site-packages/sklearn/feature_extraction/text.py\", line -1, in _count_vocab\n",
      "KeyboardInterrupt\n",
      "\n",
      "During handling of the above exception, another exception occurred:\n",
      "\n",
      "Traceback (most recent call last):\n",
      "  File \"/usr/local/lib/python3.11/site-packages/IPython/core/interactiveshell.py\", line 2105, in showtraceback\n",
      "    stb = self.InteractiveTB.structured_traceback(\n",
      "          ^^^^^^^^^^^^^^^^^^^^^^^^^^^^^^^^^^^^^^^^\n",
      "  File \"/usr/local/lib/python3.11/site-packages/IPython/core/ultratb.py\", line 1428, in structured_traceback\n",
      "    return FormattedTB.structured_traceback(\n",
      "           ^^^^^^^^^^^^^^^^^^^^^^^^^^^^^^^^^\n",
      "  File \"/usr/local/lib/python3.11/site-packages/IPython/core/ultratb.py\", line 1319, in structured_traceback\n",
      "    return VerboseTB.structured_traceback(\n",
      "           ^^^^^^^^^^^^^^^^^^^^^^^^^^^^^^^\n",
      "  File \"/usr/local/lib/python3.11/site-packages/IPython/core/ultratb.py\", line 1172, in structured_traceback\n",
      "    formatted_exception = self.format_exception_as_a_whole(etype, evalue, etb, number_of_lines_of_context,\n",
      "                          ^^^^^^^^^^^^^^^^^^^^^^^^^^^^^^^^^^^^^^^^^^^^^^^^^^^^^^^^^^^^^^^^^^^^^^^^^^^^^^^^\n",
      "  File \"/usr/local/lib/python3.11/site-packages/IPython/core/ultratb.py\", line 1087, in format_exception_as_a_whole\n",
      "    frames.append(self.format_record(record))\n",
      "                  ^^^^^^^^^^^^^^^^^^^^^^^^^^\n",
      "  File \"/usr/local/lib/python3.11/site-packages/IPython/core/ultratb.py\", line 969, in format_record\n",
      "    frame_info.lines, Colors, self.has_colors, lvals\n",
      "    ^^^^^^^^^^^^^^^^\n",
      "  File \"/usr/local/lib/python3.11/site-packages/IPython/core/ultratb.py\", line 792, in lines\n",
      "    return self._sd.lines\n",
      "           ^^^^^^^^^^^^^^\n",
      "  File \"/usr/local/lib/python3.11/site-packages/stack_data/utils.py\", line 144, in cached_property_wrapper\n",
      "    value = obj.__dict__[self.func.__name__] = self.func(obj)\n",
      "                                               ^^^^^^^^^^^^^^\n",
      "  File \"/usr/local/lib/python3.11/site-packages/stack_data/core.py\", line 734, in lines\n",
      "    pieces = self.included_pieces\n",
      "             ^^^^^^^^^^^^^^^^^^^^\n",
      "  File \"/usr/local/lib/python3.11/site-packages/stack_data/utils.py\", line 144, in cached_property_wrapper\n",
      "    value = obj.__dict__[self.func.__name__] = self.func(obj)\n",
      "                                               ^^^^^^^^^^^^^^\n",
      "  File \"/usr/local/lib/python3.11/site-packages/stack_data/core.py\", line 681, in included_pieces\n",
      "    pos = scope_pieces.index(self.executing_piece)\n",
      "                             ^^^^^^^^^^^^^^^^^^^^\n",
      "  File \"/usr/local/lib/python3.11/site-packages/stack_data/utils.py\", line 144, in cached_property_wrapper\n",
      "    value = obj.__dict__[self.func.__name__] = self.func(obj)\n",
      "                                               ^^^^^^^^^^^^^^\n",
      "  File \"/usr/local/lib/python3.11/site-packages/stack_data/core.py\", line 660, in executing_piece\n",
      "    return only(\n",
      "           ^^^^^\n",
      "  File \"/usr/local/lib/python3.11/site-packages/executing/executing.py\", line 190, in only\n",
      "    raise NotOneValueFound('Expected one value, found 0')\n",
      "executing.executing.NotOneValueFound: Expected one value, found 0\n"
     ]
    }
   ],
   "source": [
    "stacked_gb_grid = GridSearchCV(estimator=stacked_gb_lr,\n",
    "                            param_grid={\n",
    "                                'gb__clf__max_depth': [3, 5, 7, 9],\n",
    "                                'gb__clf__n_estimators': [100, 200, 400],\n",
    "                                'gb__vec__post__max_features': [2500, 5000, 10000],\n",
    "                                'lr__vec__post__max_features': [2500, 5000, 10000],\n",
    "                            },\n",
    "                            scoring='f1')\n",
    "stacked_gb_grid.fit(X_train, y_train)\n",
    "\n",
    "# Likely to take 10 hours or more"
   ]
  },
  {
   "cell_type": "code",
   "execution_count": null,
   "metadata": {},
   "outputs": [],
   "source": []
  }
 ],
 "metadata": {
  "kernelspec": {
   "display_name": "Python 3",
   "language": "python",
   "name": "python3"
  },
  "language_info": {
   "codemirror_mode": {
    "name": "ipython",
    "version": 3
   },
   "file_extension": ".py",
   "mimetype": "text/x-python",
   "name": "python",
   "nbconvert_exporter": "python",
   "pygments_lexer": "ipython3",
   "version": "3.11.4"
  },
  "orig_nbformat": 4
 },
 "nbformat": 4,
 "nbformat_minor": 2
}
