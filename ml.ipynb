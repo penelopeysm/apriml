{
 "cells": [
  {
   "attachments": {},
   "cell_type": "markdown",
   "metadata": {},
   "source": [
    "# Setup: import data"
   ]
  },
  {
   "cell_type": "code",
   "execution_count": 116,
   "metadata": {},
   "outputs": [
    {
     "name": "stdout",
     "output_type": "stream",
     "text": [
      "Loaded 5792 posts\n"
     ]
    },
    {
     "data": {
      "text/html": [
       "<div>\n",
       "<style scoped>\n",
       "    .dataframe tbody tr th:only-of-type {\n",
       "        vertical-align: middle;\n",
       "    }\n",
       "\n",
       "    .dataframe tbody tr th {\n",
       "        vertical-align: top;\n",
       "    }\n",
       "\n",
       "    .dataframe thead th {\n",
       "        text-align: right;\n",
       "    }\n",
       "</style>\n",
       "<table border=\"1\" class=\"dataframe\">\n",
       "  <thead>\n",
       "    <tr style=\"text-align: right;\">\n",
       "      <th></th>\n",
       "      <th>id</th>\n",
       "      <th>title</th>\n",
       "      <th>body</th>\n",
       "      <th>submitter</th>\n",
       "      <th>time</th>\n",
       "      <th>flair</th>\n",
       "      <th>hit</th>\n",
       "      <th>vote</th>\n",
       "    </tr>\n",
       "  </thead>\n",
       "  <tbody>\n",
       "    <tr>\n",
       "      <th>0</th>\n",
       "      <td>13gxmuw</td>\n",
       "      <td>LF: Drilbur and Solosis FT: Ask</td>\n",
       "      <td>Hello! Im currently in the process of breeding...</td>\n",
       "      <td>Dracon715</td>\n",
       "      <td>2023-05-14 00:35:25</td>\n",
       "      <td>SMUSUM</td>\n",
       "      <td>True</td>\n",
       "      <td>False</td>\n",
       "    </tr>\n",
       "    <tr>\n",
       "      <th>1</th>\n",
       "      <td>13gx0eg</td>\n",
       "      <td>LF: 6IV Non-English Ditto FT: Apriballs, Abili...</td>\n",
       "      <td>I’ve got pretty much everything aside from ✨ m...</td>\n",
       "      <td>MistaKleen</td>\n",
       "      <td>2023-05-14 00:07:42</td>\n",
       "      <td>SV</td>\n",
       "      <td>True</td>\n",
       "      <td>False</td>\n",
       "    </tr>\n",
       "    <tr>\n",
       "      <th>2</th>\n",
       "      <td>13gwnha</td>\n",
       "      <td>LF H-Zoroark and Flabebe Codes, Jiseok Lee Gar...</td>\n",
       "      <td>Also open to other event offers!\\n\\n\\_\\_\\_\\_\\_...</td>\n",
       "      <td>ShaikhAndBake</td>\n",
       "      <td>2023-05-13 23:51:47</td>\n",
       "      <td>Event</td>\n",
       "      <td>False</td>\n",
       "      <td>False</td>\n",
       "    </tr>\n",
       "    <tr>\n",
       "      <th>3</th>\n",
       "      <td>13gw0vt</td>\n",
       "      <td>LF: Apriball Stonjourner, Yamask, Honedge, HA ...</td>\n",
       "      <td>Hi! I'm looking for a Stonjourner, Yamask, Hon...</td>\n",
       "      <td>Rainy_Days1115</td>\n",
       "      <td>2023-05-13 23:24:22</td>\n",
       "      <td>SWSH</td>\n",
       "      <td>True</td>\n",
       "      <td>True</td>\n",
       "    </tr>\n",
       "    <tr>\n",
       "      <th>4</th>\n",
       "      <td>13gw04b</td>\n",
       "      <td>LF: Sobble. FT: scarlet exclusives/raid exclusive</td>\n",
       "      <td>It's the only raid exclusive that I'm missing,...</td>\n",
       "      <td>gertygaming</td>\n",
       "      <td>2023-05-13 23:23:23</td>\n",
       "      <td>SV (Closed)</td>\n",
       "      <td>False</td>\n",
       "      <td>False</td>\n",
       "    </tr>\n",
       "    <tr>\n",
       "      <th>5</th>\n",
       "      <td>13gvv1y</td>\n",
       "      <td>LF: Apriball Chespin FT: Other Apriball Chespin</td>\n",
       "      <td>Still need Chespin in the following balls (HA ...</td>\n",
       "      <td>RevolutioFalco</td>\n",
       "      <td>2023-05-13 23:17:05</td>\n",
       "      <td>SV</td>\n",
       "      <td>True</td>\n",
       "      <td>True</td>\n",
       "    </tr>\n",
       "    <tr>\n",
       "      <th>6</th>\n",
       "      <td>13gvr1f</td>\n",
       "      <td>LF Moon Ball Hisuian Zorua, Heavy Ball Rookide...</td>\n",
       "      <td>Breedjects acceptable for all!\\n\\nEdit: Just r...</td>\n",
       "      <td>foozeld</td>\n",
       "      <td>2023-05-13 23:12:12</td>\n",
       "      <td>SV</td>\n",
       "      <td>True</td>\n",
       "      <td>True</td>\n",
       "    </tr>\n",
       "    <tr>\n",
       "      <th>7</th>\n",
       "      <td>13gux1l</td>\n",
       "      <td>LF: Low level Oshawott and Rowlett for PLA pla...</td>\n",
       "      <td></td>\n",
       "      <td>clee8017</td>\n",
       "      <td>2023-05-13 22:36:33</td>\n",
       "      <td>PLA</td>\n",
       "      <td>True</td>\n",
       "      <td>False</td>\n",
       "    </tr>\n",
       "    <tr>\n",
       "      <th>8</th>\n",
       "      <td>13guog4</td>\n",
       "      <td>LF: cyndaquil FT: froakie??</td>\n",
       "      <td>i missed typhlosian and really want a cyndaqui...</td>\n",
       "      <td>uglycynda</td>\n",
       "      <td>2023-05-13 22:26:37</td>\n",
       "      <td>SV (Closed)</td>\n",
       "      <td>False</td>\n",
       "      <td>False</td>\n",
       "    </tr>\n",
       "    <tr>\n",
       "      <th>9</th>\n",
       "      <td>13gucgy</td>\n",
       "      <td>[SV] FT: Aprishinies, Shinies LF: Apriballs</td>\n",
       "      <td>FT (all shinies, all untouched):\\n\\n|Pokemon|B...</td>\n",
       "      <td>Only_Television2030</td>\n",
       "      <td>2023-05-13 22:13:07</td>\n",
       "      <td>Shiny</td>\n",
       "      <td>True</td>\n",
       "      <td>False</td>\n",
       "    </tr>\n",
       "  </tbody>\n",
       "</table>\n",
       "</div>"
      ],
      "text/plain": [
       "        id                                              title  \\\n",
       "0  13gxmuw                    LF: Drilbur and Solosis FT: Ask   \n",
       "1  13gx0eg  LF: 6IV Non-English Ditto FT: Apriballs, Abili...   \n",
       "2  13gwnha  LF H-Zoroark and Flabebe Codes, Jiseok Lee Gar...   \n",
       "3  13gw0vt  LF: Apriball Stonjourner, Yamask, Honedge, HA ...   \n",
       "4  13gw04b  LF: Sobble. FT: scarlet exclusives/raid exclusive   \n",
       "5  13gvv1y    LF: Apriball Chespin FT: Other Apriball Chespin   \n",
       "6  13gvr1f  LF Moon Ball Hisuian Zorua, Heavy Ball Rookide...   \n",
       "7  13gux1l  LF: Low level Oshawott and Rowlett for PLA pla...   \n",
       "8  13guog4                        LF: cyndaquil FT: froakie??   \n",
       "9  13gucgy        [SV] FT: Aprishinies, Shinies LF: Apriballs   \n",
       "\n",
       "                                                body            submitter  \\\n",
       "0  Hello! Im currently in the process of breeding...            Dracon715   \n",
       "1  I’ve got pretty much everything aside from ✨ m...           MistaKleen   \n",
       "2  Also open to other event offers!\\n\\n\\_\\_\\_\\_\\_...        ShaikhAndBake   \n",
       "3  Hi! I'm looking for a Stonjourner, Yamask, Hon...       Rainy_Days1115   \n",
       "4  It's the only raid exclusive that I'm missing,...          gertygaming   \n",
       "5  Still need Chespin in the following balls (HA ...       RevolutioFalco   \n",
       "6  Breedjects acceptable for all!\\n\\nEdit: Just r...              foozeld   \n",
       "7                                                                clee8017   \n",
       "8  i missed typhlosian and really want a cyndaqui...            uglycynda   \n",
       "9  FT (all shinies, all untouched):\\n\\n|Pokemon|B...  Only_Television2030   \n",
       "\n",
       "                  time        flair    hit   vote  \n",
       "0  2023-05-14 00:35:25       SMUSUM   True  False  \n",
       "1  2023-05-14 00:07:42           SV   True  False  \n",
       "2  2023-05-13 23:51:47        Event  False  False  \n",
       "3  2023-05-13 23:24:22         SWSH   True   True  \n",
       "4  2023-05-13 23:23:23  SV (Closed)  False  False  \n",
       "5  2023-05-13 23:17:05           SV   True   True  \n",
       "6  2023-05-13 23:12:12           SV   True   True  \n",
       "7  2023-05-13 22:36:33          PLA   True  False  \n",
       "8  2023-05-13 22:26:37  SV (Closed)  False  False  \n",
       "9  2023-05-13 22:13:07        Shiny   True  False  "
      ]
     },
     "execution_count": 116,
     "metadata": {},
     "output_type": "execute_result"
    }
   ],
   "source": [
    "import pandas as pd\n",
    "\n",
    "df = pd.read_parquet('posts.parquet')\n",
    "print(f'Loaded {len(df)} posts')\n",
    "df.head(n=10)\n",
    "\n",
    "# Columns in this dataframe:\n",
    "# \n",
    "#     id:        Reddit post ID on reddit. The post itself can be viewed at\n",
    "#                https://reddit.com/r/pokemontrades/comments/{id}\n",
    "#     title:     Post title.\n",
    "#     body:      Post body (in Markdown format).\n",
    "#     submitter: The username of the submitter\n",
    "#     time:      Post submission time, in UTC\n",
    "#     flair:     Post flair (at the time the post was scraped)\n",
    "#     hit:       Whether ApriBot's crude detection mechanism (keyword-search) thought the post was Aprimon-related.\n",
    "#     vote:      /r/BankBallExchange's judgment as to whether the post was Aprimon-related. This is the ground truth."
   ]
  },
  {
   "attachments": {},
   "cell_type": "markdown",
   "metadata": {},
   "source": [
    "# How accurate was the original detection mechanism?\n",
    "\n",
    "To visualise this, we can plot what's known as a *confusion matrix*, where each row corresponds to what the post *should* have been identified as, and each column corresponds to what the post was actually classified as.\n",
    "\n",
    "The top-left and bottom-right entries, where the predicted and actual classes match each other, are the cases where the prediction was successful.\n",
    "\n",
    "The bottom-left entry contains *false negatives*: posts which really were about Aprimon but weren't picked up on. It's reassuring that there aren't many of these!\n",
    "\n",
    "The top-right entry contains *false positives*: posts which didn't really have Aprimon, but were still picked up. There are lots of these! This isn't really surprising, because I designed the keyword search to be very permissive, the rationale being that we'd rather get extra notifications about unwanted posts than miss out on posts we were genuinely interested in."
   ]
  },
  {
   "cell_type": "code",
   "execution_count": 117,
   "metadata": {},
   "outputs": [
    {
     "data": {
      "image/png": "[encoded data removed]",
      "text/plain": [
       "<Figure size 640x480 with 2 Axes>"
      ]
     },
     "metadata": {},
     "output_type": "display_data"
    }
   ],
   "source": [
    "from sklearn.metrics import confusion_matrix, ConfusionMatrixDisplay\n",
    "import matplotlib.pyplot as plt\n",
    "\n",
    "cm = confusion_matrix(y_true=df.vote, y_pred=df.hit)\n",
    "disp = ConfusionMatrixDisplay(confusion_matrix=cm, display_labels=['not Aprimon', 'Aprimon'])\n",
    "disp.plot()\n",
    "plt.show()"
   ]
  },
  {
   "attachments": {},
   "cell_type": "markdown",
   "metadata": {},
   "source": [
    "We can extract some metrics from this:\n",
    "\n",
    " - *Accuracy*: the proportion of posts that were overall correctly categorised\n",
    " - *Sensitivity*: the proportion of Aprimon posts that were correctly picked up\n",
    " - *Specificity*: the proportion of non-Aprimon posts that were correctly ignored (we expect this to be not amazing)"
   ]
  },
  {
   "cell_type": "code",
   "execution_count": 118,
   "metadata": {},
   "outputs": [
    {
     "name": "stdout",
     "output_type": "stream",
     "text": [
      "Accuracy:    80.92%\n",
      "Sensitivity: 99.24%\n",
      "Specificity: 74.85%\n"
     ]
    }
   ],
   "source": [
    "def get_metrics(y_true, y_pred):\n",
    "    \"Returns accuracy, sensitivity, and specificity (in that order).\"\n",
    "    cm = confusion_matrix(y_true=y_true, y_pred=y_pred)\n",
    "    true_pos = cm[1, 1]\n",
    "    true_neg = cm[0, 0]\n",
    "    false_pos = cm[0, 1]\n",
    "    false_neg = cm[1, 0]\n",
    "    return ((true_pos + true_neg) / (true_pos + true_neg + false_pos + false_neg),\n",
    "            true_pos / (true_pos + false_neg),\n",
    "            true_neg / (true_neg + false_pos))\n",
    "\n",
    "accuracy, sensitivity, specificity = get_metrics(y_true=df.vote, y_pred=df.hit)\n",
    "print(f'Accuracy:    {accuracy:.2%}')\n",
    "print(f'Sensitivity: {sensitivity:.2%}')\n",
    "print(f'Specificity: {specificity:.2%}')"
   ]
  },
  {
   "attachments": {},
   "cell_type": "markdown",
   "metadata": {},
   "source": [
    "# Text vectorisation\n",
    "\n",
    "Most machine learning algorithms use vectors as inputs; we thus first need to (somehow) convert our input data into vectors.\n",
    "We'll only use the post title and post body as our inputs.\n",
    "These are both text-based, and can have variable lengths.\n",
    "\n",
    "In this notebook, we'll look at several ways of converting these into vectors.\n",
    "The first of these will be the 'bag of words' model, where we generate a *vocabulary* which is a list of all words found across all posts.\n",
    "The size of the vocabulary will be the number of features $m$, and each post will be converted into a vector of length $m$, where\n",
    "the $i$-th component of the vector is 1 if the $i$-th word is present in the text, and 0 if it is not.\n",
    "\n",
    "But first, we'll clean up the text by removing things like punctuation and capitalisation."
   ]
  },
  {
   "cell_type": "code",
   "execution_count": 119,
   "metadata": {},
   "outputs": [
    {
     "name": "stdout",
     "output_type": "stream",
     "text": [
      "'i've', 'got', 'pretty', 'much', 'everything', 'aside', 'from', 'mons', 'just', 'ask'\n",
      "'if', 'you', 'need', 'something', 'in', 'particular', 'and', 'i'll', 'let', 'you'\n",
      "'know', 'if', 'i', 'have', 'it'\n"
     ]
    }
   ],
   "source": [
    "import re\n",
    "\n",
    "def to_words(text):\n",
    "    # remove Markdown links\n",
    "    text = re.sub(r'\\[([^\\]]+)\\]\\([^)]+\\)', r'\\1', text)\n",
    "    # split on spaces\n",
    "    words = text.split()\n",
    "    # remove links (heuristically)\n",
    "    words = [w for w in words if not w.startswith('http') and not w.startswith('www')]\n",
    "    # convert curly double/single quotes to plain single quotes\n",
    "    words = [w.replace('“', \"'\").replace('”', \"'\").replace('‘', \"'\").replace('’', \"'\") for w in words]\n",
    "    # split on other punctuation (except apostrophes and hyphens) and convert to lowercase\n",
    "    words = [w for word in words for w in re.split(r\"[^A-Za-z0-9'-]+\", word.lower())]\n",
    "    # remove apostrophes and hyphens at either end\n",
    "    words = [re.sub(r\"^['-]+|['-]+$\", '', w) for w in words]\n",
    "    # get rid of anything that doesn't have at least one letter\n",
    "    return [s for s in words if any(c.isalpha() for c in s)]\n",
    "    \n",
    "example_words = to_words(df.iloc[1].body)\n",
    "\n",
    "# same as printing example_words directly, but split over lines\n",
    "for i in range(0, len(example_words), 10):\n",
    "    print(', '.join(\"'\" + s + \"'\" for s in example_words[i:i + 10]))"
   ]
  },
  {
   "cell_type": "code",
   "execution_count": 120,
   "metadata": {},
   "outputs": [
    {
     "data": {
      "text/html": [
       "<div>\n",
       "<style scoped>\n",
       "    .dataframe tbody tr th:only-of-type {\n",
       "        vertical-align: middle;\n",
       "    }\n",
       "\n",
       "    .dataframe tbody tr th {\n",
       "        vertical-align: top;\n",
       "    }\n",
       "\n",
       "    .dataframe thead th {\n",
       "        text-align: right;\n",
       "    }\n",
       "</style>\n",
       "<table border=\"1\" class=\"dataframe\">\n",
       "  <thead>\n",
       "    <tr style=\"text-align: right;\">\n",
       "      <th></th>\n",
       "      <th>id</th>\n",
       "      <th>body_words</th>\n",
       "      <th>title_words</th>\n",
       "      <th>all_words</th>\n",
       "      <th>vote</th>\n",
       "    </tr>\n",
       "  </thead>\n",
       "  <tbody>\n",
       "    <tr>\n",
       "      <th>0</th>\n",
       "      <td>13gxmuw</td>\n",
       "      <td>[hello, im, currently, in, the, process, of, b...</td>\n",
       "      <td>[lf, drilbur, and, solosis, ft, ask]</td>\n",
       "      <td>[hello, im, currently, in, the, process, of, b...</td>\n",
       "      <td>False</td>\n",
       "    </tr>\n",
       "    <tr>\n",
       "      <th>1</th>\n",
       "      <td>13gx0eg</td>\n",
       "      <td>[i've, got, pretty, much, everything, aside, f...</td>\n",
       "      <td>[lf, 6iv, non-english, ditto, ft, apriballs, a...</td>\n",
       "      <td>[i've, got, pretty, much, everything, aside, f...</td>\n",
       "      <td>False</td>\n",
       "    </tr>\n",
       "    <tr>\n",
       "      <th>2</th>\n",
       "      <td>13gwnha</td>\n",
       "      <td>[also, open, to, other, event, offers, gen, sh...</td>\n",
       "      <td>[lf, h-zoroark, and, flabebe, codes, jiseok, l...</td>\n",
       "      <td>[also, open, to, other, event, offers, gen, sh...</td>\n",
       "      <td>False</td>\n",
       "    </tr>\n",
       "    <tr>\n",
       "      <th>3</th>\n",
       "      <td>13gw0vt</td>\n",
       "      <td>[hi, i'm, looking, for, a, stonjourner, yamask...</td>\n",
       "      <td>[lf, apriball, stonjourner, yamask, honedge, h...</td>\n",
       "      <td>[hi, i'm, looking, for, a, stonjourner, yamask...</td>\n",
       "      <td>True</td>\n",
       "    </tr>\n",
       "    <tr>\n",
       "      <th>4</th>\n",
       "      <td>13gw04b</td>\n",
       "      <td>[it's, the, only, raid, exclusive, that, i'm, ...</td>\n",
       "      <td>[lf, sobble, ft, scarlet, exclusives, raid, ex...</td>\n",
       "      <td>[it's, the, only, raid, exclusive, that, i'm, ...</td>\n",
       "      <td>False</td>\n",
       "    </tr>\n",
       "  </tbody>\n",
       "</table>\n",
       "</div>"
      ],
      "text/plain": [
       "        id                                         body_words  \\\n",
       "0  13gxmuw  [hello, im, currently, in, the, process, of, b...   \n",
       "1  13gx0eg  [i've, got, pretty, much, everything, aside, f...   \n",
       "2  13gwnha  [also, open, to, other, event, offers, gen, sh...   \n",
       "3  13gw0vt  [hi, i'm, looking, for, a, stonjourner, yamask...   \n",
       "4  13gw04b  [it's, the, only, raid, exclusive, that, i'm, ...   \n",
       "\n",
       "                                         title_words  \\\n",
       "0               [lf, drilbur, and, solosis, ft, ask]   \n",
       "1  [lf, 6iv, non-english, ditto, ft, apriballs, a...   \n",
       "2  [lf, h-zoroark, and, flabebe, codes, jiseok, l...   \n",
       "3  [lf, apriball, stonjourner, yamask, honedge, h...   \n",
       "4  [lf, sobble, ft, scarlet, exclusives, raid, ex...   \n",
       "\n",
       "                                           all_words   vote  \n",
       "0  [hello, im, currently, in, the, process, of, b...  False  \n",
       "1  [i've, got, pretty, much, everything, aside, f...  False  \n",
       "2  [also, open, to, other, event, offers, gen, sh...  False  \n",
       "3  [hi, i'm, looking, for, a, stonjourner, yamask...   True  \n",
       "4  [it's, the, only, raid, exclusive, that, i'm, ...  False  "
      ]
     },
     "execution_count": 120,
     "metadata": {},
     "output_type": "execute_result"
    }
   ],
   "source": [
    "df_processed = (df.assign(body_words=df.body.apply(to_words))\n",
    "                  .assign(title_words=df.title.apply(to_words))\n",
    "                  .assign(all_words=lambda df: df.body_words + df.title_words)\n",
    "                  .loc[:, ['id', 'body_words', 'title_words', 'all_words', 'vote']])\n",
    "df_processed.head()"
   ]
  },
  {
   "attachments": {},
   "cell_type": "markdown",
   "metadata": {},
   "source": [
    "From this, we can obtain the set of all words which appear in either the body or the post.\n",
    "\n",
    "We can use Python's set data structure to elegantly get rid of duplicates.\n",
    "However, because sets are [not ordered](https://docs.python.org/3/tutorial/datastructures.html#sets), we shall then convert them into dictionaries (and sort for good measure)."
   ]
  },
  {
   "cell_type": "code",
   "execution_count": 121,
   "metadata": {},
   "outputs": [
    {
     "name": "stdout",
     "output_type": "stream",
     "text": [
      "Body vocabulary size: 8035\n",
      "Title vocabulary size: 2858\n",
      "Overall vocabulary size: 8486\n",
      "Example words: ['bookeeping', 'drizzile', 'flabebe', 'town', 'memelord', 'deino', 'ok-procedure-8251', 'wont', 'sparse', 'sandiles']\n"
     ]
    }
   ],
   "source": [
    "import numpy as np\n",
    "\n",
    "body_vocabulary_set = {word for text in df_processed.body_words for word in text}\n",
    "title_vocabulary_set = {word for text in df_processed.title_words for word in text}\n",
    "vocabulary_set = body_vocabulary_set | title_vocabulary_set\n",
    "\n",
    "body_vocabulary = dict(zip(sorted(list(body_vocabulary_set)), range(len(body_vocabulary_set))))\n",
    "title_vocabulary = dict(zip(sorted(list(title_vocabulary_set)), range(len(title_vocabulary_set))))\n",
    "vocabulary = dict(zip(sorted(list(vocabulary_set)), range(len(vocabulary_set))))\n",
    "\n",
    "print(f'Body vocabulary size: {len(body_vocabulary)}')\n",
    "print(f'Title vocabulary size: {len(title_vocabulary)}')\n",
    "print(f'Overall vocabulary size: {len(vocabulary)}')\n",
    "\n",
    "import random\n",
    "random.seed(a=1815)    # Year of publication of Jane Austen's \"Emma\" --- my favourite book.\n",
    "print(f'Example words: {random.sample(list(vocabulary.keys()), 10)}')"
   ]
  },
  {
   "attachments": {},
   "cell_type": "markdown",
   "metadata": {},
   "source": [
    "This means that our *post bodies* can be represented by 8035-length vectors, and *post titles* by 2858-length vectors.\n",
    "\n",
    "Alternatively, if we just want to obtain a single representation of a post, we can just use a 8486-length vector.\n",
    "However, this sacrifices some information compared to treating them separately, as we can no longer tell whether a word occurred in the body or the title.\n",
    "\n",
    "Here are the three *design matrices* we can obtain with these representations.\n",
    "Each row in the design matrix corresponds to one observation, and each column corresponds to one feature.\n",
    "Thus, if we have $m$ posts and $n$ features, the design matrix should have the shape $(m \\times n)$.\n",
    "\n",
    "We'll first try to read the design matrices from files that we've saved on a previous notebook run.\n",
    "If these don't exist, then we can regenerate them from the dataframes above, which takes a few minutes."
   ]
  },
  {
   "cell_type": "code",
   "execution_count": 122,
   "metadata": {},
   "outputs": [
    {
     "name": "stdout",
     "output_type": "stream",
     "text": [
      "(5792, 8035)\n",
      "(5792, 2858)\n",
      "(5792, 8486)\n"
     ]
    }
   ],
   "source": [
    "def get_feature_vector(words: list[str], vocab: np.ndarray):\n",
    "    feat = np.zeros(len(vocab))\n",
    "    for word in words:\n",
    "        try:\n",
    "            feat[vocab[word]] = 1\n",
    "        except KeyError:\n",
    "            pass\n",
    "    return feat\n",
    "    \n",
    "from pathlib import Path\n",
    "\n",
    "def make_design_matrix(words_series, vocab):\n",
    "    return np.array([get_feature_vector(words, vocab) for words in words_series])\n",
    "        \n",
    "X_body = make_design_matrix(df_processed['body_words'], body_vocabulary)\n",
    "X_title = make_design_matrix(df_processed['title_words'], title_vocabulary)\n",
    "X_overall = make_design_matrix(df_processed['all_words'], vocabulary)\n",
    "\n",
    "print(X_body.shape)\n",
    "print(X_title.shape)\n",
    "print(X_overall.shape)"
   ]
  },
  {
   "attachments": {},
   "cell_type": "markdown",
   "metadata": {},
   "source": [
    "We should also generate a vector of targets:"
   ]
  },
  {
   "cell_type": "code",
   "execution_count": 123,
   "metadata": {},
   "outputs": [
    {
     "data": {
      "text/plain": [
       "(5792,)"
      ]
     },
     "execution_count": 123,
     "metadata": {},
     "output_type": "execute_result"
    }
   ],
   "source": [
    "T = df_processed.vote.to_numpy()\n",
    "T.shape"
   ]
  },
  {
   "attachments": {},
   "cell_type": "markdown",
   "metadata": {},
   "source": [
    "We've done all of this by hand so far.\n",
    "\n",
    "In fact, `scikit-learn` provides functions which do almost exactly the same thing as what we've done above, except that the default tokenisation process (i.e. converting the text into individual words, or tokens) is somewhat different.\n",
    "As it turns out, the biggest differences are to do with apostrophes and hyphens—which we've specifically retained.\n",
    "For example, `scikit-learn` splits 'on-hand' into 'on' and 'hand'.\n",
    "It also deletes words that are one character long, such as 'I' and 'a'.\n",
    "Quoting from [its documentation](https://scikit-learn.org/stable/modules/generated/sklearn.feature_extraction.text.CountVectorizer.html):\n",
    "\n",
    "> The default regexp select *(sic)* tokens of 2 or more alphanumeric characters (punctuation is completely ignored and always treated as a token separator)."
   ]
  },
  {
   "cell_type": "code",
   "execution_count": 124,
   "metadata": {},
   "outputs": [
    {
     "name": "stdout",
     "output_type": "stream",
     "text": [
      "Number of differences: 19890 (0.04% out of 49150912 entries)\n",
      "Top differences, accounting for 11254 of the above: \n",
      "- ('i', 3142)\n",
      "- ('a', 2524)\n",
      "- (\"i'm\", 1253)\n",
      "- (\"don't\", 640)\n",
      "- ('don', 640)\n",
      "- (\"i'll\", 421)\n",
      "- (\"i'd\", 247)\n",
      "- ('self', 230)\n",
      "- (\"you're\", 226)\n",
      "- ('on-hands', 206)\n",
      "- (\"i've\", 201)\n",
      "- ('hands', 195)\n",
      "- ('non', 182)\n",
      "- (\"it's\", 179)\n",
      "- ('x', 173)\n",
      "- ('r', 171)\n",
      "- ('on-hand', 168)\n",
      "- ('on', 166)\n",
      "- ('hand', 145)\n",
      "- ('h', 145)\n"
     ]
    }
   ],
   "source": [
    "from sklearn.feature_extraction.text import CountVectorizer\n",
    "\n",
    "vectorizer = CountVectorizer(binary=True, vocabulary=vocabulary.keys())\n",
    "# Note that here, we're feeding scikit-learn a nicely sanitised string that is\n",
    "# obtained by joining our own tokens together. If we were to directly feed it\n",
    "# the Markdown text, it would probably churn out a bunch of rubbish.\n",
    "X_overall_sklearn = vectorizer.fit_transform(df_processed.all_words.apply(lambda ws: \" \".join(ws))).toarray()\n",
    "X_overall_sklearn.shape\n",
    "\n",
    "# How different are X_overall and X_overall_sklearn?\n",
    "differences = (X_overall != X_overall_sklearn)\n",
    "print(f'Number of differences: {differences.sum()} ({differences.sum() / X_overall.size:.2%} out of {X_overall.size} entries)')\n",
    "\n",
    "# Which columns have the most difference?\n",
    "differences_by_column = differences.sum(axis=0)\n",
    "most_different_columns = np.argpartition(differences_by_column, -20)[-20:]\n",
    "most_different_words = [(list(vocabulary.keys())[i], differences_by_column[i]) for i in most_different_columns]\n",
    "print(f'Top differences, accounting for {sum(t[1] for t in most_different_words)} of the above: ')\n",
    "for t in sorted(most_different_words, key=lambda t: t[1], reverse=True):\n",
    "    print('-', t)"
   ]
  },
  {
   "attachments": {},
   "cell_type": "markdown",
   "metadata": {},
   "source": [
    "If we feed `scikit-learn` the appropriate `token_pattern` argument, though, then it turns out that we can exactly reproduce our manual featurisation:"
   ]
  },
  {
   "cell_type": "code",
   "execution_count": 125,
   "metadata": {},
   "outputs": [
    {
     "name": "stdout",
     "output_type": "stream",
     "text": [
      "Number of differences: 0 (0.00% out of 49150912 entries)\n"
     ]
    }
   ],
   "source": [
    "from sklearn.feature_extraction.text import CountVectorizer\n",
    "\n",
    "vectorizer2 = CountVectorizer(binary=True, vocabulary=vocabulary.keys(), token_pattern=r'\\b[A-Za-z0-9][A-Za-z0-9\\'-]*[A-Za-z0-9]\\b|\\b[A-Za-z]\\b')\n",
    "X_overall_sklearn2 = vectorizer2.fit_transform(df_processed.all_words.apply(lambda ws: \" \".join(ws))).toarray()\n",
    "\n",
    "# How different are X_overall and X_overall_sklearn2?\n",
    "differences = (X_overall != X_overall_sklearn2)\n",
    "print(f'Number of differences: {differences.sum()} ({differences.sum() / X_overall.size:.2%} out of {X_overall.size} entries)')"
   ]
  },
  {
   "attachments": {},
   "cell_type": "markdown",
   "metadata": {},
   "source": [
    "# Train/test split\n",
    "\n",
    "At this point, we split our dataset up into two portions: 80% for training, and 20% for testing.\n",
    "\n",
    "The fact that we performed featurisation before the data were split is not a problem with the present model we are using.\n",
    "It is true that the training set will contain 'features' that only exist in the test set, but the value of such features will always be zero (since they do not appear in the training set), and a feature that is always zero should not be captured by the resulting model."
   ]
  },
  {
   "cell_type": "code",
   "execution_count": 126,
   "metadata": {},
   "outputs": [],
   "source": [
    "random.seed(a=1815)\n",
    "n = X_overall.shape[0]\n",
    "test_indices = random.sample(range(n), n // 5)\n",
    "test_indices_mask = np.zeros(n)\n",
    "test_indices_mask[test_indices] = 1\n",
    "\n",
    "X_body_train = X_body[test_indices_mask == 0]\n",
    "X_body_test = X_body[test_indices_mask == 1]\n",
    "\n",
    "X_title_train = X_title[test_indices_mask == 0]\n",
    "X_title_test = X_title[test_indices_mask == 1]\n",
    "\n",
    "X_overall_train = X_overall[test_indices_mask == 0]\n",
    "X_overall_test = X_overall[test_indices_mask == 1]\n",
    "\n",
    "T_train = T[test_indices_mask == 0]\n",
    "T_test = T[test_indices_mask == 1]"
   ]
  },
  {
   "attachments": {},
   "cell_type": "markdown",
   "metadata": {},
   "source": [
    "We should check the distribution of positive and negative posts in our training and test set to make sure that they aren't skewed."
   ]
  },
  {
   "cell_type": "code",
   "execution_count": 127,
   "metadata": {},
   "outputs": [
    {
     "name": "stdout",
     "output_type": "stream",
     "text": [
      "Aprimon posts in training set: 1148/4634 = 24.77%\n",
      "Aprimon posts in test set: 294/1158 = 25.39%\n"
     ]
    }
   ],
   "source": [
    "print(f'Aprimon posts in training set: {(T_train == 1).sum()}/{T_train.size} = {(T_train == 1).sum() / T_train.size:.2%}')\n",
    "print(f'Aprimon posts in test set: {(T_test == 1).sum()}/{T_test.size} = {(T_test == 1).sum() / T_test.size:.2%}')"
   ]
  },
  {
   "attachments": {},
   "cell_type": "markdown",
   "metadata": {},
   "source": [
    "# The model\n",
    "\n",
    "https://www.inf.ed.ac.uk/teaching/courses/inf2b/learnnotes/inf2b-learn07-notes-nup.pdf"
   ]
  },
  {
   "attachments": {},
   "cell_type": "markdown",
   "metadata": {},
   "source": []
  }
 ],
 "metadata": {
  "kernelspec": {
   "display_name": "Python 3",
   "language": "python",
   "name": "python3"
  },
  "language_info": {
   "codemirror_mode": {
    "name": "ipython",
    "version": 3
   },
   "file_extension": ".py",
   "mimetype": "text/x-python",
   "name": "python",
   "nbconvert_exporter": "python",
   "pygments_lexer": "ipython3",
   "version": "3.10.9"
  },
  "orig_nbformat": 4
 },
 "nbformat": 4,
 "nbformat_minor": 2
}
