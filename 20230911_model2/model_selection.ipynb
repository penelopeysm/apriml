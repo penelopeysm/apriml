{
 "cells": [
  {
   "cell_type": "markdown",
   "metadata": {},
   "source": [
    "# Updating the model for new data\n",
    "\n",
    "By now we have about twice as many posts as before (~14,000 compared to ~7,000).\n",
    "Time to retrain the model!"
   ]
  },
  {
   "cell_type": "markdown",
   "metadata": {},
   "source": [
    "# Data import and cleaning\n",
    "\n",
    "This procedure will be exactly the same as before."
   ]
  },
  {
   "cell_type": "code",
   "execution_count": 1,
   "metadata": {},
   "outputs": [
    {
     "name": "stdout",
     "output_type": "stream",
     "text": [
      "Loaded 14039 posts\n"
     ]
    },
    {
     "data": {
      "text/html": [
       "<div>\n",
       "<style scoped>\n",
       "    .dataframe tbody tr th:only-of-type {\n",
       "        vertical-align: middle;\n",
       "    }\n",
       "\n",
       "    .dataframe tbody tr th {\n",
       "        vertical-align: top;\n",
       "    }\n",
       "\n",
       "    .dataframe thead th {\n",
       "        text-align: right;\n",
       "    }\n",
       "</style>\n",
       "<table border=\"1\" class=\"dataframe\">\n",
       "  <thead>\n",
       "    <tr style=\"text-align: right;\">\n",
       "      <th></th>\n",
       "      <th>id</th>\n",
       "      <th>title</th>\n",
       "      <th>body</th>\n",
       "      <th>submitter</th>\n",
       "      <th>time</th>\n",
       "      <th>flair</th>\n",
       "      <th>hit</th>\n",
       "      <th>vote</th>\n",
       "    </tr>\n",
       "  </thead>\n",
       "  <tbody>\n",
       "    <tr>\n",
       "      <th>0</th>\n",
       "      <td>13gxmuw</td>\n",
       "      <td>LF: Drilbur and Solosis FT: Ask</td>\n",
       "      <td>Hello! Im currently in the process of breeding...</td>\n",
       "      <td>Dracon715</td>\n",
       "      <td>2023-05-14 00:35:25</td>\n",
       "      <td>SMUSUM</td>\n",
       "      <td>True</td>\n",
       "      <td>False</td>\n",
       "    </tr>\n",
       "    <tr>\n",
       "      <th>1</th>\n",
       "      <td>13gx0eg</td>\n",
       "      <td>LF: 6IV Non-English Ditto FT: Apriballs, Abili...</td>\n",
       "      <td>I’ve got pretty much everything aside from ✨ m...</td>\n",
       "      <td>MistaKleen</td>\n",
       "      <td>2023-05-14 00:07:42</td>\n",
       "      <td>SV</td>\n",
       "      <td>True</td>\n",
       "      <td>False</td>\n",
       "    </tr>\n",
       "    <tr>\n",
       "      <th>2</th>\n",
       "      <td>13gwnha</td>\n",
       "      <td>LF H-Zoroark and Flabebe Codes, Jiseok Lee Gar...</td>\n",
       "      <td>Also open to other event offers!\\n\\n\\_\\_\\_\\_\\_...</td>\n",
       "      <td>ShaikhAndBake</td>\n",
       "      <td>2023-05-13 23:51:47</td>\n",
       "      <td>Event</td>\n",
       "      <td>True</td>\n",
       "      <td>False</td>\n",
       "    </tr>\n",
       "    <tr>\n",
       "      <th>3</th>\n",
       "      <td>13gw0vt</td>\n",
       "      <td>LF: Apriball Stonjourner, Yamask, Honedge, HA ...</td>\n",
       "      <td>Hi! I'm looking for a Stonjourner, Yamask, Hon...</td>\n",
       "      <td>Rainy_Days1115</td>\n",
       "      <td>2023-05-13 23:24:22</td>\n",
       "      <td>SWSH</td>\n",
       "      <td>True</td>\n",
       "      <td>True</td>\n",
       "    </tr>\n",
       "    <tr>\n",
       "      <th>4</th>\n",
       "      <td>13gw04b</td>\n",
       "      <td>LF: Sobble. FT: scarlet exclusives/raid exclusive</td>\n",
       "      <td>It's the only raid exclusive that I'm missing,...</td>\n",
       "      <td>gertygaming</td>\n",
       "      <td>2023-05-13 23:23:23</td>\n",
       "      <td>SV (Closed)</td>\n",
       "      <td>True</td>\n",
       "      <td>False</td>\n",
       "    </tr>\n",
       "  </tbody>\n",
       "</table>\n",
       "</div>"
      ],
      "text/plain": [
       "        id                                              title  \\\n",
       "0  13gxmuw                    LF: Drilbur and Solosis FT: Ask   \n",
       "1  13gx0eg  LF: 6IV Non-English Ditto FT: Apriballs, Abili...   \n",
       "2  13gwnha  LF H-Zoroark and Flabebe Codes, Jiseok Lee Gar...   \n",
       "3  13gw0vt  LF: Apriball Stonjourner, Yamask, Honedge, HA ...   \n",
       "4  13gw04b  LF: Sobble. FT: scarlet exclusives/raid exclusive   \n",
       "\n",
       "                                                body       submitter  \\\n",
       "0  Hello! Im currently in the process of breeding...       Dracon715   \n",
       "1  I’ve got pretty much everything aside from ✨ m...      MistaKleen   \n",
       "2  Also open to other event offers!\\n\\n\\_\\_\\_\\_\\_...   ShaikhAndBake   \n",
       "3  Hi! I'm looking for a Stonjourner, Yamask, Hon...  Rainy_Days1115   \n",
       "4  It's the only raid exclusive that I'm missing,...     gertygaming   \n",
       "\n",
       "                  time        flair   hit   vote  \n",
       "0  2023-05-14 00:35:25       SMUSUM  True  False  \n",
       "1  2023-05-14 00:07:42           SV  True  False  \n",
       "2  2023-05-13 23:51:47        Event  True  False  \n",
       "3  2023-05-13 23:24:22         SWSH  True   True  \n",
       "4  2023-05-13 23:23:23  SV (Closed)  True  False  "
      ]
     },
     "execution_count": 1,
     "metadata": {},
     "output_type": "execute_result"
    }
   ],
   "source": [
    "import numpy as np\n",
    "import pandas as pd\n",
    "\n",
    "df = pd.read_parquet('posts.parquet')\n",
    "print(f'Loaded {len(df)} posts')\n",
    "df.head()\n",
    "\n",
    "# Columns in this dataframe:\n",
    "# \n",
    "#     id:        Reddit post ID on reddit. The post itself can be viewed at\n",
    "#                https://reddit.com/r/pokemontrades/comments/{id}\n",
    "#     title:     Post title.\n",
    "#     body:      Post body (in Markdown format).\n",
    "#     submitter: The username of the submitter\n",
    "#     time:      Post submission time, in UTC\n",
    "#     flair:     Post flair (at the time the post was scraped)\n",
    "#     hit:       Whether ApriBot's crude detection mechanism (keyword-search) thought the post was Aprimon-related.\n",
    "#     vote:      /r/BankBallExchange's judgment as to whether the post was Aprimon-related. This is the ground truth."
   ]
  },
  {
   "cell_type": "code",
   "execution_count": 2,
   "metadata": {},
   "outputs": [
    {
     "data": {
      "text/html": [
       "<div>\n",
       "<style scoped>\n",
       "    .dataframe tbody tr th:only-of-type {\n",
       "        vertical-align: middle;\n",
       "    }\n",
       "\n",
       "    .dataframe tbody tr th {\n",
       "        vertical-align: top;\n",
       "    }\n",
       "\n",
       "    .dataframe thead th {\n",
       "        text-align: right;\n",
       "    }\n",
       "</style>\n",
       "<table border=\"1\" class=\"dataframe\">\n",
       "  <thead>\n",
       "    <tr style=\"text-align: right;\">\n",
       "      <th></th>\n",
       "      <th>id</th>\n",
       "      <th>title</th>\n",
       "      <th>body</th>\n",
       "      <th>post</th>\n",
       "      <th>vote</th>\n",
       "    </tr>\n",
       "  </thead>\n",
       "  <tbody>\n",
       "    <tr>\n",
       "      <th>0</th>\n",
       "      <td>13gxmuw</td>\n",
       "      <td>lf drilbur and solosis ft ask</td>\n",
       "      <td>hello im currently in the process of breeding ...</td>\n",
       "      <td>lf drilbur and solosis ft ask hello im current...</td>\n",
       "      <td>False</td>\n",
       "    </tr>\n",
       "    <tr>\n",
       "      <th>1</th>\n",
       "      <td>13gx0eg</td>\n",
       "      <td>lf 6iv nonenglish ditto ft apriballs ability p...</td>\n",
       "      <td>ive got pretty much everything aside from mons...</td>\n",
       "      <td>lf 6iv nonenglish ditto ft apriballs ability p...</td>\n",
       "      <td>False</td>\n",
       "    </tr>\n",
       "    <tr>\n",
       "      <th>2</th>\n",
       "      <td>13gwnha</td>\n",
       "      <td>lf hzoroark and flabebe codes jiseok lee garga...</td>\n",
       "      <td>also open to other event offers gen shinies ge...</td>\n",
       "      <td>lf hzoroark and flabebe codes jiseok lee garga...</td>\n",
       "      <td>False</td>\n",
       "    </tr>\n",
       "    <tr>\n",
       "      <th>3</th>\n",
       "      <td>13gw0vt</td>\n",
       "      <td>lf apriball stonjourner yamask honedge ha dura...</td>\n",
       "      <td>hi im looking for a stonjourner yamask honedge...</td>\n",
       "      <td>lf apriball stonjourner yamask honedge ha dura...</td>\n",
       "      <td>True</td>\n",
       "    </tr>\n",
       "    <tr>\n",
       "      <th>4</th>\n",
       "      <td>13gw04b</td>\n",
       "      <td>lf sobble ft scarlet exclusives raid exclusive</td>\n",
       "      <td>its the only raid exclusive that im missing so...</td>\n",
       "      <td>lf sobble ft scarlet exclusives raid exclusive...</td>\n",
       "      <td>False</td>\n",
       "    </tr>\n",
       "  </tbody>\n",
       "</table>\n",
       "</div>"
      ],
      "text/plain": [
       "        id                                              title  \\\n",
       "0  13gxmuw                      lf drilbur and solosis ft ask   \n",
       "1  13gx0eg  lf 6iv nonenglish ditto ft apriballs ability p...   \n",
       "2  13gwnha  lf hzoroark and flabebe codes jiseok lee garga...   \n",
       "3  13gw0vt  lf apriball stonjourner yamask honedge ha dura...   \n",
       "4  13gw04b     lf sobble ft scarlet exclusives raid exclusive   \n",
       "\n",
       "                                                body  \\\n",
       "0  hello im currently in the process of breeding ...   \n",
       "1  ive got pretty much everything aside from mons...   \n",
       "2  also open to other event offers gen shinies ge...   \n",
       "3  hi im looking for a stonjourner yamask honedge...   \n",
       "4  its the only raid exclusive that im missing so...   \n",
       "\n",
       "                                                post   vote  \n",
       "0  lf drilbur and solosis ft ask hello im current...  False  \n",
       "1  lf 6iv nonenglish ditto ft apriballs ability p...  False  \n",
       "2  lf hzoroark and flabebe codes jiseok lee garga...  False  \n",
       "3  lf apriball stonjourner yamask honedge ha dura...   True  \n",
       "4  lf sobble ft scarlet exclusives raid exclusive...  False  "
      ]
     },
     "execution_count": 2,
     "metadata": {},
     "output_type": "execute_result"
    }
   ],
   "source": [
    "import re\n",
    "import unidecode\n",
    "\n",
    "def cleanup(text):\n",
    "    # convert to ASCII\n",
    "    text = unidecode.unidecode(text, errors='ignore')\n",
    "    # remove Markdown links\n",
    "    text = re.sub(r'\\[([^\\]]+)\\]\\([^)]+\\)', r'\\1', text)\n",
    "    # split on spaces\n",
    "    words = text.split()\n",
    "    # remove links (heuristically)\n",
    "    words = [w for w in words if not w.startswith('http') and not w.startswith('www')]\n",
    "    # convert curly double/single quotes to plain single quotes\n",
    "    words = [w.replace('“', \"'\").replace('”', \"'\").replace('‘', \"'\").replace('’', \"'\") for w in words]\n",
    "    # split on other punctuation (except apostrophes and hyphens) and convert to lowercase\n",
    "    words = [w for word in words for w in re.split(r\"[^A-Za-z0-9'-]+\", word.lower())]\n",
    "    # remove any remaining punctuation\n",
    "    words = [re.sub(r\"[^A-Za-z0-9]\", '', w) for w in words]\n",
    "    # get rid of anything that doesn't have at least one letter\n",
    "    words = [s for s in words if any(c.isalpha() for c in s)]\n",
    "    # string back together\n",
    "    return ' '.join(words)\n",
    "\n",
    "df_processed = (df.assign(title=df.title.apply(cleanup))\n",
    "                  .assign(body=df.body.apply(cleanup))\n",
    "                  .assign(post=lambda df: df.title + ' ' + df.body)\n",
    "                  .loc[:, ['id', 'title', 'body', 'post', 'vote']])\n",
    "df_processed.head()"
   ]
  },
  {
   "cell_type": "code",
   "execution_count": 3,
   "metadata": {},
   "outputs": [
    {
     "data": {
      "text/plain": [
       "array([0, 0, 0, ..., 0, 0, 0])"
      ]
     },
     "execution_count": 3,
     "metadata": {},
     "output_type": "execute_result"
    }
   ],
   "source": [
    "y_true = df_processed.vote.to_numpy().astype(int)\n",
    "y_true"
   ]
  },
  {
   "cell_type": "markdown",
   "metadata": {},
   "source": [
    "# Train/test split"
   ]
  },
  {
   "cell_type": "code",
   "execution_count": 4,
   "metadata": {},
   "outputs": [
    {
     "name": "stdout",
     "output_type": "stream",
     "text": [
      "1's in test set     : 575 out of 2808 (20.48%)\n",
      "1's in training set : 2200 out of 11231 (19.59%)\n"
     ]
    }
   ],
   "source": [
    "from sklearn.model_selection import train_test_split\n",
    "\n",
    "X_train, X_test, y_train, y_test = train_test_split(df_processed, y_true, test_size=0.2, random_state=468)\n",
    "\n",
    "# Check that the train/test split is balanced.\n",
    "print(f\"1's in test set     : {np.count_nonzero(y_test)} out of {len(y_test)} ({np.count_nonzero(y_test) / len(y_test):.2%})\")\n",
    "print(f\"1's in training set : {np.count_nonzero(y_train)} out of {len(y_train)} ({np.count_nonzero(y_train) / len(y_train):.2%})\")"
   ]
  },
  {
   "cell_type": "markdown",
   "metadata": {},
   "source": [
    "# Model"
   ]
  },
  {
   "cell_type": "code",
   "execution_count": 5,
   "metadata": {},
   "outputs": [],
   "source": [
    "# General setup\n",
    "\n",
    "from sklearn.model_selection import cross_validate\n",
    "from sklearn.compose import ColumnTransformer\n",
    "from sklearn.feature_extraction.text import CountVectorizer\n",
    "from sklearn.pipeline import Pipeline\n",
    "from sklearn.metrics import f1_score, ConfusionMatrixDisplay, confusion_matrix\n",
    "import matplotlib.pyplot as plt\n",
    "\n",
    "def cv(pipeline, k=5, plot=False):\n",
    "    cv = cross_validate(pipeline, X_train, y_train, cv=k, scoring='f1',\n",
    "                        return_estimator=plot, return_indices=plot)\n",
    "    if plot: \n",
    "        # Get predictions from the estimator that was returned. This is slightly\n",
    "        # inefficient, but still better than calling cross_val_score and then\n",
    "        # cross_val_predict, which does the CV twice for no reason.\n",
    "        y_pred = np.array([])\n",
    "        y_true = np.array([])\n",
    "        indices = np.array([])\n",
    "        for i in range(k):\n",
    "            estimator = cv['estimator'][i]\n",
    "            test_indices = cv['indices']['test'][i]\n",
    "            this_y_pred = estimator.predict(X_train.iloc[test_indices])\n",
    "            this_y_train = y_train[test_indices]\n",
    "            indices = np.concatenate((indices, test_indices))\n",
    "            y_pred = np.concatenate((y_pred, this_y_pred))\n",
    "            y_true = np.concatenate((y_true, this_y_train))\n",
    "        # Plot confusion matrix\n",
    "        _, ax = plt.subplots(figsize=(5, 5))\n",
    "        ConfusionMatrixDisplay(confusion_matrix(y_true, y_pred)).plot(ax=ax)\n",
    "        ax.set_title(f'CV F1 : {np.mean(cv[\"test_score\"]):.4%}')\n",
    "    # Return CV results\n",
    "    return cv"
   ]
  },
  {
   "cell_type": "markdown",
   "metadata": {},
   "source": [
    "# Individual models (using the parameters we had earlier)"
   ]
  },
  {
   "cell_type": "markdown",
   "metadata": {},
   "source": [
    "## XGBoost"
   ]
  },
  {
   "cell_type": "code",
   "execution_count": 6,
   "metadata": {},
   "outputs": [
    {
     "data": {
      "image/png": "[encoded data removed]",
      "text/plain": [
       "<Figure size 500x500 with 2 Axes>"
      ]
     },
     "metadata": {},
     "output_type": "display_data"
    }
   ],
   "source": [
    "# CV score with smaller dataset: 92.6232%\n",
    "\n",
    "import xgboost as xgb\n",
    "xg = Pipeline([\n",
    "    ('vec', ColumnTransformer([(\"post\", CountVectorizer(ngram_range=(1, 2), max_features=5000), \"post\")])),\n",
    "    ('clf', xgb.XGBClassifier(max_depth=7, n_estimators=200, objective='binary:logistic', )),\n",
    "])\n",
    "\n",
    "cv_xg = cv(xg, plot=True)"
   ]
  },
  {
   "cell_type": "code",
   "execution_count": 7,
   "metadata": {},
   "outputs": [
    {
     "data": {
      "text/html": [
       "<style>#sk-container-id-1 {color: black;}#sk-container-id-1 pre{padding: 0;}#sk-container-id-1 div.sk-toggleable {background-color: white;}#sk-container-id-1 label.sk-toggleable__label {cursor: pointer;display: block;width: 100%;margin-bottom: 0;padding: 0.3em;box-sizing: border-box;text-align: center;}#sk-container-id-1 label.sk-toggleable__label-arrow:before {content: \"▸\";float: left;margin-right: 0.25em;color: #696969;}#sk-container-id-1 label.sk-toggleable__label-arrow:hover:before {color: black;}#sk-container-id-1 div.sk-estimator:hover label.sk-toggleable__label-arrow:before {color: black;}#sk-container-id-1 div.sk-toggleable__content {max-height: 0;max-width: 0;overflow: hidden;text-align: left;background-color: #f0f8ff;}#sk-container-id-1 div.sk-toggleable__content pre {margin: 0.2em;color: black;border-radius: 0.25em;background-color: #f0f8ff;}#sk-container-id-1 input.sk-toggleable__control:checked~div.sk-toggleable__content {max-height: 200px;max-width: 100%;overflow: auto;}#sk-container-id-1 input.sk-toggleable__control:checked~label.sk-toggleable__label-arrow:before {content: \"▾\";}#sk-container-id-1 div.sk-estimator input.sk-toggleable__control:checked~label.sk-toggleable__label {background-color: #d4ebff;}#sk-container-id-1 div.sk-label input.sk-toggleable__control:checked~label.sk-toggleable__label {background-color: #d4ebff;}#sk-container-id-1 input.sk-hidden--visually {border: 0;clip: rect(1px 1px 1px 1px);clip: rect(1px, 1px, 1px, 1px);height: 1px;margin: -1px;overflow: hidden;padding: 0;position: absolute;width: 1px;}#sk-container-id-1 div.sk-estimator {font-family: monospace;background-color: #f0f8ff;border: 1px dotted black;border-radius: 0.25em;box-sizing: border-box;margin-bottom: 0.5em;}#sk-container-id-1 div.sk-estimator:hover {background-color: #d4ebff;}#sk-container-id-1 div.sk-parallel-item::after {content: \"\";width: 100%;border-bottom: 1px solid gray;flex-grow: 1;}#sk-container-id-1 div.sk-label:hover label.sk-toggleable__label {background-color: #d4ebff;}#sk-container-id-1 div.sk-serial::before {content: \"\";position: absolute;border-left: 1px solid gray;box-sizing: border-box;top: 0;bottom: 0;left: 50%;z-index: 0;}#sk-container-id-1 div.sk-serial {display: flex;flex-direction: column;align-items: center;background-color: white;padding-right: 0.2em;padding-left: 0.2em;position: relative;}#sk-container-id-1 div.sk-item {position: relative;z-index: 1;}#sk-container-id-1 div.sk-parallel {display: flex;align-items: stretch;justify-content: center;background-color: white;position: relative;}#sk-container-id-1 div.sk-item::before, #sk-container-id-1 div.sk-parallel-item::before {content: \"\";position: absolute;border-left: 1px solid gray;box-sizing: border-box;top: 0;bottom: 0;left: 50%;z-index: -1;}#sk-container-id-1 div.sk-parallel-item {display: flex;flex-direction: column;z-index: 1;position: relative;background-color: white;}#sk-container-id-1 div.sk-parallel-item:first-child::after {align-self: flex-end;width: 50%;}#sk-container-id-1 div.sk-parallel-item:last-child::after {align-self: flex-start;width: 50%;}#sk-container-id-1 div.sk-parallel-item:only-child::after {width: 0;}#sk-container-id-1 div.sk-dashed-wrapped {border: 1px dashed gray;margin: 0 0.4em 0.5em 0.4em;box-sizing: border-box;padding-bottom: 0.4em;background-color: white;}#sk-container-id-1 div.sk-label label {font-family: monospace;font-weight: bold;display: inline-block;line-height: 1.2em;}#sk-container-id-1 div.sk-label-container {text-align: center;}#sk-container-id-1 div.sk-container {/* jupyter's `normalize.less` sets `[hidden] { display: none; }` but bootstrap.min.css set `[hidden] { display: none !important; }` so we also need the `!important` here to be able to override the default hidden behavior on the sphinx rendered scikit-learn.org. See: https://github.com/scikit-learn/scikit-learn/issues/21755 */display: inline-block !important;position: relative;}#sk-container-id-1 div.sk-text-repr-fallback {display: none;}</style><div id=\"sk-container-id-1\" class=\"sk-top-container\"><div class=\"sk-text-repr-fallback\"><pre>GridSearchCV(estimator=Pipeline(steps=[(&#x27;vec&#x27;,\n",
       "                                        ColumnTransformer(transformers=[(&#x27;post&#x27;,\n",
       "                                                                         CountVectorizer(max_features=5000,\n",
       "                                                                                         ngram_range=(1,\n",
       "                                                                                                      2)),\n",
       "                                                                         &#x27;post&#x27;)])),\n",
       "                                       (&#x27;clf&#x27;,\n",
       "                                        XGBClassifier(base_score=None,\n",
       "                                                      booster=None,\n",
       "                                                      callbacks=None,\n",
       "                                                      colsample_bylevel=None,\n",
       "                                                      colsample_bynode=None,\n",
       "                                                      colsample_bytree=None,\n",
       "                                                      early_stopping_rounds=None,\n",
       "                                                      enable_categorical=False,\n",
       "                                                      eval_metric=None...\n",
       "                                                      learning_rate=None,\n",
       "                                                      max_bin=None,\n",
       "                                                      max_cat_threshold=None,\n",
       "                                                      max_cat_to_onehot=None,\n",
       "                                                      max_delta_step=None,\n",
       "                                                      max_depth=7,\n",
       "                                                      max_leaves=None,\n",
       "                                                      min_child_weight=None,\n",
       "                                                      missing=nan,\n",
       "                                                      monotone_constraints=None,\n",
       "                                                      n_estimators=200,\n",
       "                                                      n_jobs=None,\n",
       "                                                      num_parallel_tree=None,\n",
       "                                                      predictor=None,\n",
       "                                                      random_state=None, ...))]),\n",
       "             param_grid={&#x27;clf__max_depth&#x27;: [3, 5, 7, 9],\n",
       "                         &#x27;clf__n_estimators&#x27;: [100, 200, 400]},\n",
       "             scoring=&#x27;f1&#x27;)</pre><b>In a Jupyter environment, please rerun this cell to show the HTML representation or trust the notebook. <br />On GitHub, the HTML representation is unable to render, please try loading this page with nbviewer.org.</b></div><div class=\"sk-container\" hidden><div class=\"sk-item sk-dashed-wrapped\"><div class=\"sk-label-container\"><div class=\"sk-label sk-toggleable\"><input class=\"sk-toggleable__control sk-hidden--visually\" id=\"sk-estimator-id-1\" type=\"checkbox\" ><label for=\"sk-estimator-id-1\" class=\"sk-toggleable__label sk-toggleable__label-arrow\">GridSearchCV</label><div class=\"sk-toggleable__content\"><pre>GridSearchCV(estimator=Pipeline(steps=[(&#x27;vec&#x27;,\n",
       "                                        ColumnTransformer(transformers=[(&#x27;post&#x27;,\n",
       "                                                                         CountVectorizer(max_features=5000,\n",
       "                                                                                         ngram_range=(1,\n",
       "                                                                                                      2)),\n",
       "                                                                         &#x27;post&#x27;)])),\n",
       "                                       (&#x27;clf&#x27;,\n",
       "                                        XGBClassifier(base_score=None,\n",
       "                                                      booster=None,\n",
       "                                                      callbacks=None,\n",
       "                                                      colsample_bylevel=None,\n",
       "                                                      colsample_bynode=None,\n",
       "                                                      colsample_bytree=None,\n",
       "                                                      early_stopping_rounds=None,\n",
       "                                                      enable_categorical=False,\n",
       "                                                      eval_metric=None...\n",
       "                                                      learning_rate=None,\n",
       "                                                      max_bin=None,\n",
       "                                                      max_cat_threshold=None,\n",
       "                                                      max_cat_to_onehot=None,\n",
       "                                                      max_delta_step=None,\n",
       "                                                      max_depth=7,\n",
       "                                                      max_leaves=None,\n",
       "                                                      min_child_weight=None,\n",
       "                                                      missing=nan,\n",
       "                                                      monotone_constraints=None,\n",
       "                                                      n_estimators=200,\n",
       "                                                      n_jobs=None,\n",
       "                                                      num_parallel_tree=None,\n",
       "                                                      predictor=None,\n",
       "                                                      random_state=None, ...))]),\n",
       "             param_grid={&#x27;clf__max_depth&#x27;: [3, 5, 7, 9],\n",
       "                         &#x27;clf__n_estimators&#x27;: [100, 200, 400]},\n",
       "             scoring=&#x27;f1&#x27;)</pre></div></div></div><div class=\"sk-parallel\"><div class=\"sk-parallel-item\"><div class=\"sk-item\"><div class=\"sk-label-container\"><div class=\"sk-label sk-toggleable\"><input class=\"sk-toggleable__control sk-hidden--visually\" id=\"sk-estimator-id-2\" type=\"checkbox\" ><label for=\"sk-estimator-id-2\" class=\"sk-toggleable__label sk-toggleable__label-arrow\">estimator: Pipeline</label><div class=\"sk-toggleable__content\"><pre>Pipeline(steps=[(&#x27;vec&#x27;,\n",
       "                 ColumnTransformer(transformers=[(&#x27;post&#x27;,\n",
       "                                                  CountVectorizer(max_features=5000,\n",
       "                                                                  ngram_range=(1,\n",
       "                                                                               2)),\n",
       "                                                  &#x27;post&#x27;)])),\n",
       "                (&#x27;clf&#x27;,\n",
       "                 XGBClassifier(base_score=None, booster=None, callbacks=None,\n",
       "                               colsample_bylevel=None, colsample_bynode=None,\n",
       "                               colsample_bytree=None,\n",
       "                               early_stopping_rounds=None,\n",
       "                               enable_categorical=False, eval_metric=None,\n",
       "                               feature_types=None, gam...None,\n",
       "                               grow_policy=None, importance_type=None,\n",
       "                               interaction_constraints=None, learning_rate=None,\n",
       "                               max_bin=None, max_cat_threshold=None,\n",
       "                               max_cat_to_onehot=None, max_delta_step=None,\n",
       "                               max_depth=7, max_leaves=None,\n",
       "                               min_child_weight=None, missing=nan,\n",
       "                               monotone_constraints=None, n_estimators=200,\n",
       "                               n_jobs=None, num_parallel_tree=None,\n",
       "                               predictor=None, random_state=None, ...))])</pre></div></div></div><div class=\"sk-serial\"><div class=\"sk-item\"><div class=\"sk-serial\"><div class=\"sk-item sk-dashed-wrapped\"><div class=\"sk-label-container\"><div class=\"sk-label sk-toggleable\"><input class=\"sk-toggleable__control sk-hidden--visually\" id=\"sk-estimator-id-3\" type=\"checkbox\" ><label for=\"sk-estimator-id-3\" class=\"sk-toggleable__label sk-toggleable__label-arrow\">vec: ColumnTransformer</label><div class=\"sk-toggleable__content\"><pre>ColumnTransformer(transformers=[(&#x27;post&#x27;,\n",
       "                                 CountVectorizer(max_features=5000,\n",
       "                                                 ngram_range=(1, 2)),\n",
       "                                 &#x27;post&#x27;)])</pre></div></div></div><div class=\"sk-parallel\"><div class=\"sk-parallel-item\"><div class=\"sk-item\"><div class=\"sk-label-container\"><div class=\"sk-label sk-toggleable\"><input class=\"sk-toggleable__control sk-hidden--visually\" id=\"sk-estimator-id-4\" type=\"checkbox\" ><label for=\"sk-estimator-id-4\" class=\"sk-toggleable__label sk-toggleable__label-arrow\">post</label><div class=\"sk-toggleable__content\"><pre>post</pre></div></div></div><div class=\"sk-serial\"><div class=\"sk-item\"><div class=\"sk-estimator sk-toggleable\"><input class=\"sk-toggleable__control sk-hidden--visually\" id=\"sk-estimator-id-5\" type=\"checkbox\" ><label for=\"sk-estimator-id-5\" class=\"sk-toggleable__label sk-toggleable__label-arrow\">CountVectorizer</label><div class=\"sk-toggleable__content\"><pre>CountVectorizer(max_features=5000, ngram_range=(1, 2))</pre></div></div></div></div></div></div></div></div><div class=\"sk-item\"><div class=\"sk-estimator sk-toggleable\"><input class=\"sk-toggleable__control sk-hidden--visually\" id=\"sk-estimator-id-6\" type=\"checkbox\" ><label for=\"sk-estimator-id-6\" class=\"sk-toggleable__label sk-toggleable__label-arrow\">XGBClassifier</label><div class=\"sk-toggleable__content\"><pre>XGBClassifier(base_score=None, booster=None, callbacks=None,\n",
       "              colsample_bylevel=None, colsample_bynode=None,\n",
       "              colsample_bytree=None, early_stopping_rounds=None,\n",
       "              enable_categorical=False, eval_metric=None, feature_types=None,\n",
       "              gamma=None, gpu_id=None, grow_policy=None, importance_type=None,\n",
       "              interaction_constraints=None, learning_rate=None, max_bin=None,\n",
       "              max_cat_threshold=None, max_cat_to_onehot=None,\n",
       "              max_delta_step=None, max_depth=7, max_leaves=None,\n",
       "              min_child_weight=None, missing=nan, monotone_constraints=None,\n",
       "              n_estimators=200, n_jobs=None, num_parallel_tree=None,\n",
       "              predictor=None, random_state=None, ...)</pre></div></div></div></div></div></div></div></div></div></div></div></div>"
      ],
      "text/plain": [
       "GridSearchCV(estimator=Pipeline(steps=[('vec',\n",
       "                                        ColumnTransformer(transformers=[('post',\n",
       "                                                                         CountVectorizer(max_features=5000,\n",
       "                                                                                         ngram_range=(1,\n",
       "                                                                                                      2)),\n",
       "                                                                         'post')])),\n",
       "                                       ('clf',\n",
       "                                        XGBClassifier(base_score=None,\n",
       "                                                      booster=None,\n",
       "                                                      callbacks=None,\n",
       "                                                      colsample_bylevel=None,\n",
       "                                                      colsample_bynode=None,\n",
       "                                                      colsample_bytree=None,\n",
       "                                                      early_stopping_rounds=None,\n",
       "                                                      enable_categorical=False,\n",
       "                                                      eval_metric=None...\n",
       "                                                      learning_rate=None,\n",
       "                                                      max_bin=None,\n",
       "                                                      max_cat_threshold=None,\n",
       "                                                      max_cat_to_onehot=None,\n",
       "                                                      max_delta_step=None,\n",
       "                                                      max_depth=7,\n",
       "                                                      max_leaves=None,\n",
       "                                                      min_child_weight=None,\n",
       "                                                      missing=nan,\n",
       "                                                      monotone_constraints=None,\n",
       "                                                      n_estimators=200,\n",
       "                                                      n_jobs=None,\n",
       "                                                      num_parallel_tree=None,\n",
       "                                                      predictor=None,\n",
       "                                                      random_state=None, ...))]),\n",
       "             param_grid={'clf__max_depth': [3, 5, 7, 9],\n",
       "                         'clf__n_estimators': [100, 200, 400]},\n",
       "             scoring='f1')"
      ]
     },
     "execution_count": 7,
     "metadata": {},
     "output_type": "execute_result"
    }
   ],
   "source": [
    "# Grid search CV for the best XGBoost parameters\n",
    "\n",
    "from sklearn.model_selection import GridSearchCV\n",
    "\n",
    "xg_grid = GridSearchCV(estimator=xg,\n",
    "                       param_grid={\n",
    "                            'clf__max_depth': [3, 5, 7, 9],\n",
    "                            'clf__n_estimators': [100, 200, 400],\n",
    "                       },\n",
    "                       scoring='f1')\n",
    "xg_grid.fit(X_train, y_train)"
   ]
  },
  {
   "cell_type": "code",
   "execution_count": 8,
   "metadata": {},
   "outputs": [
    {
     "data": {
      "text/plain": [
       "{'clf__max_depth': 7, 'clf__n_estimators': 200}"
      ]
     },
     "execution_count": 8,
     "metadata": {},
     "output_type": "execute_result"
    }
   ],
   "source": [
    "xg_grid.best_params_"
   ]
  },
  {
   "cell_type": "markdown",
   "metadata": {},
   "source": [
    "## Logistic regression"
   ]
  },
  {
   "cell_type": "code",
   "execution_count": 9,
   "metadata": {},
   "outputs": [
    {
     "data": {
      "image/png": "[encoded data removed]",
      "text/plain": [
       "<Figure size 500x500 with 2 Axes>"
      ]
     },
     "metadata": {},
     "output_type": "display_data"
    }
   ],
   "source": [
    "from sklearn.linear_model import LogisticRegression\n",
    "\n",
    "lr = Pipeline([\n",
    "    ('vec', ColumnTransformer([(\"post\", CountVectorizer(ngram_range=(1, 2), max_features=5000), \"post\")])),\n",
    "    ('clf', LogisticRegression(max_iter=5000)),\n",
    "])\n",
    "\n",
    "cv_lr = cv(lr, plot=True)"
   ]
  },
  {
   "cell_type": "markdown",
   "metadata": {},
   "source": [
    "## Let's try to stack XGBoost and LR"
   ]
  },
  {
   "cell_type": "code",
   "execution_count": 10,
   "metadata": {},
   "outputs": [
    {
     "data": {
      "image/png": "[encoded data removed]",
      "text/plain": [
       "<Figure size 500x500 with 2 Axes>"
      ]
     },
     "metadata": {},
     "output_type": "display_data"
    }
   ],
   "source": [
    "from sklearn.ensemble import StackingClassifier\n",
    "\n",
    "stacked_xg_lr = StackingClassifier(\n",
    "    estimators=[\n",
    "        ('xg', xg),\n",
    "        ('lr', lr),\n",
    "    ],\n",
    "    final_estimator=LogisticRegression(max_iter=5000)\n",
    ")\n",
    "\n",
    "cv_stacked = cv(stacked_xg_lr, plot=True)"
   ]
  },
  {
   "cell_type": "markdown",
   "metadata": {},
   "source": [
    "And... let's run CV on the stacked model for good measure, overnight."
   ]
  },
  {
   "cell_type": "code",
   "execution_count": null,
   "metadata": {},
   "outputs": [],
   "source": [
    "stacked_grid = GridSearchCV(estimator=stacked_xg_lr,\n",
    "                            param_grid={\n",
    "                                'xg__clf__max_depth': [3, 5, 7, 9],\n",
    "                                'xg__clf__n_estimators': [100, 200, 400],\n",
    "                                'xg__vec__post__max_features': [2500, 5000, 10000],\n",
    "                                'lr__vec__post__max_features': [2500, 5000, 10000],\n",
    "                            },\n",
    "                            scoring='f1')\n",
    "stacked_grid.fit(X_train, y_train)"
   ]
  },
  {
   "cell_type": "code",
   "execution_count": null,
   "metadata": {},
   "outputs": [],
   "source": [
    "stacked_grid.best_params_"
   ]
  },
  {
   "cell_type": "code",
   "execution_count": null,
   "metadata": {},
   "outputs": [],
   "source": [
    "# Best estimator CV score with smaller dataset: 93.3095%\n",
    "\n",
    "_ = cv(stacked_grid.best_estimator_, plot=True)"
   ]
  },
  {
   "cell_type": "code",
   "execution_count": null,
   "metadata": {},
   "outputs": [],
   "source": [
    "# On test set\n",
    "# Test score with previous smaller dataset: 93.3873%\n",
    "\n",
    "optimised_model = stacked_grid.best_estimator_\n",
    "\n",
    "optimised_model.fit(X_train, y_train)\n",
    "y_pred = optimised_model.predict(X_test)\n",
    "\n",
    "_, ax = plt.subplots(figsize=(5, 5))\n",
    "ConfusionMatrixDisplay(confusion_matrix(y_true=y_test, y_pred=y_pred)).plot(ax=ax)\n",
    "ax.set_title(f'Test F1 : {f1_score(y_true=y_test, y_pred=y_pred):.4%}')\n",
    "plt.show()"
   ]
  },
  {
   "cell_type": "markdown",
   "metadata": {},
   "source": [
    "# Save the model to disk"
   ]
  },
  {
   "cell_type": "code",
   "execution_count": null,
   "metadata": {},
   "outputs": [],
   "source": [
    "import joblib\n",
    "\n",
    "joblib.dump(optimised_model, 'stacked_xg_lr_model.joblib')"
   ]
  }
 ],
 "metadata": {
  "kernelspec": {
   "display_name": "Python 3",
   "language": "python",
   "name": "python3"
  },
  "language_info": {
   "codemirror_mode": {
    "name": "ipython",
    "version": 3
   },
   "file_extension": ".py",
   "mimetype": "text/x-python",
   "name": "python",
   "nbconvert_exporter": "python",
   "pygments_lexer": "ipython3",
   "version": "3.11.5"
  },
  "orig_nbformat": 4
 },
 "nbformat": 4,
 "nbformat_minor": 2
}
