{
 "cells": [
  {
   "attachments": {},
   "cell_type": "markdown",
   "metadata": {},
   "source": [
    "# Setup: import data"
   ]
  },
  {
   "cell_type": "code",
   "execution_count": 1,
   "metadata": {},
   "outputs": [
    {
     "name": "stdout",
     "output_type": "stream",
     "text": [
      "Loaded 5792 posts\n"
     ]
    },
    {
     "data": {
      "text/html": [
       "<div>\n",
       "<style scoped>\n",
       "    .dataframe tbody tr th:only-of-type {\n",
       "        vertical-align: middle;\n",
       "    }\n",
       "\n",
       "    .dataframe tbody tr th {\n",
       "        vertical-align: top;\n",
       "    }\n",
       "\n",
       "    .dataframe thead th {\n",
       "        text-align: right;\n",
       "    }\n",
       "</style>\n",
       "<table border=\"1\" class=\"dataframe\">\n",
       "  <thead>\n",
       "    <tr style=\"text-align: right;\">\n",
       "      <th></th>\n",
       "      <th>id</th>\n",
       "      <th>title</th>\n",
       "      <th>body</th>\n",
       "      <th>submitter</th>\n",
       "      <th>time</th>\n",
       "      <th>flair</th>\n",
       "      <th>hit</th>\n",
       "      <th>vote</th>\n",
       "    </tr>\n",
       "  </thead>\n",
       "  <tbody>\n",
       "    <tr>\n",
       "      <th>0</th>\n",
       "      <td>13gxmuw</td>\n",
       "      <td>LF: Drilbur and Solosis FT: Ask</td>\n",
       "      <td>Hello! Im currently in the process of breeding...</td>\n",
       "      <td>Dracon715</td>\n",
       "      <td>2023-05-14 00:35:25</td>\n",
       "      <td>SMUSUM</td>\n",
       "      <td>True</td>\n",
       "      <td>False</td>\n",
       "    </tr>\n",
       "    <tr>\n",
       "      <th>1</th>\n",
       "      <td>13gx0eg</td>\n",
       "      <td>LF: 6IV Non-English Ditto FT: Apriballs, Abili...</td>\n",
       "      <td>I’ve got pretty much everything aside from ✨ m...</td>\n",
       "      <td>MistaKleen</td>\n",
       "      <td>2023-05-14 00:07:42</td>\n",
       "      <td>SV</td>\n",
       "      <td>True</td>\n",
       "      <td>False</td>\n",
       "    </tr>\n",
       "    <tr>\n",
       "      <th>2</th>\n",
       "      <td>13gwnha</td>\n",
       "      <td>LF H-Zoroark and Flabebe Codes, Jiseok Lee Gar...</td>\n",
       "      <td>Also open to other event offers!\\n\\n\\_\\_\\_\\_\\_...</td>\n",
       "      <td>ShaikhAndBake</td>\n",
       "      <td>2023-05-13 23:51:47</td>\n",
       "      <td>Event</td>\n",
       "      <td>False</td>\n",
       "      <td>False</td>\n",
       "    </tr>\n",
       "    <tr>\n",
       "      <th>3</th>\n",
       "      <td>13gw0vt</td>\n",
       "      <td>LF: Apriball Stonjourner, Yamask, Honedge, HA ...</td>\n",
       "      <td>Hi! I'm looking for a Stonjourner, Yamask, Hon...</td>\n",
       "      <td>Rainy_Days1115</td>\n",
       "      <td>2023-05-13 23:24:22</td>\n",
       "      <td>SWSH</td>\n",
       "      <td>True</td>\n",
       "      <td>True</td>\n",
       "    </tr>\n",
       "    <tr>\n",
       "      <th>4</th>\n",
       "      <td>13gw04b</td>\n",
       "      <td>LF: Sobble. FT: scarlet exclusives/raid exclusive</td>\n",
       "      <td>It's the only raid exclusive that I'm missing,...</td>\n",
       "      <td>gertygaming</td>\n",
       "      <td>2023-05-13 23:23:23</td>\n",
       "      <td>SV (Closed)</td>\n",
       "      <td>False</td>\n",
       "      <td>False</td>\n",
       "    </tr>\n",
       "    <tr>\n",
       "      <th>5</th>\n",
       "      <td>13gvv1y</td>\n",
       "      <td>LF: Apriball Chespin FT: Other Apriball Chespin</td>\n",
       "      <td>Still need Chespin in the following balls (HA ...</td>\n",
       "      <td>RevolutioFalco</td>\n",
       "      <td>2023-05-13 23:17:05</td>\n",
       "      <td>SV</td>\n",
       "      <td>True</td>\n",
       "      <td>True</td>\n",
       "    </tr>\n",
       "    <tr>\n",
       "      <th>6</th>\n",
       "      <td>13gvr1f</td>\n",
       "      <td>LF Moon Ball Hisuian Zorua, Heavy Ball Rookide...</td>\n",
       "      <td>Breedjects acceptable for all!\\n\\nEdit: Just r...</td>\n",
       "      <td>foozeld</td>\n",
       "      <td>2023-05-13 23:12:12</td>\n",
       "      <td>SV</td>\n",
       "      <td>True</td>\n",
       "      <td>True</td>\n",
       "    </tr>\n",
       "    <tr>\n",
       "      <th>7</th>\n",
       "      <td>13gux1l</td>\n",
       "      <td>LF: Low level Oshawott and Rowlett for PLA pla...</td>\n",
       "      <td></td>\n",
       "      <td>clee8017</td>\n",
       "      <td>2023-05-13 22:36:33</td>\n",
       "      <td>PLA</td>\n",
       "      <td>True</td>\n",
       "      <td>False</td>\n",
       "    </tr>\n",
       "    <tr>\n",
       "      <th>8</th>\n",
       "      <td>13guog4</td>\n",
       "      <td>LF: cyndaquil FT: froakie??</td>\n",
       "      <td>i missed typhlosian and really want a cyndaqui...</td>\n",
       "      <td>uglycynda</td>\n",
       "      <td>2023-05-13 22:26:37</td>\n",
       "      <td>SV (Closed)</td>\n",
       "      <td>False</td>\n",
       "      <td>False</td>\n",
       "    </tr>\n",
       "    <tr>\n",
       "      <th>9</th>\n",
       "      <td>13gucgy</td>\n",
       "      <td>[SV] FT: Aprishinies, Shinies LF: Apriballs</td>\n",
       "      <td>FT (all shinies, all untouched):\\n\\n|Pokemon|B...</td>\n",
       "      <td>Only_Television2030</td>\n",
       "      <td>2023-05-13 22:13:07</td>\n",
       "      <td>Shiny</td>\n",
       "      <td>True</td>\n",
       "      <td>False</td>\n",
       "    </tr>\n",
       "  </tbody>\n",
       "</table>\n",
       "</div>"
      ],
      "text/plain": [
       "        id                                              title  \\\n",
       "0  13gxmuw                    LF: Drilbur and Solosis FT: Ask   \n",
       "1  13gx0eg  LF: 6IV Non-English Ditto FT: Apriballs, Abili...   \n",
       "2  13gwnha  LF H-Zoroark and Flabebe Codes, Jiseok Lee Gar...   \n",
       "3  13gw0vt  LF: Apriball Stonjourner, Yamask, Honedge, HA ...   \n",
       "4  13gw04b  LF: Sobble. FT: scarlet exclusives/raid exclusive   \n",
       "5  13gvv1y    LF: Apriball Chespin FT: Other Apriball Chespin   \n",
       "6  13gvr1f  LF Moon Ball Hisuian Zorua, Heavy Ball Rookide...   \n",
       "7  13gux1l  LF: Low level Oshawott and Rowlett for PLA pla...   \n",
       "8  13guog4                        LF: cyndaquil FT: froakie??   \n",
       "9  13gucgy        [SV] FT: Aprishinies, Shinies LF: Apriballs   \n",
       "\n",
       "                                                body            submitter  \\\n",
       "0  Hello! Im currently in the process of breeding...            Dracon715   \n",
       "1  I’ve got pretty much everything aside from ✨ m...           MistaKleen   \n",
       "2  Also open to other event offers!\\n\\n\\_\\_\\_\\_\\_...        ShaikhAndBake   \n",
       "3  Hi! I'm looking for a Stonjourner, Yamask, Hon...       Rainy_Days1115   \n",
       "4  It's the only raid exclusive that I'm missing,...          gertygaming   \n",
       "5  Still need Chespin in the following balls (HA ...       RevolutioFalco   \n",
       "6  Breedjects acceptable for all!\\n\\nEdit: Just r...              foozeld   \n",
       "7                                                                clee8017   \n",
       "8  i missed typhlosian and really want a cyndaqui...            uglycynda   \n",
       "9  FT (all shinies, all untouched):\\n\\n|Pokemon|B...  Only_Television2030   \n",
       "\n",
       "                  time        flair    hit   vote  \n",
       "0  2023-05-14 00:35:25       SMUSUM   True  False  \n",
       "1  2023-05-14 00:07:42           SV   True  False  \n",
       "2  2023-05-13 23:51:47        Event  False  False  \n",
       "3  2023-05-13 23:24:22         SWSH   True   True  \n",
       "4  2023-05-13 23:23:23  SV (Closed)  False  False  \n",
       "5  2023-05-13 23:17:05           SV   True   True  \n",
       "6  2023-05-13 23:12:12           SV   True   True  \n",
       "7  2023-05-13 22:36:33          PLA   True  False  \n",
       "8  2023-05-13 22:26:37  SV (Closed)  False  False  \n",
       "9  2023-05-13 22:13:07        Shiny   True  False  "
      ]
     },
     "execution_count": 1,
     "metadata": {},
     "output_type": "execute_result"
    }
   ],
   "source": [
    "import pandas as pd\n",
    "\n",
    "df = pd.read_parquet('posts.parquet')\n",
    "print(f'Loaded {len(df)} posts')\n",
    "df.head(n=10)\n",
    "\n",
    "# Columns in this dataframe:\n",
    "# \n",
    "#     id:        Reddit post ID on reddit. The post itself can be viewed at\n",
    "#                https://reddit.com/r/pokemontrades/comments/{id}\n",
    "#     title:     Post title.\n",
    "#     body:      Post body (in Markdown format).\n",
    "#     submitter: The username of the submitter\n",
    "#     time:      Post submission time, in UTC\n",
    "#     flair:     Post flair (at the time the post was scraped)\n",
    "#     hit:       Whether ApriBot's crude detection mechanism (keyword-search) thought the post was Aprimon-related.\n",
    "#     vote:      /r/BankBallExchange's judgment as to whether the post was Aprimon-related. This is the ground truth."
   ]
  },
  {
   "attachments": {},
   "cell_type": "markdown",
   "metadata": {},
   "source": [
    "# How accurate was the original detection mechanism?\n",
    "\n",
    "To visualise this, we can plot what's known as a *confusion matrix*, where each row corresponds to what the post *should* have been identified as, and each column corresponds to what the post was actually classified as.\n",
    "\n",
    "The top-left and bottom-right entries, where the predicted and actual classes match each other, are the cases where the prediction was successful.\n",
    "\n",
    "The bottom-left entry contains *false negatives*: posts which really were about Aprimon but weren't picked up on. It's reassuring that there aren't many of these!\n",
    "\n",
    "The top-right entry contains *false positives*: posts which didn't really have Aprimon, but were still picked up. There are lots of these! This isn't really surprising, because I designed the keyword search to be very permissive, the rationale being that we'd rather get extra notifications about unwanted posts than miss out on posts we were genuinely interested in."
   ]
  },
  {
   "cell_type": "code",
   "execution_count": 2,
   "metadata": {},
   "outputs": [
    {
     "data": {
      "image/png": "[encoded data removed]",
      "text/plain": [
       "<Figure size 640x480 with 2 Axes>"
      ]
     },
     "metadata": {},
     "output_type": "display_data"
    }
   ],
   "source": [
    "from sklearn.metrics import confusion_matrix, ConfusionMatrixDisplay\n",
    "import matplotlib.pyplot as plt\n",
    "\n",
    "cm = confusion_matrix(y_true=df.vote, y_pred=df.hit)\n",
    "disp = ConfusionMatrixDisplay(confusion_matrix=cm, display_labels=['not Aprimon', 'Aprimon'])\n",
    "disp.plot()\n",
    "plt.show()"
   ]
  },
  {
   "attachments": {},
   "cell_type": "markdown",
   "metadata": {},
   "source": [
    "We can extract some metrics from this:\n",
    "\n",
    " - *Accuracy*: the proportion of posts that were overall correctly categorised\n",
    " - *Sensitivity*: the proportion of Aprimon posts that were correctly picked up\n",
    " - *Specificity*: the proportion of non-Aprimon posts that were correctly ignored (we expect this to be not amazing)"
   ]
  },
  {
   "cell_type": "code",
   "execution_count": 3,
   "metadata": {},
   "outputs": [
    {
     "name": "stdout",
     "output_type": "stream",
     "text": [
      "accuracy:    80.92%\n",
      "sensitivity: 99.24%\n",
      "specificity: 74.85%\n"
     ]
    }
   ],
   "source": [
    "def get_metrics(y_true, y_pred):\n",
    "    \"returns accuracy, sensitivity, and specificity (in that order).\"\n",
    "    cm = confusion_matrix(y_true=y_true, y_pred=y_pred)\n",
    "    true_pos = cm[1, 1]\n",
    "    true_neg = cm[0, 0]\n",
    "    false_pos = cm[0, 1]\n",
    "    false_neg = cm[1, 0]\n",
    "    return ((true_pos + true_neg) / (true_pos + true_neg + false_pos + false_neg),\n",
    "            true_pos / (true_pos + false_neg),\n",
    "            true_neg / (true_neg + false_pos))\n",
    "\n",
    "accuracy, sensitivity, specificity = get_metrics(y_true=df.vote, y_pred=df.hit)\n",
    "print(f'accuracy:    {accuracy:.2%}')\n",
    "print(f'sensitivity: {sensitivity:.2%}')\n",
    "print(f'specificity: {specificity:.2%}')"
   ]
  },
  {
   "attachments": {},
   "cell_type": "markdown",
   "metadata": {},
   "source": [
    "# Text vectorisation\n",
    "\n",
    "Most machine learning algorithms use vectors as inputs; we thus first need to (somehow) convert our input data into vectors.\n",
    "We'll only use the post title and post body as our inputs.\n",
    "These are both text-based, and can have variable lengths.\n",
    "\n",
    "In this notebook, we'll look at several ways of converting these into vectors.\n",
    "The first of these will be the 'bag of words' model, where we generate a *vocabulary* which is a list of all words found across all posts.\n",
    "The size of the vocabulary will be the number of features $n$, and each post will be converted into a vector of length $n$, where\n",
    "the $i$-th component of the vector is 1 if the $i$-th word is present in the text, and 0 if it is not.\n",
    "\n",
    "But first, we'll clean up the text by removing things like punctuation and capitalisation."
   ]
  },
  {
   "cell_type": "code",
   "execution_count": 4,
   "metadata": {},
   "outputs": [
    {
     "name": "stdout",
     "output_type": "stream",
     "text": [
      "'i've', 'got', 'pretty', 'much', 'everything', 'aside', 'from', 'mons', 'just', 'ask'\n",
      "'if', 'you', 'need', 'something', 'in', 'particular', 'and', 'i'll', 'let', 'you'\n",
      "'know', 'if', 'i', 'have', 'it'\n"
     ]
    }
   ],
   "source": [
    "import re\n",
    "\n",
    "def to_words(text):\n",
    "    # remove Markdown links\n",
    "    text = re.sub(r'\\[([^\\]]+)\\]\\([^)]+\\)', r'\\1', text)\n",
    "    # split on spaces\n",
    "    words = text.split()\n",
    "    # remove links (heuristically)\n",
    "    words = [w for w in words if not w.startswith('http') and not w.startswith('www')]\n",
    "    # convert curly double/single quotes to plain single quotes\n",
    "    words = [w.replace('“', \"'\").replace('”', \"'\").replace('‘', \"'\").replace('’', \"'\") for w in words]\n",
    "    # split on other punctuation (except apostrophes and hyphens) and convert to lowercase\n",
    "    words = [w for word in words for w in re.split(r\"[^A-Za-z0-9'-]+\", word.lower())]\n",
    "    # remove apostrophes and hyphens at either end\n",
    "    words = [re.sub(r\"^['-]+|['-]+$\", '', w) for w in words]\n",
    "    # get rid of anything that doesn't have at least one letter\n",
    "    return [s for s in words if any(c.isalpha() for c in s)]\n",
    "    \n",
    "example_words = to_words(df.iloc[1].body)\n",
    "\n",
    "# same as printing example_words directly, but split over lines\n",
    "for i in range(0, len(example_words), 10):\n",
    "    print(', '.join(\"'\" + s + \"'\" for s in example_words[i:i + 10]))"
   ]
  },
  {
   "cell_type": "code",
   "execution_count": 5,
   "metadata": {},
   "outputs": [
    {
     "data": {
      "text/html": [
       "<div>\n",
       "<style scoped>\n",
       "    .dataframe tbody tr th:only-of-type {\n",
       "        vertical-align: middle;\n",
       "    }\n",
       "\n",
       "    .dataframe tbody tr th {\n",
       "        vertical-align: top;\n",
       "    }\n",
       "\n",
       "    .dataframe thead th {\n",
       "        text-align: right;\n",
       "    }\n",
       "</style>\n",
       "<table border=\"1\" class=\"dataframe\">\n",
       "  <thead>\n",
       "    <tr style=\"text-align: right;\">\n",
       "      <th></th>\n",
       "      <th>id</th>\n",
       "      <th>body_words</th>\n",
       "      <th>title_words</th>\n",
       "      <th>all_words</th>\n",
       "      <th>vote</th>\n",
       "    </tr>\n",
       "  </thead>\n",
       "  <tbody>\n",
       "    <tr>\n",
       "      <th>0</th>\n",
       "      <td>13gxmuw</td>\n",
       "      <td>[hello, im, currently, in, the, process, of, b...</td>\n",
       "      <td>[lf, drilbur, and, solosis, ft, ask]</td>\n",
       "      <td>[hello, im, currently, in, the, process, of, b...</td>\n",
       "      <td>False</td>\n",
       "    </tr>\n",
       "    <tr>\n",
       "      <th>1</th>\n",
       "      <td>13gx0eg</td>\n",
       "      <td>[i've, got, pretty, much, everything, aside, f...</td>\n",
       "      <td>[lf, 6iv, non-english, ditto, ft, apriballs, a...</td>\n",
       "      <td>[i've, got, pretty, much, everything, aside, f...</td>\n",
       "      <td>False</td>\n",
       "    </tr>\n",
       "    <tr>\n",
       "      <th>2</th>\n",
       "      <td>13gwnha</td>\n",
       "      <td>[also, open, to, other, event, offers, gen, sh...</td>\n",
       "      <td>[lf, h-zoroark, and, flabebe, codes, jiseok, l...</td>\n",
       "      <td>[also, open, to, other, event, offers, gen, sh...</td>\n",
       "      <td>False</td>\n",
       "    </tr>\n",
       "    <tr>\n",
       "      <th>3</th>\n",
       "      <td>13gw0vt</td>\n",
       "      <td>[hi, i'm, looking, for, a, stonjourner, yamask...</td>\n",
       "      <td>[lf, apriball, stonjourner, yamask, honedge, h...</td>\n",
       "      <td>[hi, i'm, looking, for, a, stonjourner, yamask...</td>\n",
       "      <td>True</td>\n",
       "    </tr>\n",
       "    <tr>\n",
       "      <th>4</th>\n",
       "      <td>13gw04b</td>\n",
       "      <td>[it's, the, only, raid, exclusive, that, i'm, ...</td>\n",
       "      <td>[lf, sobble, ft, scarlet, exclusives, raid, ex...</td>\n",
       "      <td>[it's, the, only, raid, exclusive, that, i'm, ...</td>\n",
       "      <td>False</td>\n",
       "    </tr>\n",
       "  </tbody>\n",
       "</table>\n",
       "</div>"
      ],
      "text/plain": [
       "        id                                         body_words  \\\n",
       "0  13gxmuw  [hello, im, currently, in, the, process, of, b...   \n",
       "1  13gx0eg  [i've, got, pretty, much, everything, aside, f...   \n",
       "2  13gwnha  [also, open, to, other, event, offers, gen, sh...   \n",
       "3  13gw0vt  [hi, i'm, looking, for, a, stonjourner, yamask...   \n",
       "4  13gw04b  [it's, the, only, raid, exclusive, that, i'm, ...   \n",
       "\n",
       "                                         title_words  \\\n",
       "0               [lf, drilbur, and, solosis, ft, ask]   \n",
       "1  [lf, 6iv, non-english, ditto, ft, apriballs, a...   \n",
       "2  [lf, h-zoroark, and, flabebe, codes, jiseok, l...   \n",
       "3  [lf, apriball, stonjourner, yamask, honedge, h...   \n",
       "4  [lf, sobble, ft, scarlet, exclusives, raid, ex...   \n",
       "\n",
       "                                           all_words   vote  \n",
       "0  [hello, im, currently, in, the, process, of, b...  False  \n",
       "1  [i've, got, pretty, much, everything, aside, f...  False  \n",
       "2  [also, open, to, other, event, offers, gen, sh...  False  \n",
       "3  [hi, i'm, looking, for, a, stonjourner, yamask...   True  \n",
       "4  [it's, the, only, raid, exclusive, that, i'm, ...  False  "
      ]
     },
     "execution_count": 5,
     "metadata": {},
     "output_type": "execute_result"
    }
   ],
   "source": [
    "df_processed = (df.assign(body_words=df.body.apply(to_words))\n",
    "                  .assign(title_words=df.title.apply(to_words))\n",
    "                  .assign(all_words=lambda df: df.body_words + df.title_words)\n",
    "                  .loc[:, ['id', 'body_words', 'title_words', 'all_words', 'vote']])\n",
    "df_processed.head()"
   ]
  },
  {
   "attachments": {},
   "cell_type": "markdown",
   "metadata": {},
   "source": [
    "From this, we can obtain the set of all words which appear in either the body or the post.\n",
    "\n",
    "We can use Python's set data structure to elegantly get rid of duplicates.\n",
    "However, because sets are [not ordered](https://docs.python.org/3/tutorial/datastructures.html#sets), we shall then convert them into dictionaries (and sort for good measure)."
   ]
  },
  {
   "cell_type": "code",
   "execution_count": 6,
   "metadata": {},
   "outputs": [
    {
     "name": "stdout",
     "output_type": "stream",
     "text": [
      "Body vocabulary size: 8035\n",
      "Title vocabulary size: 2858\n",
      "Overall vocabulary size: 8486\n",
      "Example words: ['bookeeping', 'drizzile', 'flabebe', 'town', 'memelord', 'deino', 'ok-procedure-8251', 'wont', 'sparse', 'sandiles']\n"
     ]
    }
   ],
   "source": [
    "import numpy as np\n",
    "\n",
    "body_vocabulary_set = {word for text in df_processed.body_words for word in text}\n",
    "title_vocabulary_set = {word for text in df_processed.title_words for word in text}\n",
    "vocabulary_set = body_vocabulary_set | title_vocabulary_set\n",
    "\n",
    "body_vocabulary = dict(zip(sorted(list(body_vocabulary_set)), range(len(body_vocabulary_set))))\n",
    "title_vocabulary = dict(zip(sorted(list(title_vocabulary_set)), range(len(title_vocabulary_set))))\n",
    "vocabulary = dict(zip(sorted(list(vocabulary_set)), range(len(vocabulary_set))))\n",
    "\n",
    "print(f'Body vocabulary size: {len(body_vocabulary)}')\n",
    "print(f'Title vocabulary size: {len(title_vocabulary)}')\n",
    "print(f'Overall vocabulary size: {len(vocabulary)}')\n",
    "\n",
    "import random\n",
    "random.seed(a=1815)    # Year of publication of Jane Austen's \"Emma\" --- my favourite book.\n",
    "print(f'Example words: {random.sample(list(vocabulary.keys()), 10)}')"
   ]
  },
  {
   "attachments": {},
   "cell_type": "markdown",
   "metadata": {},
   "source": [
    "This means that our *post bodies* can be represented by 8035-length vectors, and *post titles* by 2858-length vectors.\n",
    "\n",
    "Alternatively, if we just want to obtain a single representation of a post, we can just use a 8486-length vector.\n",
    "However, this sacrifices some information compared to treating them separately, as we can no longer tell whether a word occurred in the body or the title.\n",
    "\n",
    "Here are the three *design matrices* we can obtain with these representations.\n",
    "Each row in the design matrix corresponds to one observation, and each column corresponds to one feature.\n",
    "Thus, if we have $m$ posts and $n$ features, the design matrix should have the shape $(m \\times n)$.\n",
    "\n",
    "We'll first try to read the design matrices from files that we've saved on a previous notebook run.\n",
    "If these don't exist, then we can regenerate them from the dataframes above, which takes a few minutes."
   ]
  },
  {
   "cell_type": "code",
   "execution_count": 7,
   "metadata": {},
   "outputs": [
    {
     "name": "stdout",
     "output_type": "stream",
     "text": [
      "(5792, 8035)\n",
      "(5792, 2858)\n",
      "(5792, 8486)\n"
     ]
    }
   ],
   "source": [
    "def get_feature_vector(words: list[str], vocab: np.ndarray):\n",
    "    feat = np.zeros(len(vocab))\n",
    "    for word in words:\n",
    "        try:\n",
    "            feat[vocab[word]] = 1\n",
    "        except KeyError:\n",
    "            pass\n",
    "    return feat\n",
    "    \n",
    "from pathlib import Path\n",
    "\n",
    "def make_design_matrix(words_series, vocab):\n",
    "    return np.array([get_feature_vector(words, vocab) for words in words_series])\n",
    "        \n",
    "X_body = make_design_matrix(df_processed['body_words'], body_vocabulary)\n",
    "X_title = make_design_matrix(df_processed['title_words'], title_vocabulary)\n",
    "X_overall = make_design_matrix(df_processed['all_words'], vocabulary)\n",
    "\n",
    "print(X_body.shape)\n",
    "print(X_title.shape)\n",
    "print(X_overall.shape)"
   ]
  },
  {
   "attachments": {},
   "cell_type": "markdown",
   "metadata": {},
   "source": [
    "We should also generate a vector of targets:"
   ]
  },
  {
   "cell_type": "code",
   "execution_count": 8,
   "metadata": {},
   "outputs": [
    {
     "data": {
      "text/plain": [
       "(5792,)"
      ]
     },
     "execution_count": 8,
     "metadata": {},
     "output_type": "execute_result"
    }
   ],
   "source": [
    "T = df_processed.vote.to_numpy()\n",
    "T.shape"
   ]
  },
  {
   "attachments": {},
   "cell_type": "markdown",
   "metadata": {},
   "source": [
    "We've done all of this by hand so far.\n",
    "\n",
    "In fact, `scikit-learn` provides functions which do almost exactly the same thing as what we've done above, except that the default tokenisation process (i.e. converting the text into individual words, or tokens) is somewhat different.\n",
    "As it turns out, the biggest differences are to do with apostrophes and hyphens—which we've specifically retained.\n",
    "For example, `scikit-learn` splits 'on-hand' into 'on' and 'hand'.\n",
    "It also deletes words that are one character long, such as 'I' and 'a'.\n",
    "Quoting from [its documentation](https://scikit-learn.org/stable/modules/generated/sklearn.feature_extraction.text.CountVectorizer.html):\n",
    "\n",
    "> The default regexp select *(sic)* tokens of 2 or more alphanumeric characters (punctuation is completely ignored and always treated as a token separator)."
   ]
  },
  {
   "cell_type": "code",
   "execution_count": 9,
   "metadata": {},
   "outputs": [
    {
     "name": "stdout",
     "output_type": "stream",
     "text": [
      "Number of differences: 19890 (0.04% out of 49150912 entries)\n",
      "Top differences, accounting for 11254 of the above: \n",
      "- ('i', 3142)\n",
      "- ('a', 2524)\n",
      "- (\"i'm\", 1253)\n",
      "- (\"don't\", 640)\n",
      "- ('don', 640)\n",
      "- (\"i'll\", 421)\n",
      "- (\"i'd\", 247)\n",
      "- ('self', 230)\n",
      "- (\"you're\", 226)\n",
      "- ('on-hands', 206)\n",
      "- (\"i've\", 201)\n",
      "- ('hands', 195)\n",
      "- ('non', 182)\n",
      "- (\"it's\", 179)\n",
      "- ('x', 173)\n",
      "- ('r', 171)\n",
      "- ('on-hand', 168)\n",
      "- ('on', 166)\n",
      "- ('hand', 145)\n",
      "- ('h', 145)\n"
     ]
    }
   ],
   "source": [
    "from sklearn.feature_extraction.text import CountVectorizer\n",
    "\n",
    "vectorizer = CountVectorizer(binary=True, vocabulary=vocabulary.keys())\n",
    "# Note that here, we're feeding scikit-learn a nicely sanitised string that is\n",
    "# obtained by joining our own tokens together. If we were to directly feed it\n",
    "# the Markdown text, it would probably churn out a bunch of rubbish.\n",
    "X_overall_sklearn = vectorizer.fit_transform(df_processed.all_words.apply(lambda ws: \" \".join(ws))).toarray()\n",
    "X_overall_sklearn.shape\n",
    "\n",
    "# How different are X_overall and X_overall_sklearn?\n",
    "differences = (X_overall != X_overall_sklearn)\n",
    "print(f'Number of differences: {differences.sum()} ({differences.sum() / X_overall.size:.2%} out of {X_overall.size} entries)')\n",
    "\n",
    "# Which columns have the most difference?\n",
    "differences_by_column = differences.sum(axis=0)\n",
    "most_different_columns = np.argpartition(differences_by_column, -20)[-20:]\n",
    "most_different_words = [(list(vocabulary.keys())[i], differences_by_column[i]) for i in most_different_columns]\n",
    "print(f'Top differences, accounting for {sum(t[1] for t in most_different_words)} of the above: ')\n",
    "for t in sorted(most_different_words, key=lambda t: t[1], reverse=True):\n",
    "    print('-', t)"
   ]
  },
  {
   "attachments": {},
   "cell_type": "markdown",
   "metadata": {},
   "source": [
    "If we feed `scikit-learn` the appropriate `token_pattern` argument, though, then it turns out that we can exactly reproduce our manual featurisation:"
   ]
  },
  {
   "cell_type": "code",
   "execution_count": 10,
   "metadata": {},
   "outputs": [
    {
     "name": "stdout",
     "output_type": "stream",
     "text": [
      "Number of differences: 0 (0.00% out of 49150912 entries)\n"
     ]
    }
   ],
   "source": [
    "from sklearn.feature_extraction.text import CountVectorizer\n",
    "\n",
    "vectorizer2 = CountVectorizer(binary=True, vocabulary=vocabulary.keys(), token_pattern=r'\\b[A-Za-z0-9][A-Za-z0-9\\'-]*[A-Za-z0-9]\\b|\\b[A-Za-z]\\b')\n",
    "X_overall_sklearn2 = vectorizer2.fit_transform(df_processed.all_words.apply(lambda ws: \" \".join(ws))).toarray()\n",
    "\n",
    "# How different are X_overall and X_overall_sklearn2?\n",
    "differences = (X_overall != X_overall_sklearn2)\n",
    "print(f'Number of differences: {differences.sum()} ({differences.sum() / X_overall.size:.2%} out of {X_overall.size} entries)')"
   ]
  },
  {
   "attachments": {},
   "cell_type": "markdown",
   "metadata": {},
   "source": [
    "# Train/test split\n",
    "\n",
    "At this point, we split our dataset up into two portions: 80% for training, and 20% for testing.\n",
    "\n",
    "The fact that we performed featurisation before the data were split is not a problem with the present model we are using.\n",
    "It is true that the training set will contain 'features' that only exist in the test set, but the value of such features will always be zero (since they do not appear in the training set), and a feature that is always zero should not be captured by the resulting model."
   ]
  },
  {
   "cell_type": "code",
   "execution_count": 11,
   "metadata": {},
   "outputs": [],
   "source": [
    "random.seed(a=1815)\n",
    "n = X_overall.shape[0]\n",
    "test_indices = random.sample(range(n), n // 5)\n",
    "test_indices_mask = np.zeros(n)\n",
    "test_indices_mask[test_indices] = 1\n",
    "\n",
    "X_body_train = X_body[test_indices_mask == 0]\n",
    "X_body_test = X_body[test_indices_mask == 1]\n",
    "\n",
    "X_title_train = X_title[test_indices_mask == 0]\n",
    "X_title_test = X_title[test_indices_mask == 1]\n",
    "\n",
    "X_overall_train = X_overall[test_indices_mask == 0]\n",
    "X_overall_test = X_overall[test_indices_mask == 1]\n",
    "\n",
    "T_train = T[test_indices_mask == 0]\n",
    "T_test = T[test_indices_mask == 1]"
   ]
  },
  {
   "attachments": {},
   "cell_type": "markdown",
   "metadata": {},
   "source": [
    "We should check the distribution of positive and negative posts in our training and test set to make sure that they aren't skewed."
   ]
  },
  {
   "cell_type": "code",
   "execution_count": 12,
   "metadata": {},
   "outputs": [
    {
     "name": "stdout",
     "output_type": "stream",
     "text": [
      "Aprimon posts in training set: 1148/4634 = 24.77%\n",
      "Aprimon posts in test set: 294/1158 = 25.39%\n"
     ]
    }
   ],
   "source": [
    "print(f'Aprimon posts in training set: {(T_train == 1).sum()}/{T_train.size} = {(T_train == 1).sum() / T_train.size:.2%}')\n",
    "print(f'Aprimon posts in test set: {(T_test == 1).sum()}/{T_test.size} = {(T_test == 1).sum() / T_test.size:.2%}')"
   ]
  },
  {
   "attachments": {},
   "cell_type": "markdown",
   "metadata": {},
   "source": [
    "# Naive Bayes\n",
    "\n",
    "The first model we'll use is a *naive Bayes model*.\n",
    "As the name suggests, this is based on Bayes's theorem.\n",
    "Let $r = [r_1, r_2, \\ldots, r_n]$ be a Reddit post containing a set of words, $R$ be the random variable that corresponds to a post, and $A$ be the event that the post is assigned as an Aprimon trade. Then:\n",
    "\n",
    "$$P(A|R=r) = \\frac{P(R=r|A) P(A)}{P(R=r)}.$$\n",
    "\n",
    "The *naive* part means that we assume that each feature of $R$ contributes independently to whether or not it is an Aprimon post.\n",
    "Mathematically, this means that\n",
    "\n",
    "$$P(R = r) = P(R_1 = r_1)P(R_2 = r_2)\\cdots P(R_n = r_n),$$\n",
    "\n",
    "and thus\n",
    "\n",
    "$$P(A|R = r) = \\frac{P(R_1 = r_1|A)P(R_2 = r_2|A)\\cdots P(R_n = r_n|A) P(A)}{P(R_1 = r_1) P(R_2 = r_2) \\cdots P(R_n = r_n)}.$$\n",
    "\n",
    "Note, here, that $R_i$ is a *random variable* which can take two values, 0 or 1.\n",
    "The value which it actually takes on in a given post is denoted by $r_i$.\n",
    "\n",
    "Traditionally, the denominator is not explicitly calculated because it is a constant.\n",
    "Calculating only the numerator gives us unnormalised 'probabilities', which on their own cannot be interpreted.\n",
    "\n",
    "However, if we calculate these unnormalised 'probabilities' for different classes and compare their magnitudes, we can directly compare these values to determine which class is the most suitable.\n",
    "In our case, we only have two classes, so we need to calculate\n",
    "\n",
    " - $P(R_1 = r_1|A)P(R_2 = r_2|A)\\cdots P(R_n = r_n|A)P(A)$\n",
    " - $P(R_1 = r_1|\\bar{A})P(R_2 = r_2|\\bar{A})\\cdots P(R_n = r_n|\\bar{A})P(\\bar{A})$\n",
    " \n",
    "where $\\bar{A}$ is the event where the post is *not* an Aprimon trade."
   ]
  },
  {
   "attachments": {},
   "cell_type": "markdown",
   "metadata": {},
   "source": [
    "Let's work with the *entire post* first, i.e., the 8486-sized vectors in `X_overall`.\n",
    "\n",
    "To use this model, we need to calculate:\n",
    "\n",
    " - The value of $P(R_i = 1 | A)$ for each $i$. This is simply the proportion of Aprimon posts where the word $i$ is seen. (And we can then get $P(R_i = 0 | A) = 1 - P(R_i = 1 | A)$.)\n",
    " - $P(A)$. This is the overall proportion of Aprimon posts.\n",
    " \n",
    "and the same for the non-Aprimon posts."
   ]
  },
  {
   "cell_type": "code",
   "execution_count": 13,
   "metadata": {},
   "outputs": [],
   "source": [
    "hit_indices = T_train.nonzero()[0]\n",
    "miss_indices = (T_train == 0).nonzero()[0]\n",
    "\n",
    "hits = X_overall_train[hit_indices]\n",
    "misses = X_overall_train[miss_indices]\n",
    "\n",
    "n_hits = hits.shape[0]\n",
    "n_misses = misses.shape[0]\n",
    "\n",
    "p_A = n_hits / (n_hits + n_misses)\n",
    "p_notA = n_misses / (n_hits + n_misses)\n",
    "\n",
    "p_word_given_A = hits.sum(axis=0) / n_hits\n",
    "p_word_given_notA = misses.sum(axis=0) / n_misses"
   ]
  },
  {
   "attachments": {},
   "cell_type": "markdown",
   "metadata": {},
   "source": [
    "By the way, instead of multiplying all these probabilities together (which gives us a very, very tiny number), we will sum their logarithms instead.\n",
    "This makes the process more numerically stable.\n",
    "\n",
    "Now, we have `p_word_given_A` as a vector of length $n$ where the $i$-th element is $P(R_i = 1 | A)$.\n",
    "This also means that the $i$-th element of `1 - p_word_given_A` is $P(R_1 = 0 | A)$.\n",
    "\n",
    "The central quantity we need to calculate is the (logarithm of the) *likelihood*,\n",
    "\n",
    "$$LL(A) = \\log \\left[ \\prod_{i=1}^n P(R_i = r_i | A) \\right] = \\sum_{i=1}^n \\log[P(R_i = r_i|A)]$$\n",
    "\n",
    "If we break this sum up into the cases where $r_i = 1$ and $0$ respectively, then we can re-express this as\n",
    "\n",
    "$$\\begin{align}\n",
    "LL(A) &= \\sum_{r_i = 1} \\log[P(r_i = 1 | A)] + \\sum_{r_i = 0} \\log[P(r_i = 0 | A)] \\\\\n",
    "      &= \\sum_{r_i = 1} \\log[P(r_i = 1 | A)] + \\sum_{r_i = 0} \\log[1 - P(r_i = 1 | A)] \\\\\n",
    "      &= \\sum_{i} r_i \\log[P(r_i = 1 | A)] + \\sum_{i} (1 - r_i) \\log[1 - P(r_i = 1 | A)]\n",
    "\\end{align}$$\n",
    "\n",
    "where the term $r_i$ removes the cases where $r_i = 0$ from the first sum, and the term $(1 - r_i)$ removes the cases where $r_i = 1$ from the second.\n",
    "Re-combining the sums:\n",
    "\n",
    "$$LL(A) = \\sum_{i} r_i \\log[P(r_i = 1 | A)] + (1 - r_i) \\log[1 - P(r_i = 1 | A)]$$\n",
    "\n",
    "The (logarithm of the) posterior probability is the log likelihood $LL(A)$, plus the log of $P(A)$.\n",
    "\n",
    "Finally, we perform the same analysis for $\\bar{A}$."
   ]
  },
  {
   "cell_type": "code",
   "execution_count": 14,
   "metadata": {},
   "outputs": [],
   "source": [
    "def log_posterior_A(post: np.ndarray):\n",
    "    return np.sum(post * np.log(p_word_given_A) + (1 - post) * np.log(1 - p_word_given_A)) + np.log(p_A)\n",
    "    \n",
    "def log_posterior_notA(post: np.ndarray):\n",
    "    return np.sum(post * np.log(p_word_given_notA) + (1 - post) * np.log(1 - p_word_given_notA)) + np.log(p_notA)"
   ]
  },
  {
   "attachments": {},
   "cell_type": "markdown",
   "metadata": {},
   "source": [
    "Let's try it on a random post!"
   ]
  },
  {
   "cell_type": "code",
   "execution_count": 15,
   "metadata": {},
   "outputs": [
    {
     "name": "stdout",
     "output_type": "stream",
     "text": [
      "['and', 'any', 'as', 'bagon', 'charmander', 'chespin', 'clauncher', 'cyndaquil', 'exclusive', 'ft', 'fuecoco', 'gengar', 'gulpin', 'lf', 'misdreavous', 'oshawhatt', 'paradox', 'scizor', 'scorbunny', 'slowking', 'sobble', 'sprigato', 'violet', 'well']\n",
      "log P(A | post) is proportional to: nan\n",
      "log P(not A | post) is proportional to: nan\n"
     ]
    },
    {
     "name": "stderr",
     "output_type": "stream",
     "text": [
      "/var/folders/17/5jmhtwzx1zs4l2krr8v78rv40000gp/T/ipykernel_38771/1578725877.py:2: RuntimeWarning: divide by zero encountered in log\n",
      "  return np.sum(post * np.log(p_word_given_A) + (1 - post) * np.log(1 - p_word_given_A)) + np.log(p_A)\n",
      "/var/folders/17/5jmhtwzx1zs4l2krr8v78rv40000gp/T/ipykernel_38771/1578725877.py:2: RuntimeWarning: invalid value encountered in multiply\n",
      "  return np.sum(post * np.log(p_word_given_A) + (1 - post) * np.log(1 - p_word_given_A)) + np.log(p_A)\n",
      "/var/folders/17/5jmhtwzx1zs4l2krr8v78rv40000gp/T/ipykernel_38771/1578725877.py:5: RuntimeWarning: divide by zero encountered in log\n",
      "  return np.sum(post * np.log(p_word_given_notA) + (1 - post) * np.log(1 - p_word_given_notA)) + np.log(p_notA)\n",
      "/var/folders/17/5jmhtwzx1zs4l2krr8v78rv40000gp/T/ipykernel_38771/1578725877.py:5: RuntimeWarning: invalid value encountered in multiply\n",
      "  return np.sum(post * np.log(p_word_given_notA) + (1 - post) * np.log(1 - p_word_given_notA)) + np.log(p_notA)\n"
     ]
    }
   ],
   "source": [
    "sample_post = X_overall_train[10]\n",
    "\n",
    "# Let's see what words it contains\n",
    "print([list(vocabulary.keys())[i] for i in sample_post.nonzero()[0]])\n",
    "\n",
    "# What does the model predict?\n",
    "print(f'log P(A | post) is proportional to: {log_posterior_A(sample_post):.2f}')\n",
    "print(f'log P(not A | post) is proportional to: {log_posterior_notA(sample_post):.2f}')"
   ]
  },
  {
   "attachments": {},
   "cell_type": "markdown",
   "metadata": {},
   "source": [
    "Whoopsies. What happened?\n",
    "\n",
    "The error above suggests that we tried to take the logarithm of zero, which in turn means that $P(r_i | A)$ was zero for some $i$.\n",
    "This can, happen if *none* (or indeed, *all*) of the Aprimon posts we've seen contain a given word.\n",
    "\n",
    "To fix this, we need to perform some kind of smoothing.\n",
    "The most common is to 'add in' a number, $\\alpha$, of 'pseudo-posts' which contain *every word* to each class.\n",
    "Previously, we had that\n",
    "\n",
    "$$P(R_i = 1 | A) = \\frac{N(R_i = 1 | A)}{N(R_i = 0 | A) + N(R_i = 1 | A)},$$\n",
    "\n",
    "where $N(R_i = 1 | A)$ is the number of Aprimon posts which contain the word $i$.\n",
    "We now add $\\alpha$ 'posts' which contain the word and another $\\alpha$ which don't, so that instead of the above,\n",
    "\n",
    "$$P(R_i = 1 | A) = \\frac{N(R_1 = 1 | A) + \\alpha}{N(R_1 = 0 | A) + N(R_1 = 1 | A) + 2\\alpha}.$$\n",
    "\n",
    "There's no stipulation on what the value of $\\alpha$ should be (it doesn't have to be an integer!)\n",
    "Larger values tend to smear the probabilities towards being uniform (consider the case where $\\alpha \\gg N$); we can view this as being a very strong prior.\n",
    "Conversely, a smaller value corresponds to a weaker prior.\n",
    "\n",
    "For now, let's try with $\\alpha = 1$."
   ]
  },
  {
   "cell_type": "code",
   "execution_count": 16,
   "metadata": {},
   "outputs": [
    {
     "name": "stdout",
     "output_type": "stream",
     "text": [
      "smoothed log P(A | post) is proportional to: -151.99\n",
      "smoothed log P(not A | post) is proportional to: -128.37\n"
     ]
    }
   ],
   "source": [
    "def get_smoothed_probabilities(alpha: float):\n",
    "    p_word_given_A = (hits.sum(axis=0) + alpha) / (n_hits + 2 * alpha)\n",
    "    p_word_given_notA = (misses.sum(axis=0) + alpha) / (n_misses + 2 * alpha)\n",
    "    return p_word_given_A, p_word_given_notA\n",
    "\n",
    "p_word_given_A_smoothed, p_word_given_notA_smoothed = get_smoothed_probabilities(alpha=1)\n",
    "\n",
    "def log_posterior_A_smoothed(post: np.ndarray):\n",
    "    return np.sum(post * np.log(p_word_given_A_smoothed) + (1 - post) * np.log(1 - p_word_given_A_smoothed)) + np.log(p_A)\n",
    "    \n",
    "def log_posterior_notA_smoothed(post: np.ndarray):\n",
    "    return np.sum(post * np.log(p_word_given_notA_smoothed) + (1 - post) * np.log(1 - p_word_given_notA_smoothed)) + np.log(p_notA)\n",
    "\n",
    "print(f'smoothed log P(A | post) is proportional to: {log_posterior_A_smoothed(sample_post):.2f}')\n",
    "print(f'smoothed log P(not A | post) is proportional to: {log_posterior_notA_smoothed(sample_post):.2f}')"
   ]
  },
  {
   "attachments": {},
   "cell_type": "markdown",
   "metadata": {},
   "source": [
    "Since the logarithm is a monotonically increasing function, a larger $\\log(P)$ corresponds to a larger $P$, and so we want to choose the class which has the largest $\\log(P)$—which in this case is *not A*.\n",
    "Our model has thus assigned this post to *not* an Aprimon post, which seems sensible given its contents!\n",
    "\n",
    "The difference between the two log-probabilities (which corresponds to a ratio of probabilities) tells us how certain our model is of its assignment.\n",
    "We won't use it here, though, because these are generally really large (or really small) numbers which don't provide any kind of subtlety.\n",
    "So, we'll make do with just assigning a label based on which log-probability is larger."
   ]
  },
  {
   "cell_type": "code",
   "execution_count": 17,
   "metadata": {},
   "outputs": [
    {
     "data": {
      "image/png": "[encoded data removed]",
      "text/plain": [
       "<Figure size 640x480 with 2 Axes>"
      ]
     },
     "metadata": {},
     "output_type": "display_data"
    }
   ],
   "source": [
    "def assign_label(post: np.ndarray):\n",
    "    return 1 if log_posterior_A_smoothed(post) > log_posterior_notA_smoothed(post) else 0\n",
    "\n",
    "test_predictions = np.array([assign_label(post) for post in X_overall_test])\n",
    "\n",
    "cm_naive_bayes = confusion_matrix(y_true=T_test, y_pred=test_predictions)\n",
    "disp = ConfusionMatrixDisplay(confusion_matrix=cm_naive_bayes, display_labels=['not Aprimon', 'Aprimon'])\n",
    "disp.plot()\n",
    "plt.title(\"Naive Bayes performance on test set\")\n",
    "plt.show()"
   ]
  },
  {
   "attachments": {},
   "cell_type": "markdown",
   "metadata": {},
   "source": [
    "And let's calculate the same metrics as before..."
   ]
  },
  {
   "cell_type": "code",
   "execution_count": 18,
   "metadata": {},
   "outputs": [
    {
     "name": "stdout",
     "output_type": "stream",
     "text": [
      "accuracy:    86.79%\n",
      "sensitivity: 67.69%\n",
      "specificity: 93.29%\n"
     ]
    }
   ],
   "source": [
    "accuracy, sensitivity, specificity = get_metrics(y_true=T_test, y_pred=test_predictions)\n",
    "print(f'accuracy:    {accuracy:.2%}')\n",
    "print(f'sensitivity: {sensitivity:.2%}')\n",
    "print(f'specificity: {specificity:.2%}')"
   ]
  },
  {
   "attachments": {},
   "cell_type": "markdown",
   "metadata": {},
   "source": [
    "This is to be compared with our original keyword-searching mechanism:\n",
    "\n",
    "- Accuracy:    80.92%\n",
    "- Sensitivity: 99.24%\n",
    "- Specificity: 74.85%\n",
    "\n",
    "So it seems that we have gotten a lot better at eliminating false-positives (specificity), with a compromise in that there are now more false-negatives (sensitivity).\n",
    "Overall, accuracy has gone up: this is not very surprising, because there are more negatives than positives to begin with.\n",
    "So, if we do a better job at identifying negatives but a poorer job at identifying positives, our overall accuracy should go up."
   ]
  },
  {
   "attachments": {},
   "cell_type": "markdown",
   "metadata": {},
   "source": [
    "Incidentally, let's try to do this with `scikit-learn`'s functions instead, to make sure that we did everything correctly."
   ]
  },
  {
   "cell_type": "code",
   "execution_count": 19,
   "metadata": {},
   "outputs": [
    {
     "data": {
      "image/png": "[encoded data removed]",
      "text/plain": [
       "<Figure size 640x480 with 2 Axes>"
      ]
     },
     "metadata": {},
     "output_type": "display_data"
    }
   ],
   "source": [
    "# We are using 'BernoulliNB' because we assume that the $R_i$'s obey the Bernoulli distribution, i.e. 0 or 1 only.\n",
    "from sklearn.naive_bayes import BernoulliNB\n",
    "\n",
    "classifier = BernoulliNB(alpha=1)\n",
    "classifier.fit(X_overall_train, T_train)\n",
    "sklearn_predictions = classifier.predict(X_overall_test)\n",
    "\n",
    "cm_naive_bayes = confusion_matrix(y_true=T_test, y_pred=sklearn_predictions)\n",
    "disp = ConfusionMatrixDisplay(confusion_matrix=cm_naive_bayes, display_labels=['not Aprimon', 'Aprimon'])\n",
    "disp.plot()\n",
    "plt.title(\"Naive Bayes performance on test set (from scikit-learn)\")\n",
    "plt.show()"
   ]
  },
  {
   "attachments": {},
   "cell_type": "markdown",
   "metadata": {},
   "source": [
    "Hooray! :)"
   ]
  }
 ],
 "metadata": {
  "kernelspec": {
   "display_name": "Python 3",
   "language": "python",
   "name": "python3"
  },
  "language_info": {
   "codemirror_mode": {
    "name": "ipython",
    "version": 3
   },
   "file_extension": ".py",
   "mimetype": "text/x-python",
   "name": "python",
   "nbconvert_exporter": "python",
   "pygments_lexer": "ipython3",
   "version": "3.10.9"
  },
  "orig_nbformat": 4
 },
 "nbformat": 4,
 "nbformat_minor": 2
}
